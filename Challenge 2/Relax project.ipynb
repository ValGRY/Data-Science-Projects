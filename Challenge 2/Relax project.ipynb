{
 "cells": [
  {
   "cell_type": "markdown",
   "id": "03757207",
   "metadata": {},
   "source": [
    "# Relax Project"
   ]
  },
  {
   "cell_type": "markdown",
   "id": "70b6c07d",
   "metadata": {},
   "source": [
    "Defining an \"adopted user\" as a user who has logged into the product on three separate\n",
    "days in at least one sevenday period.      \n",
    "Identify which factors predict future user adoption"
   ]
  },
  {
   "cell_type": "markdown",
   "id": "e4450a5f",
   "metadata": {},
   "source": [
    "**name:** the user's name    \n",
    "**object_id:** the user's id    \n",
    "**email:** email address    \n",
    "**creation_source:** how their account was created. This takes on one of 5 values:    \n",
    "**○ PERSONAL_PROJECTS:** invited to join another user's personal workspace    \n",
    "**○ GUEST_INVITE:** invited to an organization as a guest (limited permissions)    \n",
    "**○ ORG_INVITE:** invited to an organization (as a full member)    \n",
    "**○ SIGNUP:** signed up via the website      \n",
    "**○ SIGNUP_GOOGLE_AUTH:** signed up using Google Authentication(using a Google email account for their login id)      \n",
    "**creation_time:** when they created their account            \n",
    "**last_session_creation_time:** unix timestamp of last login          \n",
    "**opted_in_to_mailing_list:** whether they have opted into receiving marketing emails           \n",
    "**enabled_for_marketing_drip:** whether they are on the regular marketing email drip        \n",
    "**org_id:** the organization (group of users) they belong to        \n",
    "**invited_by_user_id:** which user invited them to join (if applicable)        "
   ]
  },
  {
   "cell_type": "code",
   "execution_count": 1,
   "id": "4488390b",
   "metadata": {},
   "outputs": [],
   "source": [
    "import pandas as pd\n",
    "import numpy as np\n",
    "import matplotlib.pyplot as plt\n",
    "import seaborn as sns"
   ]
  },
  {
   "cell_type": "code",
   "execution_count": 2,
   "id": "1c141bb9",
   "metadata": {},
   "outputs": [],
   "source": [
    "df = pd.read_csv(r'C:\\Users\\vikag\\Desktop\\ONGOING!!!!\\relax_challenge\\takehome_users.csv',\n",
    "                 encoding = 'latin-1',parse_dates=['creation_time'])\n",
    "\n",
    "df_e = pd.read_csv(r'C:\\Users\\vikag\\Desktop\\ONGOING!!!!\\relax_challenge\\takehome_user_engagement.csv',\n",
    "                   encoding = 'latin-1', parse_dates=['time_stamp'])"
   ]
  },
  {
   "cell_type": "code",
   "execution_count": 3,
   "id": "ee566cdf",
   "metadata": {},
   "outputs": [
    {
     "data": {
      "text/html": [
       "<div>\n",
       "<style scoped>\n",
       "    .dataframe tbody tr th:only-of-type {\n",
       "        vertical-align: middle;\n",
       "    }\n",
       "\n",
       "    .dataframe tbody tr th {\n",
       "        vertical-align: top;\n",
       "    }\n",
       "\n",
       "    .dataframe thead th {\n",
       "        text-align: right;\n",
       "    }\n",
       "</style>\n",
       "<table border=\"1\" class=\"dataframe\">\n",
       "  <thead>\n",
       "    <tr style=\"text-align: right;\">\n",
       "      <th></th>\n",
       "      <th>0</th>\n",
       "      <th>1</th>\n",
       "      <th>2</th>\n",
       "      <th>3</th>\n",
       "    </tr>\n",
       "  </thead>\n",
       "  <tbody>\n",
       "    <tr>\n",
       "      <th>object_id</th>\n",
       "      <td>1</td>\n",
       "      <td>2</td>\n",
       "      <td>3</td>\n",
       "      <td>4</td>\n",
       "    </tr>\n",
       "    <tr>\n",
       "      <th>creation_time</th>\n",
       "      <td>2014-04-22 03:53:30</td>\n",
       "      <td>2013-11-15 03:45:04</td>\n",
       "      <td>2013-03-19 23:14:52</td>\n",
       "      <td>2013-05-21 08:09:28</td>\n",
       "    </tr>\n",
       "    <tr>\n",
       "      <th>name</th>\n",
       "      <td>Clausen August</td>\n",
       "      <td>Poole Matthew</td>\n",
       "      <td>Bottrill Mitchell</td>\n",
       "      <td>Clausen Nicklas</td>\n",
       "    </tr>\n",
       "    <tr>\n",
       "      <th>email</th>\n",
       "      <td>AugustCClausen@yahoo.com</td>\n",
       "      <td>MatthewPoole@gustr.com</td>\n",
       "      <td>MitchellBottrill@gustr.com</td>\n",
       "      <td>NicklasSClausen@yahoo.com</td>\n",
       "    </tr>\n",
       "    <tr>\n",
       "      <th>creation_source</th>\n",
       "      <td>GUEST_INVITE</td>\n",
       "      <td>ORG_INVITE</td>\n",
       "      <td>ORG_INVITE</td>\n",
       "      <td>GUEST_INVITE</td>\n",
       "    </tr>\n",
       "    <tr>\n",
       "      <th>last_session_creation_time</th>\n",
       "      <td>1398138810.0</td>\n",
       "      <td>1396237504.0</td>\n",
       "      <td>1363734892.0</td>\n",
       "      <td>1369210168.0</td>\n",
       "    </tr>\n",
       "    <tr>\n",
       "      <th>opted_in_to_mailing_list</th>\n",
       "      <td>1</td>\n",
       "      <td>0</td>\n",
       "      <td>0</td>\n",
       "      <td>0</td>\n",
       "    </tr>\n",
       "    <tr>\n",
       "      <th>enabled_for_marketing_drip</th>\n",
       "      <td>0</td>\n",
       "      <td>0</td>\n",
       "      <td>0</td>\n",
       "      <td>0</td>\n",
       "    </tr>\n",
       "    <tr>\n",
       "      <th>org_id</th>\n",
       "      <td>11</td>\n",
       "      <td>1</td>\n",
       "      <td>94</td>\n",
       "      <td>1</td>\n",
       "    </tr>\n",
       "    <tr>\n",
       "      <th>invited_by_user_id</th>\n",
       "      <td>10803.0</td>\n",
       "      <td>316.0</td>\n",
       "      <td>1525.0</td>\n",
       "      <td>5151.0</td>\n",
       "    </tr>\n",
       "  </tbody>\n",
       "</table>\n",
       "</div>"
      ],
      "text/plain": [
       "                                                   0                       1  \\\n",
       "object_id                                          1                       2   \n",
       "creation_time                    2014-04-22 03:53:30     2013-11-15 03:45:04   \n",
       "name                                  Clausen August           Poole Matthew   \n",
       "email                       AugustCClausen@yahoo.com  MatthewPoole@gustr.com   \n",
       "creation_source                         GUEST_INVITE              ORG_INVITE   \n",
       "last_session_creation_time              1398138810.0            1396237504.0   \n",
       "opted_in_to_mailing_list                           1                       0   \n",
       "enabled_for_marketing_drip                         0                       0   \n",
       "org_id                                            11                       1   \n",
       "invited_by_user_id                           10803.0                   316.0   \n",
       "\n",
       "                                                     2  \\\n",
       "object_id                                            3   \n",
       "creation_time                      2013-03-19 23:14:52   \n",
       "name                                 Bottrill Mitchell   \n",
       "email                       MitchellBottrill@gustr.com   \n",
       "creation_source                             ORG_INVITE   \n",
       "last_session_creation_time                1363734892.0   \n",
       "opted_in_to_mailing_list                             0   \n",
       "enabled_for_marketing_drip                           0   \n",
       "org_id                                              94   \n",
       "invited_by_user_id                              1525.0   \n",
       "\n",
       "                                                    3  \n",
       "object_id                                           4  \n",
       "creation_time                     2013-05-21 08:09:28  \n",
       "name                                  Clausen Nicklas  \n",
       "email                       NicklasSClausen@yahoo.com  \n",
       "creation_source                          GUEST_INVITE  \n",
       "last_session_creation_time               1369210168.0  \n",
       "opted_in_to_mailing_list                            0  \n",
       "enabled_for_marketing_drip                          0  \n",
       "org_id                                              1  \n",
       "invited_by_user_id                             5151.0  "
      ]
     },
     "execution_count": 3,
     "metadata": {},
     "output_type": "execute_result"
    }
   ],
   "source": [
    "df.head(4).T"
   ]
  },
  {
   "cell_type": "code",
   "execution_count": 4,
   "id": "58729f58",
   "metadata": {},
   "outputs": [
    {
     "data": {
      "text/html": [
       "<div>\n",
       "<style scoped>\n",
       "    .dataframe tbody tr th:only-of-type {\n",
       "        vertical-align: middle;\n",
       "    }\n",
       "\n",
       "    .dataframe tbody tr th {\n",
       "        vertical-align: top;\n",
       "    }\n",
       "\n",
       "    .dataframe thead th {\n",
       "        text-align: right;\n",
       "    }\n",
       "</style>\n",
       "<table border=\"1\" class=\"dataframe\">\n",
       "  <thead>\n",
       "    <tr style=\"text-align: right;\">\n",
       "      <th></th>\n",
       "      <th>time_stamp</th>\n",
       "      <th>user_id</th>\n",
       "      <th>visited</th>\n",
       "    </tr>\n",
       "  </thead>\n",
       "  <tbody>\n",
       "    <tr>\n",
       "      <th>0</th>\n",
       "      <td>2014-04-22 03:53:30</td>\n",
       "      <td>1</td>\n",
       "      <td>1</td>\n",
       "    </tr>\n",
       "    <tr>\n",
       "      <th>1</th>\n",
       "      <td>2013-11-15 03:45:04</td>\n",
       "      <td>2</td>\n",
       "      <td>1</td>\n",
       "    </tr>\n",
       "    <tr>\n",
       "      <th>2</th>\n",
       "      <td>2013-11-29 03:45:04</td>\n",
       "      <td>2</td>\n",
       "      <td>1</td>\n",
       "    </tr>\n",
       "    <tr>\n",
       "      <th>3</th>\n",
       "      <td>2013-12-09 03:45:04</td>\n",
       "      <td>2</td>\n",
       "      <td>1</td>\n",
       "    </tr>\n",
       "    <tr>\n",
       "      <th>4</th>\n",
       "      <td>2013-12-25 03:45:04</td>\n",
       "      <td>2</td>\n",
       "      <td>1</td>\n",
       "    </tr>\n",
       "  </tbody>\n",
       "</table>\n",
       "</div>"
      ],
      "text/plain": [
       "           time_stamp  user_id  visited\n",
       "0 2014-04-22 03:53:30        1        1\n",
       "1 2013-11-15 03:45:04        2        1\n",
       "2 2013-11-29 03:45:04        2        1\n",
       "3 2013-12-09 03:45:04        2        1\n",
       "4 2013-12-25 03:45:04        2        1"
      ]
     },
     "execution_count": 4,
     "metadata": {},
     "output_type": "execute_result"
    }
   ],
   "source": [
    "df_e.head()"
   ]
  },
  {
   "cell_type": "code",
   "execution_count": 5,
   "id": "dc3e0558",
   "metadata": {},
   "outputs": [
    {
     "data": {
      "text/plain": [
       "object_id                              int64\n",
       "creation_time                 datetime64[ns]\n",
       "name                                  object\n",
       "email                                 object\n",
       "creation_source                       object\n",
       "last_session_creation_time           float64\n",
       "opted_in_to_mailing_list               int64\n",
       "enabled_for_marketing_drip             int64\n",
       "org_id                                 int64\n",
       "invited_by_user_id                   float64\n",
       "dtype: object"
      ]
     },
     "execution_count": 5,
     "metadata": {},
     "output_type": "execute_result"
    }
   ],
   "source": [
    "df.dtypes"
   ]
  },
  {
   "cell_type": "code",
   "execution_count": 6,
   "id": "1bfca9a7",
   "metadata": {},
   "outputs": [
    {
     "data": {
      "text/plain": [
       "time_stamp    datetime64[ns]\n",
       "user_id                int64\n",
       "visited                int64\n",
       "dtype: object"
      ]
     },
     "execution_count": 6,
     "metadata": {},
     "output_type": "execute_result"
    }
   ],
   "source": [
    "df_e.dtypes"
   ]
  },
  {
   "cell_type": "code",
   "execution_count": 7,
   "id": "d07ebeb6",
   "metadata": {},
   "outputs": [
    {
     "name": "stdout",
     "output_type": "stream",
     "text": [
      "<class 'pandas.core.frame.DataFrame'>\n",
      "RangeIndex: 207917 entries, 0 to 207916\n",
      "Data columns (total 3 columns):\n",
      " #   Column      Non-Null Count   Dtype         \n",
      "---  ------      --------------   -----         \n",
      " 0   time_stamp  207917 non-null  datetime64[ns]\n",
      " 1   user_id     207917 non-null  int64         \n",
      " 2   visited     207917 non-null  int64         \n",
      "dtypes: datetime64[ns](1), int64(2)\n",
      "memory usage: 4.8 MB\n"
     ]
    }
   ],
   "source": [
    "df_e.info()"
   ]
  },
  {
   "cell_type": "code",
   "execution_count": 8,
   "id": "87f2b727",
   "metadata": {},
   "outputs": [
    {
     "name": "stdout",
     "output_type": "stream",
     "text": [
      "<class 'pandas.core.frame.DataFrame'>\n",
      "RangeIndex: 12000 entries, 0 to 11999\n",
      "Data columns (total 10 columns):\n",
      " #   Column                      Non-Null Count  Dtype         \n",
      "---  ------                      --------------  -----         \n",
      " 0   object_id                   12000 non-null  int64         \n",
      " 1   creation_time               12000 non-null  datetime64[ns]\n",
      " 2   name                        12000 non-null  object        \n",
      " 3   email                       12000 non-null  object        \n",
      " 4   creation_source             12000 non-null  object        \n",
      " 5   last_session_creation_time  8823 non-null   float64       \n",
      " 6   opted_in_to_mailing_list    12000 non-null  int64         \n",
      " 7   enabled_for_marketing_drip  12000 non-null  int64         \n",
      " 8   org_id                      12000 non-null  int64         \n",
      " 9   invited_by_user_id          6417 non-null   float64       \n",
      "dtypes: datetime64[ns](1), float64(2), int64(4), object(3)\n",
      "memory usage: 937.6+ KB\n"
     ]
    }
   ],
   "source": [
    "df.info()"
   ]
  },
  {
   "cell_type": "markdown",
   "id": "78c7c700",
   "metadata": {},
   "source": [
    "# WRANGLING"
   ]
  },
  {
   "cell_type": "code",
   "execution_count": 9,
   "id": "9d8898a3",
   "metadata": {},
   "outputs": [
    {
     "data": {
      "text/html": [
       "<div>\n",
       "<style scoped>\n",
       "    .dataframe tbody tr th:only-of-type {\n",
       "        vertical-align: middle;\n",
       "    }\n",
       "\n",
       "    .dataframe tbody tr th {\n",
       "        vertical-align: top;\n",
       "    }\n",
       "\n",
       "    .dataframe thead th {\n",
       "        text-align: right;\n",
       "    }\n",
       "</style>\n",
       "<table border=\"1\" class=\"dataframe\">\n",
       "  <thead>\n",
       "    <tr style=\"text-align: right;\">\n",
       "      <th></th>\n",
       "      <th>time_stamp</th>\n",
       "      <th>user_id</th>\n",
       "      <th>visited</th>\n",
       "      <th>date</th>\n",
       "    </tr>\n",
       "  </thead>\n",
       "  <tbody>\n",
       "    <tr>\n",
       "      <th>0</th>\n",
       "      <td>2014-04-22 03:53:30</td>\n",
       "      <td>1</td>\n",
       "      <td>1</td>\n",
       "      <td>2014-04-22</td>\n",
       "    </tr>\n",
       "    <tr>\n",
       "      <th>1</th>\n",
       "      <td>2013-11-15 03:45:04</td>\n",
       "      <td>2</td>\n",
       "      <td>1</td>\n",
       "      <td>2013-11-15</td>\n",
       "    </tr>\n",
       "    <tr>\n",
       "      <th>2</th>\n",
       "      <td>2013-11-29 03:45:04</td>\n",
       "      <td>2</td>\n",
       "      <td>1</td>\n",
       "      <td>2013-11-29</td>\n",
       "    </tr>\n",
       "    <tr>\n",
       "      <th>3</th>\n",
       "      <td>2013-12-09 03:45:04</td>\n",
       "      <td>2</td>\n",
       "      <td>1</td>\n",
       "      <td>2013-12-09</td>\n",
       "    </tr>\n",
       "    <tr>\n",
       "      <th>4</th>\n",
       "      <td>2013-12-25 03:45:04</td>\n",
       "      <td>2</td>\n",
       "      <td>1</td>\n",
       "      <td>2013-12-25</td>\n",
       "    </tr>\n",
       "  </tbody>\n",
       "</table>\n",
       "</div>"
      ],
      "text/plain": [
       "           time_stamp  user_id  visited       date\n",
       "0 2014-04-22 03:53:30        1        1 2014-04-22\n",
       "1 2013-11-15 03:45:04        2        1 2013-11-15\n",
       "2 2013-11-29 03:45:04        2        1 2013-11-29\n",
       "3 2013-12-09 03:45:04        2        1 2013-12-09\n",
       "4 2013-12-25 03:45:04        2        1 2013-12-25"
      ]
     },
     "execution_count": 9,
     "metadata": {},
     "output_type": "execute_result"
    }
   ],
   "source": [
    "df_e['date'] = pd.to_datetime(df_e['time_stamp'].dt.date)\n",
    "df_e.head()"
   ]
  },
  {
   "cell_type": "code",
   "execution_count": 10,
   "id": "841cd494",
   "metadata": {},
   "outputs": [
    {
     "data": {
      "text/html": [
       "<div>\n",
       "<style scoped>\n",
       "    .dataframe tbody tr th:only-of-type {\n",
       "        vertical-align: middle;\n",
       "    }\n",
       "\n",
       "    .dataframe tbody tr th {\n",
       "        vertical-align: top;\n",
       "    }\n",
       "\n",
       "    .dataframe thead th {\n",
       "        text-align: right;\n",
       "    }\n",
       "</style>\n",
       "<table border=\"1\" class=\"dataframe\">\n",
       "  <thead>\n",
       "    <tr style=\"text-align: right;\">\n",
       "      <th></th>\n",
       "      <th></th>\n",
       "      <th>time_stamp</th>\n",
       "      <th>visited</th>\n",
       "      <th>date</th>\n",
       "    </tr>\n",
       "    <tr>\n",
       "      <th>user_id</th>\n",
       "      <th></th>\n",
       "      <th></th>\n",
       "      <th></th>\n",
       "      <th></th>\n",
       "    </tr>\n",
       "  </thead>\n",
       "  <tbody>\n",
       "    <tr>\n",
       "      <th rowspan=\"2\" valign=\"top\">2</th>\n",
       "      <th>9</th>\n",
       "      <td>3.0</td>\n",
       "      <td>3.0</td>\n",
       "      <td>2014-02-09</td>\n",
       "    </tr>\n",
       "    <tr>\n",
       "      <th>10</th>\n",
       "      <td>3.0</td>\n",
       "      <td>3.0</td>\n",
       "      <td>2014-02-13</td>\n",
       "    </tr>\n",
       "    <tr>\n",
       "      <th rowspan=\"3\" valign=\"top\">10</th>\n",
       "      <th>27</th>\n",
       "      <td>3.0</td>\n",
       "      <td>3.0</td>\n",
       "      <td>2013-02-19</td>\n",
       "    </tr>\n",
       "    <tr>\n",
       "      <th>30</th>\n",
       "      <td>3.0</td>\n",
       "      <td>3.0</td>\n",
       "      <td>2013-03-02</td>\n",
       "    </tr>\n",
       "    <tr>\n",
       "      <th>31</th>\n",
       "      <td>3.0</td>\n",
       "      <td>3.0</td>\n",
       "      <td>2013-03-05</td>\n",
       "    </tr>\n",
       "  </tbody>\n",
       "</table>\n",
       "</div>"
      ],
      "text/plain": [
       "            time_stamp  visited       date\n",
       "user_id                                   \n",
       "2       9          3.0      3.0 2014-02-09\n",
       "        10         3.0      3.0 2014-02-13\n",
       "10      27         3.0      3.0 2013-02-19\n",
       "        30         3.0      3.0 2013-03-02\n",
       "        31         3.0      3.0 2013-03-05"
      ]
     },
     "execution_count": 10,
     "metadata": {},
     "output_type": "execute_result"
    }
   ],
   "source": [
    "seven = df_e.groupby('user_id').rolling('7D', on='date').count()\n",
    "active7 = seven[seven['visited'] >= 3]\n",
    "active7.head()"
   ]
  },
  {
   "cell_type": "code",
   "execution_count": 11,
   "id": "0958302e",
   "metadata": {},
   "outputs": [
    {
     "data": {
      "text/html": [
       "<div>\n",
       "<style scoped>\n",
       "    .dataframe tbody tr th:only-of-type {\n",
       "        vertical-align: middle;\n",
       "    }\n",
       "\n",
       "    .dataframe tbody tr th {\n",
       "        vertical-align: top;\n",
       "    }\n",
       "\n",
       "    .dataframe thead th {\n",
       "        text-align: right;\n",
       "    }\n",
       "</style>\n",
       "<table border=\"1\" class=\"dataframe\">\n",
       "  <thead>\n",
       "    <tr style=\"text-align: right;\">\n",
       "      <th></th>\n",
       "      <th>0</th>\n",
       "      <th>1</th>\n",
       "      <th>2</th>\n",
       "      <th>3</th>\n",
       "    </tr>\n",
       "  </thead>\n",
       "  <tbody>\n",
       "    <tr>\n",
       "      <th>object_id</th>\n",
       "      <td>1</td>\n",
       "      <td>2</td>\n",
       "      <td>3</td>\n",
       "      <td>4</td>\n",
       "    </tr>\n",
       "    <tr>\n",
       "      <th>creation_time</th>\n",
       "      <td>2014-04-22 03:53:30</td>\n",
       "      <td>2013-11-15 03:45:04</td>\n",
       "      <td>2013-03-19 23:14:52</td>\n",
       "      <td>2013-05-21 08:09:28</td>\n",
       "    </tr>\n",
       "    <tr>\n",
       "      <th>name</th>\n",
       "      <td>Clausen August</td>\n",
       "      <td>Poole Matthew</td>\n",
       "      <td>Bottrill Mitchell</td>\n",
       "      <td>Clausen Nicklas</td>\n",
       "    </tr>\n",
       "    <tr>\n",
       "      <th>email</th>\n",
       "      <td>AugustCClausen@yahoo.com</td>\n",
       "      <td>MatthewPoole@gustr.com</td>\n",
       "      <td>MitchellBottrill@gustr.com</td>\n",
       "      <td>NicklasSClausen@yahoo.com</td>\n",
       "    </tr>\n",
       "    <tr>\n",
       "      <th>creation_source</th>\n",
       "      <td>GUEST_INVITE</td>\n",
       "      <td>ORG_INVITE</td>\n",
       "      <td>ORG_INVITE</td>\n",
       "      <td>GUEST_INVITE</td>\n",
       "    </tr>\n",
       "    <tr>\n",
       "      <th>last_session_creation_time</th>\n",
       "      <td>1398138810.0</td>\n",
       "      <td>1396237504.0</td>\n",
       "      <td>1363734892.0</td>\n",
       "      <td>1369210168.0</td>\n",
       "    </tr>\n",
       "    <tr>\n",
       "      <th>opted_in_to_mailing_list</th>\n",
       "      <td>1</td>\n",
       "      <td>0</td>\n",
       "      <td>0</td>\n",
       "      <td>0</td>\n",
       "    </tr>\n",
       "    <tr>\n",
       "      <th>enabled_for_marketing_drip</th>\n",
       "      <td>0</td>\n",
       "      <td>0</td>\n",
       "      <td>0</td>\n",
       "      <td>0</td>\n",
       "    </tr>\n",
       "    <tr>\n",
       "      <th>org_id</th>\n",
       "      <td>11</td>\n",
       "      <td>1</td>\n",
       "      <td>94</td>\n",
       "      <td>1</td>\n",
       "    </tr>\n",
       "    <tr>\n",
       "      <th>invited_by_user_id</th>\n",
       "      <td>10803.0</td>\n",
       "      <td>316.0</td>\n",
       "      <td>1525.0</td>\n",
       "      <td>5151.0</td>\n",
       "    </tr>\n",
       "    <tr>\n",
       "      <th>adopted_user</th>\n",
       "      <td>0</td>\n",
       "      <td>1</td>\n",
       "      <td>0</td>\n",
       "      <td>0</td>\n",
       "    </tr>\n",
       "  </tbody>\n",
       "</table>\n",
       "</div>"
      ],
      "text/plain": [
       "                                                   0                       1  \\\n",
       "object_id                                          1                       2   \n",
       "creation_time                    2014-04-22 03:53:30     2013-11-15 03:45:04   \n",
       "name                                  Clausen August           Poole Matthew   \n",
       "email                       AugustCClausen@yahoo.com  MatthewPoole@gustr.com   \n",
       "creation_source                         GUEST_INVITE              ORG_INVITE   \n",
       "last_session_creation_time              1398138810.0            1396237504.0   \n",
       "opted_in_to_mailing_list                           1                       0   \n",
       "enabled_for_marketing_drip                         0                       0   \n",
       "org_id                                            11                       1   \n",
       "invited_by_user_id                           10803.0                   316.0   \n",
       "adopted_user                                       0                       1   \n",
       "\n",
       "                                                     2  \\\n",
       "object_id                                            3   \n",
       "creation_time                      2013-03-19 23:14:52   \n",
       "name                                 Bottrill Mitchell   \n",
       "email                       MitchellBottrill@gustr.com   \n",
       "creation_source                             ORG_INVITE   \n",
       "last_session_creation_time                1363734892.0   \n",
       "opted_in_to_mailing_list                             0   \n",
       "enabled_for_marketing_drip                           0   \n",
       "org_id                                              94   \n",
       "invited_by_user_id                              1525.0   \n",
       "adopted_user                                         0   \n",
       "\n",
       "                                                    3  \n",
       "object_id                                           4  \n",
       "creation_time                     2013-05-21 08:09:28  \n",
       "name                                  Clausen Nicklas  \n",
       "email                       NicklasSClausen@yahoo.com  \n",
       "creation_source                          GUEST_INVITE  \n",
       "last_session_creation_time               1369210168.0  \n",
       "opted_in_to_mailing_list                            0  \n",
       "enabled_for_marketing_drip                          0  \n",
       "org_id                                              1  \n",
       "invited_by_user_id                             5151.0  \n",
       "adopted_user                                        0  "
      ]
     },
     "execution_count": 11,
     "metadata": {},
     "output_type": "execute_result"
    }
   ],
   "source": [
    "a_id = active7.index.get_level_values(0).unique()\n",
    "df['adopted_user'] = np.where((df['object_id'].isin(a_id)),1,0)\n",
    "df_clean = df\n",
    "df_clean.head(4).T"
   ]
  },
  {
   "cell_type": "markdown",
   "id": "6b6f8708",
   "metadata": {},
   "source": [
    "# EDA"
   ]
  },
  {
   "cell_type": "code",
   "execution_count": 12,
   "id": "3e371ff1",
   "metadata": {},
   "outputs": [
    {
     "data": {
      "image/png": "[encoded data removed]",
      "text/plain": [
       "<Figure size 504x288 with 1 Axes>"
      ]
     },
     "metadata": {
      "needs_background": "light"
     },
     "output_type": "display_data"
    }
   ],
   "source": [
    "plt.figure(figsize=(7, 4))\n",
    "sns.countplot(x='adopted_user', data=df_clean)\n",
    "plt.title('Not Adopted vs Adopted Users')\n",
    "plt.xlabel('Count of Users')\n",
    "plt.ylabel('Users');"
   ]
  },
  {
   "cell_type": "code",
   "execution_count": null,
   "id": "51605747",
   "metadata": {},
   "outputs": [],
   "source": [
    "plt.figure(figsize=(10, 5))\n",
    "sns.countplot(x='if_invited', data=users, hue='adopted')"
   ]
  },
  {
   "cell_type": "code",
   "execution_count": 13,
   "id": "826f07a3",
   "metadata": {},
   "outputs": [
    {
     "data": {
      "image/png": "[encoded data removed]",
      "text/plain": [
       "<Figure size 720x360 with 1 Axes>"
      ]
     },
     "metadata": {
      "needs_background": "light"
     },
     "output_type": "display_data"
    }
   ],
   "source": [
    "plt.figure(figsize=(10, 5))\n",
    "sns.countplot(x='adopted_user', data=df_clean, hue='creation_source')\n",
    "plt.title('Not Adopted vs Adopted Users')\n",
    "plt.ylabel('Count of Users')\n",
    "plt.xlabel('Users by Creation Method');"
   ]
  },
  {
   "cell_type": "code",
   "execution_count": 14,
   "id": "57193472",
   "metadata": {},
   "outputs": [
    {
     "data": {
      "image/png": "[encoded data removed]",
      "text/plain": [
       "<Figure size 792x504 with 2 Axes>"
      ]
     },
     "metadata": {
      "needs_background": "light"
     },
     "output_type": "display_data"
    }
   ],
   "source": [
    "sns.heatmap(df_clean.corr(), yticklabels=True, annot=True, cmap=\"YlGnBu\")\n",
    "plt.gcf().set_size_inches(11, 7)"
   ]
  },
  {
   "cell_type": "markdown",
   "id": "0a546897",
   "metadata": {},
   "source": [
    "# MODELING"
   ]
  },
  {
   "cell_type": "code",
   "execution_count": 19,
   "id": "9ddbdf48",
   "metadata": {},
   "outputs": [],
   "source": [
    "from sklearn.model_selection import train_test_split\n",
    "from sklearn.linear_model import LogisticRegression\n",
    "from sklearn.metrics import accuracy_score\n",
    "from sklearn.pipeline import Pipeline\n",
    "from sklearn.preprocessing import LabelEncoder"
   ]
  },
  {
   "cell_type": "code",
   "execution_count": 16,
   "id": "b5ca6602",
   "metadata": {},
   "outputs": [],
   "source": [
    "df_modeling = df_clean.drop_duplicates().drop(['name','creation_time','email'], axis=1)"
   ]
  },
  {
   "cell_type": "code",
   "execution_count": 17,
   "id": "a154b8c4",
   "metadata": {},
   "outputs": [
    {
     "data": {
      "text/html": [
       "<div>\n",
       "<style scoped>\n",
       "    .dataframe tbody tr th:only-of-type {\n",
       "        vertical-align: middle;\n",
       "    }\n",
       "\n",
       "    .dataframe tbody tr th {\n",
       "        vertical-align: top;\n",
       "    }\n",
       "\n",
       "    .dataframe thead th {\n",
       "        text-align: right;\n",
       "    }\n",
       "</style>\n",
       "<table border=\"1\" class=\"dataframe\">\n",
       "  <thead>\n",
       "    <tr style=\"text-align: right;\">\n",
       "      <th></th>\n",
       "      <th>0</th>\n",
       "      <th>1</th>\n",
       "      <th>2</th>\n",
       "      <th>3</th>\n",
       "      <th>4</th>\n",
       "    </tr>\n",
       "  </thead>\n",
       "  <tbody>\n",
       "    <tr>\n",
       "      <th>object_id</th>\n",
       "      <td>1</td>\n",
       "      <td>2</td>\n",
       "      <td>3</td>\n",
       "      <td>4</td>\n",
       "      <td>5</td>\n",
       "    </tr>\n",
       "    <tr>\n",
       "      <th>creation_source</th>\n",
       "      <td>GUEST_INVITE</td>\n",
       "      <td>ORG_INVITE</td>\n",
       "      <td>ORG_INVITE</td>\n",
       "      <td>GUEST_INVITE</td>\n",
       "      <td>GUEST_INVITE</td>\n",
       "    </tr>\n",
       "    <tr>\n",
       "      <th>last_session_creation_time</th>\n",
       "      <td>1398138810.0</td>\n",
       "      <td>1396237504.0</td>\n",
       "      <td>1363734892.0</td>\n",
       "      <td>1369210168.0</td>\n",
       "      <td>1358849660.0</td>\n",
       "    </tr>\n",
       "    <tr>\n",
       "      <th>opted_in_to_mailing_list</th>\n",
       "      <td>1</td>\n",
       "      <td>0</td>\n",
       "      <td>0</td>\n",
       "      <td>0</td>\n",
       "      <td>0</td>\n",
       "    </tr>\n",
       "    <tr>\n",
       "      <th>enabled_for_marketing_drip</th>\n",
       "      <td>0</td>\n",
       "      <td>0</td>\n",
       "      <td>0</td>\n",
       "      <td>0</td>\n",
       "      <td>0</td>\n",
       "    </tr>\n",
       "    <tr>\n",
       "      <th>org_id</th>\n",
       "      <td>11</td>\n",
       "      <td>1</td>\n",
       "      <td>94</td>\n",
       "      <td>1</td>\n",
       "      <td>193</td>\n",
       "    </tr>\n",
       "    <tr>\n",
       "      <th>invited_by_user_id</th>\n",
       "      <td>10803.0</td>\n",
       "      <td>316.0</td>\n",
       "      <td>1525.0</td>\n",
       "      <td>5151.0</td>\n",
       "      <td>5240.0</td>\n",
       "    </tr>\n",
       "    <tr>\n",
       "      <th>adopted_user</th>\n",
       "      <td>0</td>\n",
       "      <td>1</td>\n",
       "      <td>0</td>\n",
       "      <td>0</td>\n",
       "      <td>0</td>\n",
       "    </tr>\n",
       "  </tbody>\n",
       "</table>\n",
       "</div>"
      ],
      "text/plain": [
       "                                       0             1             2  \\\n",
       "object_id                              1             2             3   \n",
       "creation_source             GUEST_INVITE    ORG_INVITE    ORG_INVITE   \n",
       "last_session_creation_time  1398138810.0  1396237504.0  1363734892.0   \n",
       "opted_in_to_mailing_list               1             0             0   \n",
       "enabled_for_marketing_drip             0             0             0   \n",
       "org_id                                11             1            94   \n",
       "invited_by_user_id               10803.0         316.0        1525.0   \n",
       "adopted_user                           0             1             0   \n",
       "\n",
       "                                       3             4  \n",
       "object_id                              4             5  \n",
       "creation_source             GUEST_INVITE  GUEST_INVITE  \n",
       "last_session_creation_time  1369210168.0  1358849660.0  \n",
       "opted_in_to_mailing_list               0             0  \n",
       "enabled_for_marketing_drip             0             0  \n",
       "org_id                                 1           193  \n",
       "invited_by_user_id                5151.0        5240.0  \n",
       "adopted_user                           0             0  "
      ]
     },
     "execution_count": 17,
     "metadata": {},
     "output_type": "execute_result"
    }
   ],
   "source": [
    "df_modeling.head().T"
   ]
  },
  {
   "cell_type": "code",
   "execution_count": 20,
   "id": "8e7c7cf1",
   "metadata": {},
   "outputs": [],
   "source": [
    "df_c = df_modeling"
   ]
  },
  {
   "cell_type": "code",
   "execution_count": 21,
   "id": "e4eebc8b",
   "metadata": {},
   "outputs": [],
   "source": [
    "df_c.creation_source = LabelEncoder().fit_transform(df_c.creation_source)"
   ]
  },
  {
   "cell_type": "code",
   "execution_count": 24,
   "id": "836c1b65",
   "metadata": {},
   "outputs": [
    {
     "name": "stdout",
     "output_type": "stream",
     "text": [
      "<class 'pandas.core.frame.DataFrame'>\n",
      "Int64Index: 12000 entries, 0 to 11999\n",
      "Data columns (total 8 columns):\n",
      " #   Column                      Non-Null Count  Dtype  \n",
      "---  ------                      --------------  -----  \n",
      " 0   object_id                   12000 non-null  int64  \n",
      " 1   creation_source             12000 non-null  int32  \n",
      " 2   last_session_creation_time  8823 non-null   float64\n",
      " 3   opted_in_to_mailing_list    12000 non-null  int64  \n",
      " 4   enabled_for_marketing_drip  12000 non-null  int64  \n",
      " 5   org_id                      12000 non-null  int64  \n",
      " 6   invited_by_user_id          6417 non-null   float64\n",
      " 7   adopted_user                12000 non-null  int32  \n",
      "dtypes: float64(2), int32(2), int64(4)\n",
      "memory usage: 750.0 KB\n"
     ]
    }
   ],
   "source": [
    "df_c.info()"
   ]
  },
  {
   "cell_type": "code",
   "execution_count": 25,
   "id": "1a52c54c",
   "metadata": {},
   "outputs": [
    {
     "data": {
      "text/plain": [
       "object_id                        0\n",
       "creation_source                  0\n",
       "last_session_creation_time    3177\n",
       "opted_in_to_mailing_list         0\n",
       "enabled_for_marketing_drip       0\n",
       "org_id                           0\n",
       "invited_by_user_id            5583\n",
       "adopted_user                     0\n",
       "dtype: int64"
      ]
     },
     "execution_count": 25,
     "metadata": {},
     "output_type": "execute_result"
    }
   ],
   "source": [
    "df_c.isna().sum()"
   ]
  },
  {
   "cell_type": "code",
   "execution_count": 26,
   "id": "72e82c15",
   "metadata": {},
   "outputs": [
    {
     "data": {
      "text/plain": [
       "object_id                     0\n",
       "creation_source               0\n",
       "opted_in_to_mailing_list      0\n",
       "enabled_for_marketing_drip    0\n",
       "org_id                        0\n",
       "adopted_user                  0\n",
       "dtype: int64"
      ]
     },
     "execution_count": 26,
     "metadata": {},
     "output_type": "execute_result"
    }
   ],
   "source": [
    "df_c = df_c.dropna(axis='columns')\n",
    "df_c.isna().sum()"
   ]
  },
  {
   "cell_type": "code",
   "execution_count": 27,
   "id": "8ffc3945",
   "metadata": {},
   "outputs": [
    {
     "name": "stdout",
     "output_type": "stream",
     "text": [
      "0.8541666666666666\n"
     ]
    }
   ],
   "source": [
    "X = df_c.drop(columns = ['adopted_user'])\n",
    "y = df_c['adopted_user']\n",
    "\n",
    "X_train, X_test, y_train, y_test = train_test_split(X, y, test_size=0.20, random_state=123)\n",
    "\n",
    "LR_M = LogisticRegression()\n",
    "\n",
    "LR_M.fit(X_train, y_train)\n",
    "\n",
    "print(accuracy_score(LR_M.predict(X_test), y_test))"
   ]
  },
  {
   "cell_type": "code",
   "execution_count": 28,
   "id": "6556f05d",
   "metadata": {},
   "outputs": [
    {
     "data": {
      "image/png": "[encoded data removed]",
      "text/plain": [
       "<Figure size 432x288 with 1 Axes>"
      ]
     },
     "metadata": {
      "needs_background": "light"
     },
     "output_type": "display_data"
    }
   ],
   "source": [
    "feature_importance = (LR_M.coef_[0])\n",
    "feature_importance = 100.0 * (feature_importance / feature_importance.max())\n",
    "sorted_idx = np.argsort(feature_importance)\n",
    "pos = np.arange(sorted_idx.shape[0]) + .5\n",
    "\n",
    "featfig = plt.figure()\n",
    "featax = featfig.add_subplot(1, 1, 1)\n",
    "featax.barh(pos, feature_importance[sorted_idx], align='center')\n",
    "featax.set_yticks(pos)\n",
    "featax.set_yticklabels(np.array(X_train.columns)[sorted_idx], fontsize=8)\n",
    "featax.set_xlabel('Feature Importance')\n",
    "\n",
    "plt.tight_layout()   \n",
    "plt.show()"
   ]
  }
 ],
 "metadata": {
  "kernelspec": {
   "display_name": "Python 3 (ipykernel)",
   "language": "python",
   "name": "python3"
  },
  "language_info": {
   "codemirror_mode": {
    "name": "ipython",
    "version": 3
   },
   "file_extension": ".py",
   "mimetype": "text/x-python",
   "name": "python",
   "nbconvert_exporter": "python",
   "pygments_lexer": "ipython3",
   "version": "3.9.7"
  }
 },
 "nbformat": 4,
 "nbformat_minor": 5
}
