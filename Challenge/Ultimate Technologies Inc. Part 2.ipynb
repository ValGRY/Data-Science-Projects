{
 "cells": [
  {
   "cell_type": "markdown",
   "id": "ba35f118",
   "metadata": {},
   "source": [
    "**Part 2 ‐ Experiment and metrics design**    \n",
    "\n",
    "The neighboring cities of Gotham and Metropolis have complementary circadian rhythms: on\n",
    "weekdays, Ultimate Gotham is most active at night, and Ultimate Metropolis is most active\n",
    "during the day. On weekends, there is reasonable activity in both cities.\n",
    "However, a toll bridge, with a two way toll, between the two cities causes driver partners to tend\n",
    "to be exclusive to each city. The Ultimate managers of city operations for the two cities have\n",
    "proposed an experiment to encourage driver partners to be available in both cities, by\n",
    "reimbursing all toll costs."
   ]
  },
  {
   "cell_type": "markdown",
   "id": "6f038a17",
   "metadata": {},
   "source": [
    "**1) What would you choose as the key measure of success of this experiment in\n",
    "encouraging driver partners to serve both cities, and why would you choose this metric?**\n",
    "\n",
    "My measure of success would be amount of trips between Gotham and Metropolis. The higher amount of trips, the more I know that people are taking advantage of the new tall reimbursement program."
   ]
  },
  {
   "cell_type": "markdown",
   "id": "9481661f",
   "metadata": {},
   "source": [
    "**2) Describe a practical experiment you would design to compare the effectiveness of the\n",
    "proposed change in relation to the key measure of success. Please provide details on:**    \n",
    "\n",
    "**a) How you will implement the experiment:**    \n",
    "I will roll out the reimbursement program for some time, for example 3 month. I will analyse the data to see if I got an increase in complete rides between cities\n",
    "\n",
    "**b) What statistical test(s) you will conduct to verify the significance of the observation:**    \n",
    "I would use Logistic Regression and RandomForest Classifier to verify the significance of the observation\n",
    "\n",
    "**c) How you would interpret the results and provide recommendations to the city operations team along with any caveats:**    \n",
    "I will calculate p-value to determine if the difference is statistically significant.     \n",
    "If the p-value is higher then the null hypthesis that the toll reimbursement having no effect, would not be rejected.      \n",
    "If the p-value is lower then I will rejected the null hypothesis and conferm that the toll reimbursement has a positive impact on the complete rides."
   ]
  },
  {
   "cell_type": "code",
   "execution_count": null,
   "id": "a89b1f04",
   "metadata": {},
   "outputs": [],
   "source": []
  }
 ],
 "metadata": {
  "kernelspec": {
   "display_name": "Python 3 (ipykernel)",
   "language": "python",
   "name": "python3"
  },
  "language_info": {
   "codemirror_mode": {
    "name": "ipython",
    "version": 3
   },
   "file_extension": ".py",
   "mimetype": "text/x-python",
   "name": "python",
   "nbconvert_exporter": "python",
   "pygments_lexer": "ipython3",
   "version": "3.9.7"
  }
 },
 "nbformat": 4,
 "nbformat_minor": 5
}
