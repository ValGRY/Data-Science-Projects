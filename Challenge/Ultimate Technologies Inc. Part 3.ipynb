{
 "cells": [
  {
   "cell_type": "markdown",
   "id": "e226ae19",
   "metadata": {},
   "source": [
    "# Part 3 ‐ Predictive modeling"
   ]
  },
  {
   "cell_type": "markdown",
   "id": "49874124",
   "metadata": {},
   "source": [
    "Ultimate is interested in predicting rider retention. To help explore this question, we have provided a sample dataset of a cohort of users who signed up for an Ultimate account in January 2014. The data was pulled several months later; we consider a user retained if they were “active” (i.e. took a trip) in the preceding 30 days.\n",
    "\n",
    "We would like you to use this data set to help understand what factors are the best predictors for retention, and offer suggestions to operationalize those insights to help Ultimate.\n",
    "\n",
    "The data is in the attached file ultimate_data_challenge.json. See below for a detailed description of the dataset. Please include any code you wrote for the analysis and delete the dataset when you have finished with the challenge.\n",
    "\n",
    "Perform any cleaning, exploratory analysis, and/or visualizations to use the provided data for this analysis (a few sentences/plots describing your approach will suffice). What fraction of the observed users were retained?\n",
    "Build a predictive model to help Ultimate determine whether or not a user will be active in their 6th month on the system. Discuss why you chose your approach, what alternatives you considered, and any concerns you have. How valid is your model? Include any key indicators of model performance.\n",
    "Briefly discuss how Ultimate might leverage the insights gained from the model to improve its longterm rider retention (again, a few sentences will suffice)."
   ]
  },
  {
   "cell_type": "markdown",
   "id": "53fcd651",
   "metadata": {},
   "source": [
    "1. Perform any cleaning, exploratory analysis, and/or visualizations to use the provided\n",
    "data for this analysis (a few sentences/plots describing your approach will suffice). What\n",
    "fraction of the observed users were retained?\n",
    "\n",
    "2. Build a predictive model to help Ultimate determine whether or not a user will be active in\n",
    "their 6th month on the system. Discuss why you chose your approach, what alternatives\n",
    "you considered, and any concerns you have. How valid is your model? Include any key\n",
    "indicators of model performance.\n",
    "\n",
    "3. Briefly discuss how Ultimate might leverage the insights gained from the model to\n",
    "improve its long term rider retention (again, a few sentences will suffice)."
   ]
  },
  {
   "cell_type": "markdown",
   "id": "8c8bf511",
   "metadata": {},
   "source": [
    "Data description              \n",
    "● **city:** city this user signed up in               \n",
    "● **phone:** primary device for this user                              \n",
    "● **signup_date:** date of account registration; in the form ‘YYYYMMDD’               \n",
    "● **last_trip_date:** the last time this user completed a trip; in the form ‘YYYYMMDD’                   \n",
    "● **avg_dist:** the average distance in miles per trip taken in the first 30 days after signup      \n",
    "● **avg_rating_by_driver:** the rider’s average rating over all of their trips         \n",
    "● **avg_rating_of_driver:** the rider’s average rating of their drivers over all of their trips                \n",
    "● **surge_pct:** the percent of trips taken with surge multiplier > 1            \n",
    "● **avg_surge:** The average surge multiplier over all of this user’s trips      \n",
    "● **trips_in_first_30_days:** the number of trips this user took in the first 30 days after signing up             \n",
    "● **ultimate_black_user:** TRUE if the user took an Ultimate Black in their first 30 days; FALSE otherwise            \n",
    "● **weekday_pct:** the percent of the user’s trips occurring during a weekday"
   ]
  },
  {
   "cell_type": "code",
   "execution_count": 1,
   "id": "5399893b",
   "metadata": {},
   "outputs": [],
   "source": [
    "import numpy as np\n",
    "import pandas as pd\n",
    "import matplotlib.pyplot as plt\n",
    "import seaborn as sns\n",
    "from datetime import timedelta\n",
    "from datetime import datetime"
   ]
  },
  {
   "cell_type": "code",
   "execution_count": 2,
   "id": "f2c77ef0",
   "metadata": {},
   "outputs": [],
   "source": [
    "df = pd.read_json('ultimate_data_challenge.json',convert_dates=['last_trip_date', 'signup_date'])"
   ]
  },
  {
   "cell_type": "code",
   "execution_count": 3,
   "id": "bce4b39e",
   "metadata": {},
   "outputs": [
    {
     "data": {
      "text/html": [
       "<div>\n",
       "<style scoped>\n",
       "    .dataframe tbody tr th:only-of-type {\n",
       "        vertical-align: middle;\n",
       "    }\n",
       "\n",
       "    .dataframe tbody tr th {\n",
       "        vertical-align: top;\n",
       "    }\n",
       "\n",
       "    .dataframe thead th {\n",
       "        text-align: right;\n",
       "    }\n",
       "</style>\n",
       "<table border=\"1\" class=\"dataframe\">\n",
       "  <thead>\n",
       "    <tr style=\"text-align: right;\">\n",
       "      <th></th>\n",
       "      <th>0</th>\n",
       "      <th>1</th>\n",
       "      <th>2</th>\n",
       "      <th>3</th>\n",
       "      <th>4</th>\n",
       "    </tr>\n",
       "  </thead>\n",
       "  <tbody>\n",
       "    <tr>\n",
       "      <th>city</th>\n",
       "      <td>King's Landing</td>\n",
       "      <td>Astapor</td>\n",
       "      <td>Astapor</td>\n",
       "      <td>King's Landing</td>\n",
       "      <td>Winterfell</td>\n",
       "    </tr>\n",
       "    <tr>\n",
       "      <th>trips_in_first_30_days</th>\n",
       "      <td>4</td>\n",
       "      <td>0</td>\n",
       "      <td>3</td>\n",
       "      <td>9</td>\n",
       "      <td>14</td>\n",
       "    </tr>\n",
       "    <tr>\n",
       "      <th>signup_date</th>\n",
       "      <td>2014-01-25 00:00:00</td>\n",
       "      <td>2014-01-29 00:00:00</td>\n",
       "      <td>2014-01-06 00:00:00</td>\n",
       "      <td>2014-01-10 00:00:00</td>\n",
       "      <td>2014-01-27 00:00:00</td>\n",
       "    </tr>\n",
       "    <tr>\n",
       "      <th>avg_rating_of_driver</th>\n",
       "      <td>4.7</td>\n",
       "      <td>5.0</td>\n",
       "      <td>4.3</td>\n",
       "      <td>4.6</td>\n",
       "      <td>4.4</td>\n",
       "    </tr>\n",
       "    <tr>\n",
       "      <th>avg_surge</th>\n",
       "      <td>1.1</td>\n",
       "      <td>1.0</td>\n",
       "      <td>1.0</td>\n",
       "      <td>1.14</td>\n",
       "      <td>1.19</td>\n",
       "    </tr>\n",
       "    <tr>\n",
       "      <th>last_trip_date</th>\n",
       "      <td>2014-06-17 00:00:00</td>\n",
       "      <td>2014-05-05 00:00:00</td>\n",
       "      <td>2014-01-07 00:00:00</td>\n",
       "      <td>2014-06-29 00:00:00</td>\n",
       "      <td>2014-03-15 00:00:00</td>\n",
       "    </tr>\n",
       "    <tr>\n",
       "      <th>phone</th>\n",
       "      <td>iPhone</td>\n",
       "      <td>Android</td>\n",
       "      <td>iPhone</td>\n",
       "      <td>iPhone</td>\n",
       "      <td>Android</td>\n",
       "    </tr>\n",
       "    <tr>\n",
       "      <th>surge_pct</th>\n",
       "      <td>15.4</td>\n",
       "      <td>0.0</td>\n",
       "      <td>0.0</td>\n",
       "      <td>20.0</td>\n",
       "      <td>11.8</td>\n",
       "    </tr>\n",
       "    <tr>\n",
       "      <th>ultimate_black_user</th>\n",
       "      <td>True</td>\n",
       "      <td>False</td>\n",
       "      <td>False</td>\n",
       "      <td>True</td>\n",
       "      <td>False</td>\n",
       "    </tr>\n",
       "    <tr>\n",
       "      <th>weekday_pct</th>\n",
       "      <td>46.2</td>\n",
       "      <td>50.0</td>\n",
       "      <td>100.0</td>\n",
       "      <td>80.0</td>\n",
       "      <td>82.4</td>\n",
       "    </tr>\n",
       "    <tr>\n",
       "      <th>avg_dist</th>\n",
       "      <td>3.67</td>\n",
       "      <td>8.26</td>\n",
       "      <td>0.77</td>\n",
       "      <td>2.36</td>\n",
       "      <td>3.13</td>\n",
       "    </tr>\n",
       "    <tr>\n",
       "      <th>avg_rating_by_driver</th>\n",
       "      <td>5.0</td>\n",
       "      <td>5.0</td>\n",
       "      <td>5.0</td>\n",
       "      <td>4.9</td>\n",
       "      <td>4.9</td>\n",
       "    </tr>\n",
       "  </tbody>\n",
       "</table>\n",
       "</div>"
      ],
      "text/plain": [
       "                                          0                    1  \\\n",
       "city                         King's Landing              Astapor   \n",
       "trips_in_first_30_days                    4                    0   \n",
       "signup_date             2014-01-25 00:00:00  2014-01-29 00:00:00   \n",
       "avg_rating_of_driver                    4.7                  5.0   \n",
       "avg_surge                               1.1                  1.0   \n",
       "last_trip_date          2014-06-17 00:00:00  2014-05-05 00:00:00   \n",
       "phone                                iPhone              Android   \n",
       "surge_pct                              15.4                  0.0   \n",
       "ultimate_black_user                    True                False   \n",
       "weekday_pct                            46.2                 50.0   \n",
       "avg_dist                               3.67                 8.26   \n",
       "avg_rating_by_driver                    5.0                  5.0   \n",
       "\n",
       "                                          2                    3  \\\n",
       "city                                Astapor       King's Landing   \n",
       "trips_in_first_30_days                    3                    9   \n",
       "signup_date             2014-01-06 00:00:00  2014-01-10 00:00:00   \n",
       "avg_rating_of_driver                    4.3                  4.6   \n",
       "avg_surge                               1.0                 1.14   \n",
       "last_trip_date          2014-01-07 00:00:00  2014-06-29 00:00:00   \n",
       "phone                                iPhone               iPhone   \n",
       "surge_pct                               0.0                 20.0   \n",
       "ultimate_black_user                   False                 True   \n",
       "weekday_pct                           100.0                 80.0   \n",
       "avg_dist                               0.77                 2.36   \n",
       "avg_rating_by_driver                    5.0                  4.9   \n",
       "\n",
       "                                          4  \n",
       "city                             Winterfell  \n",
       "trips_in_first_30_days                   14  \n",
       "signup_date             2014-01-27 00:00:00  \n",
       "avg_rating_of_driver                    4.4  \n",
       "avg_surge                              1.19  \n",
       "last_trip_date          2014-03-15 00:00:00  \n",
       "phone                               Android  \n",
       "surge_pct                              11.8  \n",
       "ultimate_black_user                   False  \n",
       "weekday_pct                            82.4  \n",
       "avg_dist                               3.13  \n",
       "avg_rating_by_driver                    4.9  "
      ]
     },
     "execution_count": 3,
     "metadata": {},
     "output_type": "execute_result"
    }
   ],
   "source": [
    "df.head().T"
   ]
  },
  {
   "cell_type": "code",
   "execution_count": 4,
   "id": "9c7035a8",
   "metadata": {},
   "outputs": [
    {
     "name": "stdout",
     "output_type": "stream",
     "text": [
      "<class 'pandas.core.frame.DataFrame'>\n",
      "RangeIndex: 50000 entries, 0 to 49999\n",
      "Data columns (total 12 columns):\n",
      " #   Column                  Non-Null Count  Dtype         \n",
      "---  ------                  --------------  -----         \n",
      " 0   city                    50000 non-null  object        \n",
      " 1   trips_in_first_30_days  50000 non-null  int64         \n",
      " 2   signup_date             50000 non-null  datetime64[ns]\n",
      " 3   avg_rating_of_driver    41878 non-null  float64       \n",
      " 4   avg_surge               50000 non-null  float64       \n",
      " 5   last_trip_date          50000 non-null  datetime64[ns]\n",
      " 6   phone                   49604 non-null  object        \n",
      " 7   surge_pct               50000 non-null  float64       \n",
      " 8   ultimate_black_user     50000 non-null  bool          \n",
      " 9   weekday_pct             50000 non-null  float64       \n",
      " 10  avg_dist                50000 non-null  float64       \n",
      " 11  avg_rating_by_driver    49799 non-null  float64       \n",
      "dtypes: bool(1), datetime64[ns](2), float64(6), int64(1), object(2)\n",
      "memory usage: 4.2+ MB\n"
     ]
    }
   ],
   "source": [
    "df.info()"
   ]
  },
  {
   "cell_type": "markdown",
   "id": "71608d65",
   "metadata": {},
   "source": [
    "#### Active vs Not Active in last 30 days"
   ]
  },
  {
   "cell_type": "code",
   "execution_count": 5,
   "id": "4585c9c1",
   "metadata": {},
   "outputs": [
    {
     "data": {
      "image/png": "[encoded data removed]",
      "text/plain": [
       "<Figure size 576x288 with 1 Axes>"
      ]
     },
     "metadata": {
      "needs_background": "light"
     },
     "output_type": "display_data"
    }
   ],
   "source": [
    "result = []\n",
    "for n in df['trips_in_first_30_days']:\n",
    "    if n > 0:\n",
    "        result.append(\"Active\")\n",
    "    else:\n",
    "        result.append(\"Not Active\")\n",
    "      \n",
    "df[\"activity\"] = result\n",
    "\n",
    "\n",
    "c = ['green','red']\n",
    "plt.suptitle('Activity', fontsize=22)\n",
    "plt.ylabel('ylabel', fontsize=22)\n",
    "df['activity'].value_counts().plot(kind='bar',color=c,figsize=(8, 4), ylabel='Count')\n",
    "plt.tight_layout()"
   ]
  },
  {
   "cell_type": "markdown",
   "id": "ce367532",
   "metadata": {},
   "source": [
    "#### I am going to work only with active customers"
   ]
  },
  {
   "cell_type": "code",
   "execution_count": 6,
   "id": "ae327b18",
   "metadata": {},
   "outputs": [
    {
     "data": {
      "text/plain": [
       "Active        34610\n",
       "Not Active    15390\n",
       "Name: activity, dtype: int64"
      ]
     },
     "execution_count": 6,
     "metadata": {},
     "output_type": "execute_result"
    }
   ],
   "source": [
    "df['activity'].value_counts()"
   ]
  },
  {
   "cell_type": "code",
   "execution_count": 7,
   "id": "1085df11",
   "metadata": {},
   "outputs": [
    {
     "data": {
      "text/html": [
       "<div>\n",
       "<style scoped>\n",
       "    .dataframe tbody tr th:only-of-type {\n",
       "        vertical-align: middle;\n",
       "    }\n",
       "\n",
       "    .dataframe tbody tr th {\n",
       "        vertical-align: top;\n",
       "    }\n",
       "\n",
       "    .dataframe thead th {\n",
       "        text-align: right;\n",
       "    }\n",
       "</style>\n",
       "<table border=\"1\" class=\"dataframe\">\n",
       "  <thead>\n",
       "    <tr style=\"text-align: right;\">\n",
       "      <th></th>\n",
       "      <th>0</th>\n",
       "      <th>1</th>\n",
       "      <th>2</th>\n",
       "      <th>3</th>\n",
       "      <th>4</th>\n",
       "    </tr>\n",
       "  </thead>\n",
       "  <tbody>\n",
       "    <tr>\n",
       "      <th>city</th>\n",
       "      <td>King's Landing</td>\n",
       "      <td>Astapor</td>\n",
       "      <td>Astapor</td>\n",
       "      <td>King's Landing</td>\n",
       "      <td>Winterfell</td>\n",
       "    </tr>\n",
       "    <tr>\n",
       "      <th>trips_in_first_30_days</th>\n",
       "      <td>4</td>\n",
       "      <td>0</td>\n",
       "      <td>3</td>\n",
       "      <td>9</td>\n",
       "      <td>14</td>\n",
       "    </tr>\n",
       "    <tr>\n",
       "      <th>signup_date</th>\n",
       "      <td>2014-01-25 00:00:00</td>\n",
       "      <td>2014-01-29 00:00:00</td>\n",
       "      <td>2014-01-06 00:00:00</td>\n",
       "      <td>2014-01-10 00:00:00</td>\n",
       "      <td>2014-01-27 00:00:00</td>\n",
       "    </tr>\n",
       "    <tr>\n",
       "      <th>avg_rating_of_driver</th>\n",
       "      <td>4.7</td>\n",
       "      <td>5.0</td>\n",
       "      <td>4.3</td>\n",
       "      <td>4.6</td>\n",
       "      <td>4.4</td>\n",
       "    </tr>\n",
       "    <tr>\n",
       "      <th>avg_surge</th>\n",
       "      <td>1.1</td>\n",
       "      <td>1.0</td>\n",
       "      <td>1.0</td>\n",
       "      <td>1.14</td>\n",
       "      <td>1.19</td>\n",
       "    </tr>\n",
       "    <tr>\n",
       "      <th>last_trip_date</th>\n",
       "      <td>2014-06-17 00:00:00</td>\n",
       "      <td>2014-05-05 00:00:00</td>\n",
       "      <td>2014-01-07 00:00:00</td>\n",
       "      <td>2014-06-29 00:00:00</td>\n",
       "      <td>2014-03-15 00:00:00</td>\n",
       "    </tr>\n",
       "    <tr>\n",
       "      <th>phone</th>\n",
       "      <td>iPhone</td>\n",
       "      <td>Android</td>\n",
       "      <td>iPhone</td>\n",
       "      <td>iPhone</td>\n",
       "      <td>Android</td>\n",
       "    </tr>\n",
       "    <tr>\n",
       "      <th>surge_pct</th>\n",
       "      <td>15.4</td>\n",
       "      <td>0.0</td>\n",
       "      <td>0.0</td>\n",
       "      <td>20.0</td>\n",
       "      <td>11.8</td>\n",
       "    </tr>\n",
       "    <tr>\n",
       "      <th>ultimate_black_user</th>\n",
       "      <td>True</td>\n",
       "      <td>False</td>\n",
       "      <td>False</td>\n",
       "      <td>True</td>\n",
       "      <td>False</td>\n",
       "    </tr>\n",
       "    <tr>\n",
       "      <th>weekday_pct</th>\n",
       "      <td>46.2</td>\n",
       "      <td>50.0</td>\n",
       "      <td>100.0</td>\n",
       "      <td>80.0</td>\n",
       "      <td>82.4</td>\n",
       "    </tr>\n",
       "    <tr>\n",
       "      <th>avg_dist</th>\n",
       "      <td>3.67</td>\n",
       "      <td>8.26</td>\n",
       "      <td>0.77</td>\n",
       "      <td>2.36</td>\n",
       "      <td>3.13</td>\n",
       "    </tr>\n",
       "    <tr>\n",
       "      <th>avg_rating_by_driver</th>\n",
       "      <td>5.0</td>\n",
       "      <td>5.0</td>\n",
       "      <td>5.0</td>\n",
       "      <td>4.9</td>\n",
       "      <td>4.9</td>\n",
       "    </tr>\n",
       "    <tr>\n",
       "      <th>activity</th>\n",
       "      <td>Active</td>\n",
       "      <td>Not Active</td>\n",
       "      <td>Active</td>\n",
       "      <td>Active</td>\n",
       "      <td>Active</td>\n",
       "    </tr>\n",
       "  </tbody>\n",
       "</table>\n",
       "</div>"
      ],
      "text/plain": [
       "                                          0                    1  \\\n",
       "city                         King's Landing              Astapor   \n",
       "trips_in_first_30_days                    4                    0   \n",
       "signup_date             2014-01-25 00:00:00  2014-01-29 00:00:00   \n",
       "avg_rating_of_driver                    4.7                  5.0   \n",
       "avg_surge                               1.1                  1.0   \n",
       "last_trip_date          2014-06-17 00:00:00  2014-05-05 00:00:00   \n",
       "phone                                iPhone              Android   \n",
       "surge_pct                              15.4                  0.0   \n",
       "ultimate_black_user                    True                False   \n",
       "weekday_pct                            46.2                 50.0   \n",
       "avg_dist                               3.67                 8.26   \n",
       "avg_rating_by_driver                    5.0                  5.0   \n",
       "activity                             Active           Not Active   \n",
       "\n",
       "                                          2                    3  \\\n",
       "city                                Astapor       King's Landing   \n",
       "trips_in_first_30_days                    3                    9   \n",
       "signup_date             2014-01-06 00:00:00  2014-01-10 00:00:00   \n",
       "avg_rating_of_driver                    4.3                  4.6   \n",
       "avg_surge                               1.0                 1.14   \n",
       "last_trip_date          2014-01-07 00:00:00  2014-06-29 00:00:00   \n",
       "phone                                iPhone               iPhone   \n",
       "surge_pct                               0.0                 20.0   \n",
       "ultimate_black_user                   False                 True   \n",
       "weekday_pct                           100.0                 80.0   \n",
       "avg_dist                               0.77                 2.36   \n",
       "avg_rating_by_driver                    5.0                  4.9   \n",
       "activity                             Active               Active   \n",
       "\n",
       "                                          4  \n",
       "city                             Winterfell  \n",
       "trips_in_first_30_days                   14  \n",
       "signup_date             2014-01-27 00:00:00  \n",
       "avg_rating_of_driver                    4.4  \n",
       "avg_surge                              1.19  \n",
       "last_trip_date          2014-03-15 00:00:00  \n",
       "phone                               Android  \n",
       "surge_pct                              11.8  \n",
       "ultimate_black_user                   False  \n",
       "weekday_pct                            82.4  \n",
       "avg_dist                               3.13  \n",
       "avg_rating_by_driver                    4.9  \n",
       "activity                             Active  "
      ]
     },
     "execution_count": 7,
     "metadata": {},
     "output_type": "execute_result"
    }
   ],
   "source": [
    "df.head().T"
   ]
  },
  {
   "cell_type": "markdown",
   "id": "18a81b3b",
   "metadata": {},
   "source": [
    "Visualizing correlation between features"
   ]
  },
  {
   "cell_type": "code",
   "execution_count": 8,
   "id": "3860267f",
   "metadata": {},
   "outputs": [
    {
     "data": {
      "image/png": "[encoded data removed]",
      "text/plain": [
       "<Figure size 792x504 with 2 Axes>"
      ]
     },
     "metadata": {
      "needs_background": "light"
     },
     "output_type": "display_data"
    }
   ],
   "source": [
    "sns.heatmap(df.corr(), yticklabels=True, annot=True, cmap=\"YlGnBu\")\n",
    "plt.gcf().set_size_inches(11, 7)"
   ]
  },
  {
   "cell_type": "markdown",
   "id": "4e0f6229",
   "metadata": {},
   "source": [
    "I will do scatter plot between avg_rating_by_driver' and 'avg_rating_of_driver.       \n",
    "Scatter plots can show the correlation, between the values of observed quantities."
   ]
  },
  {
   "cell_type": "code",
   "execution_count": 9,
   "id": "6c353dc1",
   "metadata": {},
   "outputs": [
    {
     "data": {
      "image/png": "[encoded data removed]",
      "text/plain": [
       "<Figure size 432x288 with 1 Axes>"
      ]
     },
     "metadata": {
      "needs_background": "light"
     },
     "output_type": "display_data"
    }
   ],
   "source": [
    "rd = df.groupby(by='avg_rating_by_driver', axis=0, as_index=False, sort=True, group_keys=True).mean()\n",
    "\n",
    "sns.regplot(x='avg_rating_by_driver', y='avg_rating_of_driver', data=rd, line_kws={\"color\": \"g\"})\n",
    "plt.xlabel('avg_rating_by_driver')\n",
    "plt.ylabel('avg_rating_of_driver');"
   ]
  },
  {
   "cell_type": "markdown",
   "id": "767ffa5f",
   "metadata": {},
   "source": [
    "I am going to remove columns that not going to be used"
   ]
  },
  {
   "cell_type": "code",
   "execution_count": 10,
   "id": "d2ed8b2e",
   "metadata": {},
   "outputs": [
    {
     "data": {
      "text/html": [
       "<div>\n",
       "<style scoped>\n",
       "    .dataframe tbody tr th:only-of-type {\n",
       "        vertical-align: middle;\n",
       "    }\n",
       "\n",
       "    .dataframe tbody tr th {\n",
       "        vertical-align: top;\n",
       "    }\n",
       "\n",
       "    .dataframe thead th {\n",
       "        text-align: right;\n",
       "    }\n",
       "</style>\n",
       "<table border=\"1\" class=\"dataframe\">\n",
       "  <thead>\n",
       "    <tr style=\"text-align: right;\">\n",
       "      <th></th>\n",
       "      <th>0</th>\n",
       "      <th>1</th>\n",
       "      <th>2</th>\n",
       "      <th>3</th>\n",
       "      <th>4</th>\n",
       "    </tr>\n",
       "  </thead>\n",
       "  <tbody>\n",
       "    <tr>\n",
       "      <th>city</th>\n",
       "      <td>King's Landing</td>\n",
       "      <td>Astapor</td>\n",
       "      <td>Astapor</td>\n",
       "      <td>King's Landing</td>\n",
       "      <td>Winterfell</td>\n",
       "    </tr>\n",
       "    <tr>\n",
       "      <th>trips_in_first_30_days</th>\n",
       "      <td>4</td>\n",
       "      <td>0</td>\n",
       "      <td>3</td>\n",
       "      <td>9</td>\n",
       "      <td>14</td>\n",
       "    </tr>\n",
       "    <tr>\n",
       "      <th>avg_rating_of_driver</th>\n",
       "      <td>4.7</td>\n",
       "      <td>5.0</td>\n",
       "      <td>4.3</td>\n",
       "      <td>4.6</td>\n",
       "      <td>4.4</td>\n",
       "    </tr>\n",
       "    <tr>\n",
       "      <th>avg_surge</th>\n",
       "      <td>1.1</td>\n",
       "      <td>1.0</td>\n",
       "      <td>1.0</td>\n",
       "      <td>1.14</td>\n",
       "      <td>1.19</td>\n",
       "    </tr>\n",
       "    <tr>\n",
       "      <th>surge_pct</th>\n",
       "      <td>15.4</td>\n",
       "      <td>0.0</td>\n",
       "      <td>0.0</td>\n",
       "      <td>20.0</td>\n",
       "      <td>11.8</td>\n",
       "    </tr>\n",
       "    <tr>\n",
       "      <th>ultimate_black_user</th>\n",
       "      <td>True</td>\n",
       "      <td>False</td>\n",
       "      <td>False</td>\n",
       "      <td>True</td>\n",
       "      <td>False</td>\n",
       "    </tr>\n",
       "    <tr>\n",
       "      <th>weekday_pct</th>\n",
       "      <td>46.2</td>\n",
       "      <td>50.0</td>\n",
       "      <td>100.0</td>\n",
       "      <td>80.0</td>\n",
       "      <td>82.4</td>\n",
       "    </tr>\n",
       "    <tr>\n",
       "      <th>avg_dist</th>\n",
       "      <td>3.67</td>\n",
       "      <td>8.26</td>\n",
       "      <td>0.77</td>\n",
       "      <td>2.36</td>\n",
       "      <td>3.13</td>\n",
       "    </tr>\n",
       "    <tr>\n",
       "      <th>avg_rating_by_driver</th>\n",
       "      <td>5.0</td>\n",
       "      <td>5.0</td>\n",
       "      <td>5.0</td>\n",
       "      <td>4.9</td>\n",
       "      <td>4.9</td>\n",
       "    </tr>\n",
       "    <tr>\n",
       "      <th>activity</th>\n",
       "      <td>Active</td>\n",
       "      <td>Not Active</td>\n",
       "      <td>Active</td>\n",
       "      <td>Active</td>\n",
       "      <td>Active</td>\n",
       "    </tr>\n",
       "  </tbody>\n",
       "</table>\n",
       "</div>"
      ],
      "text/plain": [
       "                                     0           1        2               3  \\\n",
       "city                    King's Landing     Astapor  Astapor  King's Landing   \n",
       "trips_in_first_30_days               4           0        3               9   \n",
       "avg_rating_of_driver               4.7         5.0      4.3             4.6   \n",
       "avg_surge                          1.1         1.0      1.0            1.14   \n",
       "surge_pct                         15.4         0.0      0.0            20.0   \n",
       "ultimate_black_user               True       False    False            True   \n",
       "weekday_pct                       46.2        50.0    100.0            80.0   \n",
       "avg_dist                          3.67        8.26     0.77            2.36   \n",
       "avg_rating_by_driver               5.0         5.0      5.0             4.9   \n",
       "activity                        Active  Not Active   Active          Active   \n",
       "\n",
       "                                 4  \n",
       "city                    Winterfell  \n",
       "trips_in_first_30_days          14  \n",
       "avg_rating_of_driver           4.4  \n",
       "avg_surge                     1.19  \n",
       "surge_pct                     11.8  \n",
       "ultimate_black_user          False  \n",
       "weekday_pct                   82.4  \n",
       "avg_dist                      3.13  \n",
       "avg_rating_by_driver           4.9  \n",
       "activity                    Active  "
      ]
     },
     "execution_count": 10,
     "metadata": {},
     "output_type": "execute_result"
    }
   ],
   "source": [
    "df = df.drop(['last_trip_date', 'phone', 'signup_date'], axis=1)\n",
    "df.head().T"
   ]
  },
  {
   "cell_type": "markdown",
   "id": "ccb56438",
   "metadata": {},
   "source": [
    "Creating dummy encode all the categorical variables"
   ]
  },
  {
   "cell_type": "code",
   "execution_count": 11,
   "id": "f8cdd756",
   "metadata": {},
   "outputs": [],
   "source": [
    "df_d = pd.get_dummies(df, columns=['ultimate_black_user', 'city'], drop_first=True)"
   ]
  },
  {
   "cell_type": "code",
   "execution_count": 12,
   "id": "dca08741",
   "metadata": {},
   "outputs": [
    {
     "data": {
      "text/html": [
       "<div>\n",
       "<style scoped>\n",
       "    .dataframe tbody tr th:only-of-type {\n",
       "        vertical-align: middle;\n",
       "    }\n",
       "\n",
       "    .dataframe tbody tr th {\n",
       "        vertical-align: top;\n",
       "    }\n",
       "\n",
       "    .dataframe thead th {\n",
       "        text-align: right;\n",
       "    }\n",
       "</style>\n",
       "<table border=\"1\" class=\"dataframe\">\n",
       "  <thead>\n",
       "    <tr style=\"text-align: right;\">\n",
       "      <th></th>\n",
       "      <th>0</th>\n",
       "      <th>1</th>\n",
       "      <th>2</th>\n",
       "      <th>3</th>\n",
       "      <th>4</th>\n",
       "    </tr>\n",
       "  </thead>\n",
       "  <tbody>\n",
       "    <tr>\n",
       "      <th>trips_in_first_30_days</th>\n",
       "      <td>4.00</td>\n",
       "      <td>0.00</td>\n",
       "      <td>3.00</td>\n",
       "      <td>9.00</td>\n",
       "      <td>14.00</td>\n",
       "    </tr>\n",
       "    <tr>\n",
       "      <th>avg_rating_of_driver</th>\n",
       "      <td>4.70</td>\n",
       "      <td>5.00</td>\n",
       "      <td>4.30</td>\n",
       "      <td>4.60</td>\n",
       "      <td>4.40</td>\n",
       "    </tr>\n",
       "    <tr>\n",
       "      <th>avg_surge</th>\n",
       "      <td>1.10</td>\n",
       "      <td>1.00</td>\n",
       "      <td>1.00</td>\n",
       "      <td>1.14</td>\n",
       "      <td>1.19</td>\n",
       "    </tr>\n",
       "    <tr>\n",
       "      <th>surge_pct</th>\n",
       "      <td>15.40</td>\n",
       "      <td>0.00</td>\n",
       "      <td>0.00</td>\n",
       "      <td>20.00</td>\n",
       "      <td>11.80</td>\n",
       "    </tr>\n",
       "    <tr>\n",
       "      <th>weekday_pct</th>\n",
       "      <td>46.20</td>\n",
       "      <td>50.00</td>\n",
       "      <td>100.00</td>\n",
       "      <td>80.00</td>\n",
       "      <td>82.40</td>\n",
       "    </tr>\n",
       "    <tr>\n",
       "      <th>avg_dist</th>\n",
       "      <td>3.67</td>\n",
       "      <td>8.26</td>\n",
       "      <td>0.77</td>\n",
       "      <td>2.36</td>\n",
       "      <td>3.13</td>\n",
       "    </tr>\n",
       "    <tr>\n",
       "      <th>avg_rating_by_driver</th>\n",
       "      <td>5.00</td>\n",
       "      <td>5.00</td>\n",
       "      <td>5.00</td>\n",
       "      <td>4.90</td>\n",
       "      <td>4.90</td>\n",
       "    </tr>\n",
       "    <tr>\n",
       "      <th>ultimate_black_user_True</th>\n",
       "      <td>1.00</td>\n",
       "      <td>0.00</td>\n",
       "      <td>0.00</td>\n",
       "      <td>1.00</td>\n",
       "      <td>0.00</td>\n",
       "    </tr>\n",
       "    <tr>\n",
       "      <th>city_King's Landing</th>\n",
       "      <td>1.00</td>\n",
       "      <td>0.00</td>\n",
       "      <td>0.00</td>\n",
       "      <td>1.00</td>\n",
       "      <td>0.00</td>\n",
       "    </tr>\n",
       "    <tr>\n",
       "      <th>city_Winterfell</th>\n",
       "      <td>0.00</td>\n",
       "      <td>0.00</td>\n",
       "      <td>0.00</td>\n",
       "      <td>0.00</td>\n",
       "      <td>1.00</td>\n",
       "    </tr>\n",
       "    <tr>\n",
       "      <th>activity_Active</th>\n",
       "      <td>1.00</td>\n",
       "      <td>0.00</td>\n",
       "      <td>1.00</td>\n",
       "      <td>1.00</td>\n",
       "      <td>1.00</td>\n",
       "    </tr>\n",
       "    <tr>\n",
       "      <th>activity_Not Active</th>\n",
       "      <td>0.00</td>\n",
       "      <td>1.00</td>\n",
       "      <td>0.00</td>\n",
       "      <td>0.00</td>\n",
       "      <td>0.00</td>\n",
       "    </tr>\n",
       "  </tbody>\n",
       "</table>\n",
       "</div>"
      ],
      "text/plain": [
       "                              0      1       2      3      4\n",
       "trips_in_first_30_days     4.00   0.00    3.00   9.00  14.00\n",
       "avg_rating_of_driver       4.70   5.00    4.30   4.60   4.40\n",
       "avg_surge                  1.10   1.00    1.00   1.14   1.19\n",
       "surge_pct                 15.40   0.00    0.00  20.00  11.80\n",
       "weekday_pct               46.20  50.00  100.00  80.00  82.40\n",
       "avg_dist                   3.67   8.26    0.77   2.36   3.13\n",
       "avg_rating_by_driver       5.00   5.00    5.00   4.90   4.90\n",
       "ultimate_black_user_True   1.00   0.00    0.00   1.00   0.00\n",
       "city_King's Landing        1.00   0.00    0.00   1.00   0.00\n",
       "city_Winterfell            0.00   0.00    0.00   0.00   1.00\n",
       "activity_Active            1.00   0.00    1.00   1.00   1.00\n",
       "activity_Not Active        0.00   1.00    0.00   0.00   0.00"
      ]
     },
     "execution_count": 12,
     "metadata": {},
     "output_type": "execute_result"
    }
   ],
   "source": [
    "df_d = pd.get_dummies(df_d, columns=['activity'])\n",
    "df_d.head().T"
   ]
  },
  {
   "cell_type": "markdown",
   "id": "97681c0b",
   "metadata": {},
   "source": [
    "Checking NaN"
   ]
  },
  {
   "cell_type": "code",
   "execution_count": 13,
   "id": "fda78ea1",
   "metadata": {},
   "outputs": [
    {
     "data": {
      "text/plain": [
       "trips_in_first_30_days         0\n",
       "avg_rating_of_driver        8122\n",
       "avg_surge                      0\n",
       "surge_pct                      0\n",
       "weekday_pct                    0\n",
       "avg_dist                       0\n",
       "avg_rating_by_driver         201\n",
       "ultimate_black_user_True       0\n",
       "city_King's Landing            0\n",
       "city_Winterfell                0\n",
       "activity_Active                0\n",
       "activity_Not Active            0\n",
       "dtype: int64"
      ]
     },
     "execution_count": 13,
     "metadata": {},
     "output_type": "execute_result"
    }
   ],
   "source": [
    "df_d.isna().sum()"
   ]
  },
  {
   "cell_type": "markdown",
   "id": "47b09488",
   "metadata": {},
   "source": [
    "Droping all the NaNs"
   ]
  },
  {
   "cell_type": "code",
   "execution_count": 14,
   "id": "79949bd5",
   "metadata": {},
   "outputs": [
    {
     "data": {
      "text/plain": [
       "trips_in_first_30_days      0\n",
       "avg_surge                   0\n",
       "surge_pct                   0\n",
       "weekday_pct                 0\n",
       "avg_dist                    0\n",
       "ultimate_black_user_True    0\n",
       "city_King's Landing         0\n",
       "city_Winterfell             0\n",
       "activity_Active             0\n",
       "activity_Not Active         0\n",
       "dtype: int64"
      ]
     },
     "execution_count": 14,
     "metadata": {},
     "output_type": "execute_result"
    }
   ],
   "source": [
    "df_clean = df_d.dropna(axis='columns')\n",
    "df_clean.isna().sum()"
   ]
  },
  {
   "cell_type": "code",
   "execution_count": 15,
   "id": "632cc99b",
   "metadata": {},
   "outputs": [],
   "source": [
    "import warnings\n",
    "warnings.filterwarnings(\"ignore\")"
   ]
  },
  {
   "cell_type": "markdown",
   "id": "c2125cfa",
   "metadata": {},
   "source": [
    "# Lets do Logistic Regression"
   ]
  },
  {
   "cell_type": "code",
   "execution_count": 16,
   "id": "b9bf0a4a",
   "metadata": {},
   "outputs": [],
   "source": [
    "from sklearn.preprocessing import LabelEncoder\n",
    "from sklearn.model_selection import train_test_split\n",
    "from sklearn.metrics import classification_report\n",
    "from sklearn.ensemble import RandomForestClassifier\n",
    "from sklearn.linear_model import LogisticRegression\n",
    "from sklearn.metrics import accuracy_score, confusion_matrix\n",
    "from sklearn.metrics import f1_score"
   ]
  },
  {
   "cell_type": "code",
   "execution_count": 18,
   "id": "2e169581",
   "metadata": {},
   "outputs": [],
   "source": [
    "X = df_clean.drop(columns = ['activity_Active', 'activity_Not Active'])\n",
    "y = df_clean['activity_Active']\n",
    "\n",
    "x_train, x_test, y_train, y_test = train_test_split(X, y, test_size=0.2, random_state=123)\n",
    "\n",
    "LogR_model = LogisticRegression()\n",
    "\n",
    "LogR_model.fit(x_train, y_train)\n",
    "\n",
    "predictions_LogR = LogR_model.predict(x_test)"
   ]
  },
  {
   "cell_type": "code",
   "execution_count": 19,
   "id": "18bb24cb",
   "metadata": {},
   "outputs": [
    {
     "data": {
      "text/plain": [
       "array([[3068,    0],\n",
       "       [   0, 6932]], dtype=int64)"
      ]
     },
     "execution_count": 19,
     "metadata": {},
     "output_type": "execute_result"
    }
   ],
   "source": [
    "# Create confusion matrix\n",
    "confusion_matrix(y_test, predictions_LogR)"
   ]
  },
  {
   "cell_type": "code",
   "execution_count": 20,
   "id": "e0335a5c",
   "metadata": {},
   "outputs": [
    {
     "name": "stdout",
     "output_type": "stream",
     "text": [
      "1.0\n",
      "1.0\n"
     ]
    }
   ],
   "source": [
    "#  accuracy score\n",
    "print(accuracy_score(y_test, predictions_LogR))\n",
    "#  F1 score\n",
    "print(f1_score(y_test,predictions_LogR))"
   ]
  },
  {
   "cell_type": "code",
   "execution_count": 21,
   "id": "20003ca1",
   "metadata": {},
   "outputs": [
    {
     "name": "stdout",
     "output_type": "stream",
     "text": [
      "1.0\n",
      "              precision    recall  f1-score   support\n",
      "\n",
      "           0       1.00      1.00      1.00      3068\n",
      "           1       1.00      1.00      1.00      6932\n",
      "\n",
      "    accuracy                           1.00     10000\n",
      "   macro avg       1.00      1.00      1.00     10000\n",
      "weighted avg       1.00      1.00      1.00     10000\n",
      "\n"
     ]
    }
   ],
   "source": [
    "print(accuracy_score(LogR_model.predict(x_test), y_test))\n",
    "\n",
    "print(classification_report(y_test, predictions_LogR))"
   ]
  },
  {
   "cell_type": "code",
   "execution_count": 84,
   "id": "05e70eed",
   "metadata": {},
   "outputs": [
    {
     "data": {
      "text/plain": [
       "GridSearchCV(cv=10, estimator=LogisticRegression(max_iter=10000),\n",
       "             param_grid={'C': [0.001, 0.01, 0.1, 1, 10, 100, 1000]})"
      ]
     },
     "execution_count": 84,
     "metadata": {},
     "output_type": "execute_result"
    }
   ],
   "source": [
    "X = df_clean.drop(columns = ['activity_Active', 'activity_Not Active'])\n",
    "y = df_clean['activity_Active']\n",
    "\n",
    "X_train, X_test, y_train, y_test = train_test_split(X, y, test_size=0.2)\n",
    "\n",
    "\n",
    "LR_mod = LogisticRegression(max_iter = 10000)\n",
    "\n",
    "grid = {'C':[0.001, 0.01, 0.1, 1, 10, 100, 1000]}\n",
    "\n",
    "LR_GS = GridSearchCV(LR_mod, grid, cv = 10)\n",
    "\n",
    "LR_GS.fit(x_train,y_train)"
   ]
  },
  {
   "cell_type": "code",
   "execution_count": 85,
   "id": "fff52ea5",
   "metadata": {},
   "outputs": [
    {
     "name": "stdout",
     "output_type": "stream",
     "text": [
      "tuned hpyerparameters :(best parameters)  {'C': 0.001}\n",
      "accuracy : 0.692375\n"
     ]
    }
   ],
   "source": [
    "print(\"tuned hpyerparameters :(best parameters) \",LR_GS.best_params_)\n",
    "print(\"accuracy :\",LR_GS.best_score_)"
   ]
  },
  {
   "cell_type": "code",
   "execution_count": null,
   "id": "b43115de",
   "metadata": {},
   "outputs": [],
   "source": []
  },
  {
   "cell_type": "code",
   "execution_count": null,
   "id": "f6580999",
   "metadata": {},
   "outputs": [],
   "source": []
  },
  {
   "cell_type": "code",
   "execution_count": null,
   "id": "7a90a400",
   "metadata": {},
   "outputs": [],
   "source": []
  },
  {
   "cell_type": "code",
   "execution_count": null,
   "id": "97bacae5",
   "metadata": {},
   "outputs": [],
   "source": []
  },
  {
   "cell_type": "markdown",
   "id": "e49891ff",
   "metadata": {},
   "source": [
    "# Random Forest Classifier"
   ]
  },
  {
   "cell_type": "code",
   "execution_count": 23,
   "id": "03229c85",
   "metadata": {},
   "outputs": [],
   "source": [
    "X = df_clean.drop(columns = ['activity_Active', 'activity_Not Active'])\n",
    "y = df_clean['activity_Active']\n",
    "\n",
    "RF_m = RandomForestClassifier(n_estimators = 500, max_depth = 2, \n",
    "                             max_features = 3, bootstrap = True, random_state = 18).fit(x_train, y_train)\n",
    "\n",
    "prediction_RF = RF_m.predict(x_test)"
   ]
  },
  {
   "cell_type": "code",
   "execution_count": 24,
   "id": "265bd753",
   "metadata": {},
   "outputs": [
    {
     "data": {
      "text/plain": [
       "array([[3068,    0],\n",
       "       [   0, 6932]], dtype=int64)"
      ]
     },
     "execution_count": 24,
     "metadata": {},
     "output_type": "execute_result"
    }
   ],
   "source": [
    "# Create confusion matrix\n",
    "confusion_matrix(y_test, prediction_RF)"
   ]
  },
  {
   "cell_type": "code",
   "execution_count": 25,
   "id": "ef968a87",
   "metadata": {},
   "outputs": [
    {
     "name": "stdout",
     "output_type": "stream",
     "text": [
      "1.0\n",
      "1.0\n"
     ]
    }
   ],
   "source": [
    "#  accuracy score\n",
    "print(accuracy_score(y_test, prediction_RF))\n",
    "#  F1 score\n",
    "print(f1_score(y_test,prediction_RF))"
   ]
  },
  {
   "cell_type": "code",
   "execution_count": 26,
   "id": "f9117c6f",
   "metadata": {},
   "outputs": [
    {
     "name": "stdout",
     "output_type": "stream",
     "text": [
      "1.0\n",
      "              precision    recall  f1-score   support\n",
      "\n",
      "           0       1.00      1.00      1.00      3068\n",
      "           1       1.00      1.00      1.00      6932\n",
      "\n",
      "    accuracy                           1.00     10000\n",
      "   macro avg       1.00      1.00      1.00     10000\n",
      "weighted avg       1.00      1.00      1.00     10000\n",
      "\n"
     ]
    }
   ],
   "source": [
    "print(accuracy_score(RF_m.predict(x_test), y_test))\n",
    "\n",
    "print(classification_report(y_test, prediction_RF))"
   ]
  },
  {
   "cell_type": "code",
   "execution_count": 53,
   "id": "9949e250",
   "metadata": {},
   "outputs": [],
   "source": [
    "from sklearn.model_selection import GridSearchCV"
   ]
  },
  {
   "cell_type": "code",
   "execution_count": 62,
   "id": "962e7054",
   "metadata": {
    "scrolled": true
   },
   "outputs": [
    {
     "name": "stdout",
     "output_type": "stream",
     "text": [
      "Fitting 4 folds for each of 28 candidates, totalling 112 fits\n",
      "[CV] END max_depth=20, min_samples_leaf=10, min_samples_split=2, n_estimators=0.001; total time=   0.0s\n",
      "[CV] END max_depth=20, min_samples_leaf=10, min_samples_split=2, n_estimators=0.001; total time=   0.0s\n",
      "[CV] END max_depth=20, min_samples_leaf=10, min_samples_split=2, n_estimators=0.001; total time=   0.0s\n",
      "[CV] END max_depth=20, min_samples_leaf=10, min_samples_split=2, n_estimators=0.001; total time=   0.0s\n",
      "[CV] END max_depth=20, min_samples_leaf=10, min_samples_split=2, n_estimators=0.01; total time=   0.0s\n",
      "[CV] END max_depth=20, min_samples_leaf=10, min_samples_split=2, n_estimators=0.01; total time=   0.0s\n",
      "[CV] END max_depth=20, min_samples_leaf=10, min_samples_split=2, n_estimators=0.01; total time=   0.0s\n",
      "[CV] END max_depth=20, min_samples_leaf=10, min_samples_split=2, n_estimators=0.01; total time=   0.0s\n",
      "[CV] END max_depth=20, min_samples_leaf=10, min_samples_split=2, n_estimators=0.1; total time=   0.0s\n",
      "[CV] END max_depth=20, min_samples_leaf=10, min_samples_split=2, n_estimators=0.1; total time=   0.0s\n",
      "[CV] END max_depth=20, min_samples_leaf=10, min_samples_split=2, n_estimators=0.1; total time=   0.0s\n",
      "[CV] END max_depth=20, min_samples_leaf=10, min_samples_split=2, n_estimators=0.1; total time=   0.0s\n",
      "[CV] END max_depth=20, min_samples_leaf=10, min_samples_split=2, n_estimators=1; total time=   0.0s\n",
      "[CV] END max_depth=20, min_samples_leaf=10, min_samples_split=2, n_estimators=1; total time=   0.0s\n",
      "[CV] END max_depth=20, min_samples_leaf=10, min_samples_split=2, n_estimators=1; total time=   0.0s\n",
      "[CV] END max_depth=20, min_samples_leaf=10, min_samples_split=2, n_estimators=1; total time=   0.0s\n",
      "[CV] END max_depth=20, min_samples_leaf=10, min_samples_split=2, n_estimators=10; total time=   0.3s\n",
      "[CV] END max_depth=20, min_samples_leaf=10, min_samples_split=2, n_estimators=10; total time=   0.3s\n",
      "[CV] END max_depth=20, min_samples_leaf=10, min_samples_split=2, n_estimators=10; total time=   0.3s\n",
      "[CV] END max_depth=20, min_samples_leaf=10, min_samples_split=2, n_estimators=10; total time=   0.3s\n",
      "[CV] END max_depth=20, min_samples_leaf=10, min_samples_split=2, n_estimators=100; total time=   3.5s\n",
      "[CV] END max_depth=20, min_samples_leaf=10, min_samples_split=2, n_estimators=100; total time=   3.8s\n",
      "[CV] END max_depth=20, min_samples_leaf=10, min_samples_split=2, n_estimators=100; total time=   4.0s\n",
      "[CV] END max_depth=20, min_samples_leaf=10, min_samples_split=2, n_estimators=100; total time=   3.3s\n",
      "[CV] END max_depth=20, min_samples_leaf=10, min_samples_split=2, n_estimators=1000; total time=  32.0s\n",
      "[CV] END max_depth=20, min_samples_leaf=10, min_samples_split=2, n_estimators=1000; total time=  31.8s\n",
      "[CV] END max_depth=20, min_samples_leaf=10, min_samples_split=2, n_estimators=1000; total time=  32.4s\n",
      "[CV] END max_depth=20, min_samples_leaf=10, min_samples_split=2, n_estimators=1000; total time=  31.7s\n",
      "[CV] END max_depth=20, min_samples_leaf=10, min_samples_split=5, n_estimators=0.001; total time=   0.0s\n",
      "[CV] END max_depth=20, min_samples_leaf=10, min_samples_split=5, n_estimators=0.001; total time=   0.0s\n",
      "[CV] END max_depth=20, min_samples_leaf=10, min_samples_split=5, n_estimators=0.001; total time=   0.0s\n",
      "[CV] END max_depth=20, min_samples_leaf=10, min_samples_split=5, n_estimators=0.001; total time=   0.0s\n",
      "[CV] END max_depth=20, min_samples_leaf=10, min_samples_split=5, n_estimators=0.01; total time=   0.0s\n",
      "[CV] END max_depth=20, min_samples_leaf=10, min_samples_split=5, n_estimators=0.01; total time=   0.0s\n",
      "[CV] END max_depth=20, min_samples_leaf=10, min_samples_split=5, n_estimators=0.01; total time=   0.0s\n",
      "[CV] END max_depth=20, min_samples_leaf=10, min_samples_split=5, n_estimators=0.01; total time=   0.0s\n",
      "[CV] END max_depth=20, min_samples_leaf=10, min_samples_split=5, n_estimators=0.1; total time=   0.0s\n",
      "[CV] END max_depth=20, min_samples_leaf=10, min_samples_split=5, n_estimators=0.1; total time=   0.0s\n",
      "[CV] END max_depth=20, min_samples_leaf=10, min_samples_split=5, n_estimators=0.1; total time=   0.0s\n",
      "[CV] END max_depth=20, min_samples_leaf=10, min_samples_split=5, n_estimators=0.1; total time=   0.0s\n",
      "[CV] END max_depth=20, min_samples_leaf=10, min_samples_split=5, n_estimators=1; total time=   0.0s\n",
      "[CV] END max_depth=20, min_samples_leaf=10, min_samples_split=5, n_estimators=1; total time=   0.0s\n",
      "[CV] END max_depth=20, min_samples_leaf=10, min_samples_split=5, n_estimators=1; total time=   0.0s\n",
      "[CV] END max_depth=20, min_samples_leaf=10, min_samples_split=5, n_estimators=1; total time=   0.0s\n",
      "[CV] END max_depth=20, min_samples_leaf=10, min_samples_split=5, n_estimators=10; total time=   0.3s\n",
      "[CV] END max_depth=20, min_samples_leaf=10, min_samples_split=5, n_estimators=10; total time=   0.3s\n",
      "[CV] END max_depth=20, min_samples_leaf=10, min_samples_split=5, n_estimators=10; total time=   0.3s\n",
      "[CV] END max_depth=20, min_samples_leaf=10, min_samples_split=5, n_estimators=10; total time=   0.3s\n",
      "[CV] END max_depth=20, min_samples_leaf=10, min_samples_split=5, n_estimators=100; total time=   3.1s\n",
      "[CV] END max_depth=20, min_samples_leaf=10, min_samples_split=5, n_estimators=100; total time=   3.1s\n",
      "[CV] END max_depth=20, min_samples_leaf=10, min_samples_split=5, n_estimators=100; total time=   3.2s\n",
      "[CV] END max_depth=20, min_samples_leaf=10, min_samples_split=5, n_estimators=100; total time=   3.1s\n",
      "[CV] END max_depth=20, min_samples_leaf=10, min_samples_split=5, n_estimators=1000; total time=  32.9s\n",
      "[CV] END max_depth=20, min_samples_leaf=10, min_samples_split=5, n_estimators=1000; total time=  31.6s\n",
      "[CV] END max_depth=20, min_samples_leaf=10, min_samples_split=5, n_estimators=1000; total time=  31.6s\n",
      "[CV] END max_depth=20, min_samples_leaf=10, min_samples_split=5, n_estimators=1000; total time=  31.8s\n",
      "[CV] END max_depth=20, min_samples_leaf=10, min_samples_split=15, n_estimators=0.001; total time=   0.0s\n",
      "[CV] END max_depth=20, min_samples_leaf=10, min_samples_split=15, n_estimators=0.001; total time=   0.0s\n",
      "[CV] END max_depth=20, min_samples_leaf=10, min_samples_split=15, n_estimators=0.001; total time=   0.0s\n",
      "[CV] END max_depth=20, min_samples_leaf=10, min_samples_split=15, n_estimators=0.001; total time=   0.0s\n",
      "[CV] END max_depth=20, min_samples_leaf=10, min_samples_split=15, n_estimators=0.01; total time=   0.0s\n",
      "[CV] END max_depth=20, min_samples_leaf=10, min_samples_split=15, n_estimators=0.01; total time=   0.0s\n",
      "[CV] END max_depth=20, min_samples_leaf=10, min_samples_split=15, n_estimators=0.01; total time=   0.0s\n",
      "[CV] END max_depth=20, min_samples_leaf=10, min_samples_split=15, n_estimators=0.01; total time=   0.0s\n",
      "[CV] END max_depth=20, min_samples_leaf=10, min_samples_split=15, n_estimators=0.1; total time=   0.0s\n",
      "[CV] END max_depth=20, min_samples_leaf=10, min_samples_split=15, n_estimators=0.1; total time=   0.0s\n",
      "[CV] END max_depth=20, min_samples_leaf=10, min_samples_split=15, n_estimators=0.1; total time=   0.0s\n",
      "[CV] END max_depth=20, min_samples_leaf=10, min_samples_split=15, n_estimators=0.1; total time=   0.0s\n",
      "[CV] END max_depth=20, min_samples_leaf=10, min_samples_split=15, n_estimators=1; total time=   0.0s\n",
      "[CV] END max_depth=20, min_samples_leaf=10, min_samples_split=15, n_estimators=1; total time=   0.0s\n",
      "[CV] END max_depth=20, min_samples_leaf=10, min_samples_split=15, n_estimators=1; total time=   0.0s\n",
      "[CV] END max_depth=20, min_samples_leaf=10, min_samples_split=15, n_estimators=1; total time=   0.0s\n",
      "[CV] END max_depth=20, min_samples_leaf=10, min_samples_split=15, n_estimators=10; total time=   0.4s\n",
      "[CV] END max_depth=20, min_samples_leaf=10, min_samples_split=15, n_estimators=10; total time=   0.3s\n",
      "[CV] END max_depth=20, min_samples_leaf=10, min_samples_split=15, n_estimators=10; total time=   0.3s\n",
      "[CV] END max_depth=20, min_samples_leaf=10, min_samples_split=15, n_estimators=10; total time=   0.3s\n",
      "[CV] END max_depth=20, min_samples_leaf=10, min_samples_split=15, n_estimators=100; total time=   3.1s\n",
      "[CV] END max_depth=20, min_samples_leaf=10, min_samples_split=15, n_estimators=100; total time=   3.1s\n",
      "[CV] END max_depth=20, min_samples_leaf=10, min_samples_split=15, n_estimators=100; total time=   3.1s\n",
      "[CV] END max_depth=20, min_samples_leaf=10, min_samples_split=15, n_estimators=100; total time=   3.5s\n"
     ]
    },
    {
     "name": "stdout",
     "output_type": "stream",
     "text": [
      "[CV] END max_depth=20, min_samples_leaf=10, min_samples_split=15, n_estimators=1000; total time=  42.5s\n",
      "[CV] END max_depth=20, min_samples_leaf=10, min_samples_split=15, n_estimators=1000; total time=  48.2s\n",
      "[CV] END max_depth=20, min_samples_leaf=10, min_samples_split=15, n_estimators=1000; total time=  38.5s\n",
      "[CV] END max_depth=20, min_samples_leaf=10, min_samples_split=15, n_estimators=1000; total time=  37.4s\n",
      "[CV] END max_depth=20, min_samples_leaf=10, min_samples_split=30, n_estimators=0.001; total time=   0.0s\n",
      "[CV] END max_depth=20, min_samples_leaf=10, min_samples_split=30, n_estimators=0.001; total time=   0.0s\n",
      "[CV] END max_depth=20, min_samples_leaf=10, min_samples_split=30, n_estimators=0.001; total time=   0.0s\n",
      "[CV] END max_depth=20, min_samples_leaf=10, min_samples_split=30, n_estimators=0.001; total time=   0.0s\n",
      "[CV] END max_depth=20, min_samples_leaf=10, min_samples_split=30, n_estimators=0.01; total time=   0.0s\n",
      "[CV] END max_depth=20, min_samples_leaf=10, min_samples_split=30, n_estimators=0.01; total time=   0.0s\n",
      "[CV] END max_depth=20, min_samples_leaf=10, min_samples_split=30, n_estimators=0.01; total time=   0.0s\n",
      "[CV] END max_depth=20, min_samples_leaf=10, min_samples_split=30, n_estimators=0.01; total time=   0.0s\n",
      "[CV] END max_depth=20, min_samples_leaf=10, min_samples_split=30, n_estimators=0.1; total time=   0.0s\n",
      "[CV] END max_depth=20, min_samples_leaf=10, min_samples_split=30, n_estimators=0.1; total time=   0.0s\n",
      "[CV] END max_depth=20, min_samples_leaf=10, min_samples_split=30, n_estimators=0.1; total time=   0.0s\n",
      "[CV] END max_depth=20, min_samples_leaf=10, min_samples_split=30, n_estimators=0.1; total time=   0.0s\n",
      "[CV] END max_depth=20, min_samples_leaf=10, min_samples_split=30, n_estimators=1; total time=   0.0s\n",
      "[CV] END max_depth=20, min_samples_leaf=10, min_samples_split=30, n_estimators=1; total time=   0.0s\n",
      "[CV] END max_depth=20, min_samples_leaf=10, min_samples_split=30, n_estimators=1; total time=   0.0s\n",
      "[CV] END max_depth=20, min_samples_leaf=10, min_samples_split=30, n_estimators=1; total time=   0.0s\n",
      "[CV] END max_depth=20, min_samples_leaf=10, min_samples_split=30, n_estimators=10; total time=   0.3s\n",
      "[CV] END max_depth=20, min_samples_leaf=10, min_samples_split=30, n_estimators=10; total time=   0.3s\n",
      "[CV] END max_depth=20, min_samples_leaf=10, min_samples_split=30, n_estimators=10; total time=   0.3s\n",
      "[CV] END max_depth=20, min_samples_leaf=10, min_samples_split=30, n_estimators=10; total time=   0.3s\n",
      "[CV] END max_depth=20, min_samples_leaf=10, min_samples_split=30, n_estimators=100; total time=   3.7s\n",
      "[CV] END max_depth=20, min_samples_leaf=10, min_samples_split=30, n_estimators=100; total time=   3.5s\n",
      "[CV] END max_depth=20, min_samples_leaf=10, min_samples_split=30, n_estimators=100; total time=   4.7s\n",
      "[CV] END max_depth=20, min_samples_leaf=10, min_samples_split=30, n_estimators=100; total time=   3.5s\n",
      "[CV] END max_depth=20, min_samples_leaf=10, min_samples_split=30, n_estimators=1000; total time=  34.2s\n",
      "[CV] END max_depth=20, min_samples_leaf=10, min_samples_split=30, n_estimators=1000; total time=  33.7s\n",
      "[CV] END max_depth=20, min_samples_leaf=10, min_samples_split=30, n_estimators=1000; total time=  36.0s\n",
      "[CV] END max_depth=20, min_samples_leaf=10, min_samples_split=30, n_estimators=1000; total time=  34.9s\n"
     ]
    },
    {
     "data": {
      "text/plain": [
       "{'max_depth': 20,\n",
       " 'min_samples_leaf': 10,\n",
       " 'min_samples_split': 2,\n",
       " 'n_estimators': 10}"
      ]
     },
     "execution_count": 62,
     "metadata": {},
     "output_type": "execute_result"
    }
   ],
   "source": [
    "X = df_clean.drop(columns = ['activity_Active', 'activity_Not Active'])\n",
    "y = df_clean['activity_Active']\n",
    "\n",
    "X_train, X_test, y_train, y_test = train_test_split(X, y, test_size=0.2)\n",
    "\n",
    "n_estimators = [0.001, 0.01, 0.1, 1, 10, 100, 1000]\n",
    "max_depth = [20]\n",
    "min_samples_split = [2, 5, 15, 30]\n",
    "min_samples_leaf = [10]\n",
    "\n",
    "param_grid = {'n_estimators': n_estimators,\n",
    "               'max_depth': max_depth,\n",
    "               'min_samples_split': min_samples_split,\n",
    "               'min_samples_leaf': min_samples_leaf}\n",
    "\n",
    "RF_mod = RandomForestClassifier()\n",
    "\n",
    "RF_GS = GridSearchCV(estimator = RF_mod, param_grid = param_grid, verbose=2, cv=4, n_jobs=1)\n",
    "\n",
    "RF_GS.fit(X_train, y_train)\n",
    "\n",
    "RF_GS.best_params_"
   ]
  },
  {
   "cell_type": "code",
   "execution_count": 63,
   "id": "be4cfaef",
   "metadata": {},
   "outputs": [
    {
     "name": "stdout",
     "output_type": "stream",
     "text": [
      "Train Accuracy - : 1.000\n",
      "Test Accuracy - : 1.000\n"
     ]
    }
   ],
   "source": [
    "print(f'Train Accuracy - : {RF_GS.score(X_train, y_train):.3f}')\n",
    "\n",
    "print(f'Test Accuracy - : {RF_GS.score(X_test, y_test):.3f}')"
   ]
  },
  {
   "cell_type": "code",
   "execution_count": 67,
   "id": "63659c8d",
   "metadata": {},
   "outputs": [],
   "source": [
    "from sklearn.metrics import roc_curve\n",
    "from sklearn.metrics import roc_auc_score"
   ]
  },
  {
   "cell_type": "code",
   "execution_count": 73,
   "id": "8343d149",
   "metadata": {},
   "outputs": [
    {
     "data": {
      "image/png": "[encoded data removed]",
      "text/plain": [
       "<Figure size 576x504 with 1 Axes>"
      ]
     },
     "metadata": {
      "needs_background": "light"
     },
     "output_type": "display_data"
    }
   ],
   "source": [
    "X = df_clean.drop(columns = ['activity_Active', 'activity_Not Active'])\n",
    "y = df_clean['activity_Active']\n",
    "\n",
    "roc_model = RF_GS.best_estimator_.fit(X_train, y_train)\n",
    "\n",
    "p_p = roc_model.predict_proba(X_test)[:,1]\n",
    "\n",
    "fpr, tpr, thresholds = roc_curve(y_test, p_p)\n",
    "auc_score = roc_auc_score(y_test, p_p)\n",
    "\n",
    "_ = sns.lineplot(x=[0,1], y=[0,1], linestyle='-.')\n",
    "_ = sns.lineplot(x=fpr, y=tpr, label='ROC curve (area = %0.2f)' % auc_score)\n",
    "_ = plt.gcf().set_size_inches(8, 7)\n",
    "_ = plt.xlabel('False Positive Rate')\n",
    "_ = plt.ylabel('True Positive Rate')\n",
    "_ = plt.title('ROC Curve')\n",
    "_ = plt.legend(loc=\"lower right\")"
   ]
  },
  {
   "cell_type": "code",
   "execution_count": null,
   "id": "0cf01c8f",
   "metadata": {},
   "outputs": [],
   "source": []
  },
  {
   "cell_type": "code",
   "execution_count": null,
   "id": "6eb6694f",
   "metadata": {},
   "outputs": [],
   "source": []
  },
  {
   "cell_type": "code",
   "execution_count": null,
   "id": "6e7bc13b",
   "metadata": {},
   "outputs": [],
   "source": []
  },
  {
   "cell_type": "code",
   "execution_count": null,
   "id": "00337a0f",
   "metadata": {},
   "outputs": [],
   "source": []
  },
  {
   "cell_type": "markdown",
   "id": "a875dc7f",
   "metadata": {},
   "source": [
    "# ANOTHER WAY - Logistic Regression"
   ]
  },
  {
   "cell_type": "code",
   "execution_count": 27,
   "id": "f2d06fd0",
   "metadata": {},
   "outputs": [],
   "source": [
    "ANOTHER = pd.read_json('ultimate_data_challenge.json',convert_dates=['last_trip_date', 'signup_date'])"
   ]
  },
  {
   "cell_type": "code",
   "execution_count": 28,
   "id": "28b17b0e",
   "metadata": {},
   "outputs": [],
   "source": [
    "result = []\n",
    "for n in ANOTHER['trips_in_first_30_days']:\n",
    "    if n > 0:\n",
    "        result.append(\"Active\")\n",
    "    else:\n",
    "        result.append(\"Not Active\")\n",
    "      \n",
    "ANOTHER[\"activity\"] = result"
   ]
  },
  {
   "cell_type": "code",
   "execution_count": 29,
   "id": "e71db21f",
   "metadata": {},
   "outputs": [
    {
     "data": {
      "text/plain": [
       "city                      0\n",
       "trips_in_first_30_days    0\n",
       "signup_date               0\n",
       "avg_surge                 0\n",
       "last_trip_date            0\n",
       "surge_pct                 0\n",
       "ultimate_black_user       0\n",
       "weekday_pct               0\n",
       "avg_dist                  0\n",
       "activity                  0\n",
       "dtype: int64"
      ]
     },
     "execution_count": 29,
     "metadata": {},
     "output_type": "execute_result"
    }
   ],
   "source": [
    "ANOTHER = ANOTHER.dropna(axis='columns')\n",
    "ANOTHER.isna().sum()"
   ]
  },
  {
   "cell_type": "code",
   "execution_count": 30,
   "id": "b5c94020",
   "metadata": {},
   "outputs": [],
   "source": [
    "from sklearn.preprocessing import LabelEncoder\n",
    "from sklearn.preprocessing import StandardScaler, QuantileTransformer\n",
    "from sklearn.metrics import classification_report\n",
    "from sklearn.linear_model import LogisticRegression\n",
    "from sklearn.model_selection import train_test_split\n",
    "from sklearn.metrics import accuracy_score, confusion_matrix"
   ]
  },
  {
   "cell_type": "code",
   "execution_count": 31,
   "id": "a5f4f7d7",
   "metadata": {},
   "outputs": [],
   "source": [
    "#Encode Categories\n",
    "ANOTHER.city = LabelEncoder().fit_transform(ANOTHER.city)\n",
    "ANOTHER.ultimate_black_user = LabelEncoder().fit_transform(ANOTHER.ultimate_black_user)\n",
    "ANOTHER.active_status = LabelEncoder().fit_transform(ANOTHER.activity)"
   ]
  },
  {
   "cell_type": "code",
   "execution_count": 32,
   "id": "4450acf0",
   "metadata": {},
   "outputs": [
    {
     "data": {
      "text/html": [
       "<div>\n",
       "<style scoped>\n",
       "    .dataframe tbody tr th:only-of-type {\n",
       "        vertical-align: middle;\n",
       "    }\n",
       "\n",
       "    .dataframe tbody tr th {\n",
       "        vertical-align: top;\n",
       "    }\n",
       "\n",
       "    .dataframe thead th {\n",
       "        text-align: right;\n",
       "    }\n",
       "</style>\n",
       "<table border=\"1\" class=\"dataframe\">\n",
       "  <thead>\n",
       "    <tr style=\"text-align: right;\">\n",
       "      <th></th>\n",
       "      <th>0</th>\n",
       "      <th>1</th>\n",
       "      <th>2</th>\n",
       "      <th>3</th>\n",
       "      <th>4</th>\n",
       "    </tr>\n",
       "  </thead>\n",
       "  <tbody>\n",
       "    <tr>\n",
       "      <th>city</th>\n",
       "      <td>1</td>\n",
       "      <td>0</td>\n",
       "      <td>0</td>\n",
       "      <td>1</td>\n",
       "      <td>2</td>\n",
       "    </tr>\n",
       "    <tr>\n",
       "      <th>trips_in_first_30_days</th>\n",
       "      <td>4</td>\n",
       "      <td>0</td>\n",
       "      <td>3</td>\n",
       "      <td>9</td>\n",
       "      <td>14</td>\n",
       "    </tr>\n",
       "    <tr>\n",
       "      <th>signup_date</th>\n",
       "      <td>2014-01-25 00:00:00</td>\n",
       "      <td>2014-01-29 00:00:00</td>\n",
       "      <td>2014-01-06 00:00:00</td>\n",
       "      <td>2014-01-10 00:00:00</td>\n",
       "      <td>2014-01-27 00:00:00</td>\n",
       "    </tr>\n",
       "    <tr>\n",
       "      <th>avg_surge</th>\n",
       "      <td>1.1</td>\n",
       "      <td>1.0</td>\n",
       "      <td>1.0</td>\n",
       "      <td>1.14</td>\n",
       "      <td>1.19</td>\n",
       "    </tr>\n",
       "    <tr>\n",
       "      <th>last_trip_date</th>\n",
       "      <td>2014-06-17 00:00:00</td>\n",
       "      <td>2014-05-05 00:00:00</td>\n",
       "      <td>2014-01-07 00:00:00</td>\n",
       "      <td>2014-06-29 00:00:00</td>\n",
       "      <td>2014-03-15 00:00:00</td>\n",
       "    </tr>\n",
       "    <tr>\n",
       "      <th>surge_pct</th>\n",
       "      <td>15.4</td>\n",
       "      <td>0.0</td>\n",
       "      <td>0.0</td>\n",
       "      <td>20.0</td>\n",
       "      <td>11.8</td>\n",
       "    </tr>\n",
       "    <tr>\n",
       "      <th>ultimate_black_user</th>\n",
       "      <td>1</td>\n",
       "      <td>0</td>\n",
       "      <td>0</td>\n",
       "      <td>1</td>\n",
       "      <td>0</td>\n",
       "    </tr>\n",
       "    <tr>\n",
       "      <th>weekday_pct</th>\n",
       "      <td>46.2</td>\n",
       "      <td>50.0</td>\n",
       "      <td>100.0</td>\n",
       "      <td>80.0</td>\n",
       "      <td>82.4</td>\n",
       "    </tr>\n",
       "    <tr>\n",
       "      <th>avg_dist</th>\n",
       "      <td>3.67</td>\n",
       "      <td>8.26</td>\n",
       "      <td>0.77</td>\n",
       "      <td>2.36</td>\n",
       "      <td>3.13</td>\n",
       "    </tr>\n",
       "    <tr>\n",
       "      <th>activity</th>\n",
       "      <td>Active</td>\n",
       "      <td>Not Active</td>\n",
       "      <td>Active</td>\n",
       "      <td>Active</td>\n",
       "      <td>Active</td>\n",
       "    </tr>\n",
       "  </tbody>\n",
       "</table>\n",
       "</div>"
      ],
      "text/plain": [
       "                                          0                    1  \\\n",
       "city                                      1                    0   \n",
       "trips_in_first_30_days                    4                    0   \n",
       "signup_date             2014-01-25 00:00:00  2014-01-29 00:00:00   \n",
       "avg_surge                               1.1                  1.0   \n",
       "last_trip_date          2014-06-17 00:00:00  2014-05-05 00:00:00   \n",
       "surge_pct                              15.4                  0.0   \n",
       "ultimate_black_user                       1                    0   \n",
       "weekday_pct                            46.2                 50.0   \n",
       "avg_dist                               3.67                 8.26   \n",
       "activity                             Active           Not Active   \n",
       "\n",
       "                                          2                    3  \\\n",
       "city                                      0                    1   \n",
       "trips_in_first_30_days                    3                    9   \n",
       "signup_date             2014-01-06 00:00:00  2014-01-10 00:00:00   \n",
       "avg_surge                               1.0                 1.14   \n",
       "last_trip_date          2014-01-07 00:00:00  2014-06-29 00:00:00   \n",
       "surge_pct                               0.0                 20.0   \n",
       "ultimate_black_user                       0                    1   \n",
       "weekday_pct                           100.0                 80.0   \n",
       "avg_dist                               0.77                 2.36   \n",
       "activity                             Active               Active   \n",
       "\n",
       "                                          4  \n",
       "city                                      2  \n",
       "trips_in_first_30_days                   14  \n",
       "signup_date             2014-01-27 00:00:00  \n",
       "avg_surge                              1.19  \n",
       "last_trip_date          2014-03-15 00:00:00  \n",
       "surge_pct                              11.8  \n",
       "ultimate_black_user                       0  \n",
       "weekday_pct                            82.4  \n",
       "avg_dist                               3.13  \n",
       "activity                             Active  "
      ]
     },
     "execution_count": 32,
     "metadata": {},
     "output_type": "execute_result"
    }
   ],
   "source": [
    "ANOTHER.head().T"
   ]
  },
  {
   "cell_type": "code",
   "execution_count": 33,
   "id": "e4e03acd",
   "metadata": {},
   "outputs": [],
   "source": [
    "X = ANOTHER.drop(columns = ['activity', 'last_trip_date','signup_date'])\n",
    "y = ANOTHER['activity']"
   ]
  },
  {
   "cell_type": "code",
   "execution_count": 34,
   "id": "1f21206f",
   "metadata": {},
   "outputs": [],
   "source": [
    "x_train, x_test, y_train, y_test = train_test_split(X, y, test_size=0.20, random_state=123)"
   ]
  },
  {
   "cell_type": "code",
   "execution_count": 35,
   "id": "7955fd43",
   "metadata": {},
   "outputs": [],
   "source": [
    "#Scaler\n",
    "x_train = QuantileTransformer().fit_transform(x_train)\n",
    "x_test = QuantileTransformer().fit_transform(x_test)"
   ]
  },
  {
   "cell_type": "code",
   "execution_count": 36,
   "id": "c57d7b69",
   "metadata": {},
   "outputs": [
    {
     "data": {
      "text/plain": [
       "LogisticRegression()"
      ]
     },
     "execution_count": 36,
     "metadata": {},
     "output_type": "execute_result"
    }
   ],
   "source": [
    "#Create model\n",
    "model11 = LogisticRegression()\n",
    "\n",
    "#Fit the model on the training data\n",
    "model11.fit(x_train, y_train)"
   ]
  },
  {
   "cell_type": "code",
   "execution_count": 42,
   "id": "9c883f58",
   "metadata": {},
   "outputs": [
    {
     "name": "stdout",
     "output_type": "stream",
     "text": [
      "1.0\n",
      "              precision    recall  f1-score   support\n",
      "\n",
      "      Active       1.00      1.00      1.00      6859\n",
      "  Not Active       1.00      1.00      1.00      3141\n",
      "\n",
      "    accuracy                           1.00     10000\n",
      "   macro avg       1.00      1.00      1.00     10000\n",
      "weighted avg       1.00      1.00      1.00     10000\n",
      "\n"
     ]
    }
   ],
   "source": [
    "predictions_2 = model11.predict(x_test)\n",
    "\n",
    "#Print the accuracy score and classification report from the testing data\n",
    "print(accuracy_score(model11.predict(x_test), y_test))\n",
    "\n",
    "print(classification_report(y_test, predictions_2))"
   ]
  },
  {
   "cell_type": "code",
   "execution_count": 82,
   "id": "692a9c37",
   "metadata": {},
   "outputs": [
    {
     "data": {
      "text/plain": [
       "GridSearchCV(cv=10, estimator=LogisticRegression(max_iter=10000),\n",
       "             param_grid={'C': [0.001, 0.01, 0.1, 1, 10, 100, 1000]})"
      ]
     },
     "execution_count": 82,
     "metadata": {},
     "output_type": "execute_result"
    }
   ],
   "source": [
    "X = ANOTHER.drop(columns = ['activity', 'last_trip_date','signup_date'])\n",
    "y = ANOTHER['activity']\n",
    "\n",
    "X_train, X_test, y_train, y_test = train_test_split(X, y, test_size=0.2)\n",
    "\n",
    "\n",
    "LR_mod = LogisticRegression(max_iter = 10000)\n",
    "\n",
    "grid = {'C':[0.001, 0.01, 0.1, 1, 10, 100, 1000]}\n",
    "\n",
    "LR_GS = GridSearchCV(LR_mod, grid, cv = 10)\n",
    "\n",
    "LR_GS.fit(x_train,y_train)"
   ]
  },
  {
   "cell_type": "code",
   "execution_count": 83,
   "id": "de4c3aa7",
   "metadata": {},
   "outputs": [
    {
     "name": "stdout",
     "output_type": "stream",
     "text": [
      "tuned hpyerparameters :(best parameters)  {'C': 0.001}\n",
      "accuracy : 0.694625\n"
     ]
    }
   ],
   "source": [
    "print(\"tuned hpyerparameters :(best parameters) \",LR_GS.best_params_)\n",
    "print(\"accuracy :\",LR_GS.best_score_)"
   ]
  }
 ],
 "metadata": {
  "kernelspec": {
   "display_name": "Python 3 (ipykernel)",
   "language": "python",
   "name": "python3"
  },
  "language_info": {
   "codemirror_mode": {
    "name": "ipython",
    "version": 3
   },
   "file_extension": ".py",
   "mimetype": "text/x-python",
   "name": "python",
   "nbconvert_exporter": "python",
   "pygments_lexer": "ipython3",
   "version": "3.9.7"
  }
 },
 "nbformat": 4,
 "nbformat_minor": 5
}
