{
 "cells": [
  {
   "cell_type": "markdown",
   "id": "11ec4d73",
   "metadata": {},
   "source": [
    "# Techno Industries Inc."
   ]
  },
  {
   "cell_type": "markdown",
   "id": "ca8af606",
   "metadata": {},
   "source": [
    "Techno Industries Inc. a leader of manufacturing different equipment components, has observed that market demand\n",
    "has been strong over the past few years with growth averaging 6.9% Year-on-Year.\n",
    "As a Fortune 500 corporation, this good growth has led the company to expand their operation and distribution centers across 48 states in the US. With very good growth rates and lower barriers to entry due to government regulation, this has attracted a lot of new companies that increase competition drastically. New businesses are offering better and optimized delivery for components, and some companies have started using machine learning and artificial intelligence to create better technology and lower the production costs for existing components.\n",
    "After Techno Industries Inc. lost several top long-term customers that brought 11% of the company's revenue, management decided to ceate short-term plan.\n",
    "If this problem continues, the Techno Industries Inc. market share and potential customer-base will be at risk, also it will indicate a potential risk in the company’s ability to make dividend payments to shareholders if losses are too big.\n",
    "Techno Industries Inc. currently includes 6 primary industries and 11 different types of components.\n",
    "Management needs an immediate short-term action plan to address the loss of customers and protect the existing market share."
   ]
  },
  {
   "cell_type": "markdown",
   "id": "3bdf91ce",
   "metadata": {},
   "source": [
    "**The main goal of this project is to determine in which type of components Techno Industries Inc. should invest**"
   ]
  },
  {
   "cell_type": "markdown",
   "id": "0a8b821e",
   "metadata": {},
   "source": [
    "What number of customers in each segment purchase this specific component?     \n",
    "What is the revenue breakdown per industry?    \n",
    "Is there any seasonality in industry sales?     \n",
    "If there is seasonality in industry, which product in that industry has seasonality?      \n",
    "What is the geographic distribution of each segment?     \n",
    "Which segment yields the highest average profit margin?    \n",
    "How do segments compare with the number of customers?    \n",
    "Which products are driving the highest profit?      \n",
    "Which product has the lowest profit?   \n",
    "Which product has the highest growth potential?"
   ]
  },
  {
   "cell_type": "code",
   "execution_count": 1,
   "id": "f91899db",
   "metadata": {},
   "outputs": [],
   "source": [
    "import pandas as pd\n",
    "import numpy as np\n",
    "import seaborn as sns\n",
    "import matplotlib.colors as mcolors\n",
    "import matplotlib.pyplot as plt\n",
    "from sklearn.preprocessing import LabelEncoder"
   ]
  },
  {
   "cell_type": "markdown",
   "id": "baff64dc",
   "metadata": {},
   "source": [
    "Loading data and exploring dataset."
   ]
  },
  {
   "cell_type": "code",
   "execution_count": 2,
   "id": "55342fa0",
   "metadata": {},
   "outputs": [],
   "source": [
    "df = pd.read_excel(r'C:\\Users\\vikag\\Desktop\\Data-Science-Projects\\Techno Industries Inc\\Techno Industries Inc. Data.xlsx')"
   ]
  },
  {
   "cell_type": "code",
   "execution_count": 3,
   "id": "87781685",
   "metadata": {},
   "outputs": [
    {
     "data": {
      "text/html": [
       "<div>\n",
       "<style scoped>\n",
       "    .dataframe tbody tr th:only-of-type {\n",
       "        vertical-align: middle;\n",
       "    }\n",
       "\n",
       "    .dataframe tbody tr th {\n",
       "        vertical-align: top;\n",
       "    }\n",
       "\n",
       "    .dataframe thead th {\n",
       "        text-align: right;\n",
       "    }\n",
       "</style>\n",
       "<table border=\"1\" class=\"dataframe\">\n",
       "  <thead>\n",
       "    <tr style=\"text-align: right;\">\n",
       "      <th></th>\n",
       "      <th>0</th>\n",
       "      <th>1</th>\n",
       "      <th>2</th>\n",
       "      <th>3</th>\n",
       "      <th>4</th>\n",
       "    </tr>\n",
       "  </thead>\n",
       "  <tbody>\n",
       "    <tr>\n",
       "      <th>Date</th>\n",
       "      <td>2015-01-01 00:00:00</td>\n",
       "      <td>2015-01-01 00:00:00</td>\n",
       "      <td>2015-01-01 00:00:00</td>\n",
       "      <td>2015-01-01 00:00:00</td>\n",
       "      <td>2015-01-01 00:00:00</td>\n",
       "    </tr>\n",
       "    <tr>\n",
       "      <th>Customer ID</th>\n",
       "      <td>10318</td>\n",
       "      <td>10173</td>\n",
       "      <td>10217</td>\n",
       "      <td>10021</td>\n",
       "      <td>10041</td>\n",
       "    </tr>\n",
       "    <tr>\n",
       "      <th>Product</th>\n",
       "      <td>LCD, LED, OLED displays</td>\n",
       "      <td>Actuators</td>\n",
       "      <td>Fuse</td>\n",
       "      <td>Resistors</td>\n",
       "      <td>Light Emitting Diode (LED)</td>\n",
       "    </tr>\n",
       "    <tr>\n",
       "      <th>State</th>\n",
       "      <td>Massachusetts</td>\n",
       "      <td>New Hampshire</td>\n",
       "      <td>Maine</td>\n",
       "      <td>Maine</td>\n",
       "      <td>New Jersey</td>\n",
       "    </tr>\n",
       "    <tr>\n",
       "      <th>Zip Code</th>\n",
       "      <td>2109</td>\n",
       "      <td>3084</td>\n",
       "      <td>4250</td>\n",
       "      <td>4544</td>\n",
       "      <td>7023</td>\n",
       "    </tr>\n",
       "    <tr>\n",
       "      <th>Business Type</th>\n",
       "      <td>Industrial</td>\n",
       "      <td>Industrial</td>\n",
       "      <td>Aerospace</td>\n",
       "      <td>Agriculture</td>\n",
       "      <td>Aerospace</td>\n",
       "    </tr>\n",
       "    <tr>\n",
       "      <th>Cost (per unit)</th>\n",
       "      <td>2.06</td>\n",
       "      <td>0.55</td>\n",
       "      <td>2.215</td>\n",
       "      <td>1.575</td>\n",
       "      <td>1.725</td>\n",
       "    </tr>\n",
       "    <tr>\n",
       "      <th>Price (per unit)</th>\n",
       "      <td>8.2</td>\n",
       "      <td>4.62</td>\n",
       "      <td>2.4</td>\n",
       "      <td>4.79</td>\n",
       "      <td>1.85</td>\n",
       "    </tr>\n",
       "    <tr>\n",
       "      <th>Quantity</th>\n",
       "      <td>33.0</td>\n",
       "      <td>22.0</td>\n",
       "      <td>11.0</td>\n",
       "      <td>479.0</td>\n",
       "      <td>510.0</td>\n",
       "    </tr>\n",
       "    <tr>\n",
       "      <th>Revenue (total)</th>\n",
       "      <td>270.6</td>\n",
       "      <td>101.64</td>\n",
       "      <td>26.4</td>\n",
       "      <td>2294.41</td>\n",
       "      <td>943.5</td>\n",
       "    </tr>\n",
       "    <tr>\n",
       "      <th>Cost (total)</th>\n",
       "      <td>67.98</td>\n",
       "      <td>12.1</td>\n",
       "      <td>24.365</td>\n",
       "      <td>754.425</td>\n",
       "      <td>879.75</td>\n",
       "    </tr>\n",
       "  </tbody>\n",
       "</table>\n",
       "</div>"
      ],
      "text/plain": [
       "                                        0                    1  \\\n",
       "Date                  2015-01-01 00:00:00  2015-01-01 00:00:00   \n",
       "Customer ID                         10318                10173   \n",
       "Product           LCD, LED, OLED displays           Actuators    \n",
       "State                       Massachusetts        New Hampshire   \n",
       "Zip Code                             2109                 3084   \n",
       "Business Type                  Industrial           Industrial   \n",
       "Cost (per unit)                      2.06                 0.55   \n",
       "Price (per unit)                      8.2                 4.62   \n",
       "Quantity                             33.0                 22.0   \n",
       "Revenue (total)                     270.6               101.64   \n",
       "Cost (total)                        67.98                 12.1   \n",
       "\n",
       "                                    2                    3  \\\n",
       "Date              2015-01-01 00:00:00  2015-01-01 00:00:00   \n",
       "Customer ID                     10217                10021   \n",
       "Product                          Fuse            Resistors   \n",
       "State                           Maine                Maine   \n",
       "Zip Code                         4250                 4544   \n",
       "Business Type               Aerospace          Agriculture   \n",
       "Cost (per unit)                 2.215                1.575   \n",
       "Price (per unit)                  2.4                 4.79   \n",
       "Quantity                         11.0                479.0   \n",
       "Revenue (total)                  26.4              2294.41   \n",
       "Cost (total)                   24.365              754.425   \n",
       "\n",
       "                                           4  \n",
       "Date                     2015-01-01 00:00:00  \n",
       "Customer ID                            10041  \n",
       "Product           Light Emitting Diode (LED)  \n",
       "State                             New Jersey  \n",
       "Zip Code                                7023  \n",
       "Business Type                      Aerospace  \n",
       "Cost (per unit)                        1.725  \n",
       "Price (per unit)                        1.85  \n",
       "Quantity                               510.0  \n",
       "Revenue (total)                        943.5  \n",
       "Cost (total)                          879.75  "
      ]
     },
     "execution_count": 3,
     "metadata": {},
     "output_type": "execute_result"
    }
   ],
   "source": [
    "df.head().T"
   ]
  },
  {
   "cell_type": "code",
   "execution_count": 4,
   "id": "0d517ea2",
   "metadata": {},
   "outputs": [
    {
     "data": {
      "text/html": [
       "<div>\n",
       "<style scoped>\n",
       "    .dataframe tbody tr th:only-of-type {\n",
       "        vertical-align: middle;\n",
       "    }\n",
       "\n",
       "    .dataframe tbody tr th {\n",
       "        vertical-align: top;\n",
       "    }\n",
       "\n",
       "    .dataframe thead th {\n",
       "        text-align: right;\n",
       "    }\n",
       "</style>\n",
       "<table border=\"1\" class=\"dataframe\">\n",
       "  <thead>\n",
       "    <tr style=\"text-align: right;\">\n",
       "      <th></th>\n",
       "      <th>Customer ID</th>\n",
       "      <th>Zip Code</th>\n",
       "      <th>Cost (per unit)</th>\n",
       "      <th>Price (per unit)</th>\n",
       "      <th>Quantity</th>\n",
       "      <th>Revenue (total)</th>\n",
       "      <th>Cost (total)</th>\n",
       "    </tr>\n",
       "  </thead>\n",
       "  <tbody>\n",
       "    <tr>\n",
       "      <th>count</th>\n",
       "      <td>45516.000000</td>\n",
       "      <td>45516.000000</td>\n",
       "      <td>45516.000000</td>\n",
       "      <td>45516.000000</td>\n",
       "      <td>45516.000000</td>\n",
       "      <td>45516.000000</td>\n",
       "      <td>45516.000000</td>\n",
       "    </tr>\n",
       "    <tr>\n",
       "      <th>mean</th>\n",
       "      <td>10159.596164</td>\n",
       "      <td>52364.166447</td>\n",
       "      <td>2.632562</td>\n",
       "      <td>7.455079</td>\n",
       "      <td>212.357523</td>\n",
       "      <td>918.014754</td>\n",
       "      <td>375.560081</td>\n",
       "    </tr>\n",
       "    <tr>\n",
       "      <th>std</th>\n",
       "      <td>132.730140</td>\n",
       "      <td>31658.902561</td>\n",
       "      <td>3.654429</td>\n",
       "      <td>10.237572</td>\n",
       "      <td>1874.468932</td>\n",
       "      <td>4325.882521</td>\n",
       "      <td>2226.750648</td>\n",
       "    </tr>\n",
       "    <tr>\n",
       "      <th>min</th>\n",
       "      <td>10001.000000</td>\n",
       "      <td>1001.000000</td>\n",
       "      <td>0.550000</td>\n",
       "      <td>0.020000</td>\n",
       "      <td>0.000000</td>\n",
       "      <td>0.000000</td>\n",
       "      <td>0.000000</td>\n",
       "    </tr>\n",
       "    <tr>\n",
       "      <th>25%</th>\n",
       "      <td>10042.000000</td>\n",
       "      <td>19969.500000</td>\n",
       "      <td>1.060000</td>\n",
       "      <td>3.300000</td>\n",
       "      <td>10.000000</td>\n",
       "      <td>54.000000</td>\n",
       "      <td>17.250000</td>\n",
       "    </tr>\n",
       "    <tr>\n",
       "      <th>50%</th>\n",
       "      <td>10128.000000</td>\n",
       "      <td>53012.500000</td>\n",
       "      <td>1.725000</td>\n",
       "      <td>4.500000</td>\n",
       "      <td>36.000000</td>\n",
       "      <td>187.200000</td>\n",
       "      <td>60.980000</td>\n",
       "    </tr>\n",
       "    <tr>\n",
       "      <th>75%</th>\n",
       "      <td>10250.000000</td>\n",
       "      <td>83531.250000</td>\n",
       "      <td>2.215000</td>\n",
       "      <td>6.700000</td>\n",
       "      <td>115.000000</td>\n",
       "      <td>584.800000</td>\n",
       "      <td>227.065625</td>\n",
       "    </tr>\n",
       "    <tr>\n",
       "      <th>max</th>\n",
       "      <td>10544.000000</td>\n",
       "      <td>99403.000000</td>\n",
       "      <td>19.100000</td>\n",
       "      <td>100.810000</td>\n",
       "      <td>222317.000000</td>\n",
       "      <td>397947.430000</td>\n",
       "      <td>235656.020000</td>\n",
       "    </tr>\n",
       "  </tbody>\n",
       "</table>\n",
       "</div>"
      ],
      "text/plain": [
       "        Customer ID      Zip Code  Cost (per unit)  Price (per unit)  \\\n",
       "count  45516.000000  45516.000000     45516.000000      45516.000000   \n",
       "mean   10159.596164  52364.166447         2.632562          7.455079   \n",
       "std      132.730140  31658.902561         3.654429         10.237572   \n",
       "min    10001.000000   1001.000000         0.550000          0.020000   \n",
       "25%    10042.000000  19969.500000         1.060000          3.300000   \n",
       "50%    10128.000000  53012.500000         1.725000          4.500000   \n",
       "75%    10250.000000  83531.250000         2.215000          6.700000   \n",
       "max    10544.000000  99403.000000        19.100000        100.810000   \n",
       "\n",
       "            Quantity  Revenue (total)   Cost (total)  \n",
       "count   45516.000000     45516.000000   45516.000000  \n",
       "mean      212.357523       918.014754     375.560081  \n",
       "std      1874.468932      4325.882521    2226.750648  \n",
       "min         0.000000         0.000000       0.000000  \n",
       "25%        10.000000        54.000000      17.250000  \n",
       "50%        36.000000       187.200000      60.980000  \n",
       "75%       115.000000       584.800000     227.065625  \n",
       "max    222317.000000    397947.430000  235656.020000  "
      ]
     },
     "execution_count": 4,
     "metadata": {},
     "output_type": "execute_result"
    }
   ],
   "source": [
    "df.describe()"
   ]
  },
  {
   "cell_type": "code",
   "execution_count": 5,
   "id": "700e123a",
   "metadata": {},
   "outputs": [
    {
     "data": {
      "text/plain": [
       "Date                datetime64[ns]\n",
       "Customer ID                  int64\n",
       "Product                     object\n",
       "State                       object\n",
       "Zip Code                     int64\n",
       "Business Type               object\n",
       "Cost (per unit)            float64\n",
       "Price (per unit)           float64\n",
       "Quantity                   float64\n",
       "Revenue (total)            float64\n",
       "Cost (total)               float64\n",
       "dtype: object"
      ]
     },
     "execution_count": 5,
     "metadata": {},
     "output_type": "execute_result"
    }
   ],
   "source": [
    "df.dtypes"
   ]
  },
  {
   "cell_type": "markdown",
   "id": "7eec7c85",
   "metadata": {},
   "source": [
    "# Data Wrangling"
   ]
  },
  {
   "cell_type": "code",
   "execution_count": 6,
   "id": "b32daae7",
   "metadata": {},
   "outputs": [
    {
     "data": {
      "text/plain": [
       "Date                0\n",
       "Customer ID         0\n",
       "Product             0\n",
       "State               7\n",
       "Zip Code            0\n",
       "Business Type       0\n",
       "Cost (per unit)     0\n",
       "Price (per unit)    0\n",
       "Quantity            0\n",
       "Revenue (total)     0\n",
       "Cost (total)        0\n",
       "dtype: int64"
      ]
     },
     "execution_count": 6,
     "metadata": {},
     "output_type": "execute_result"
    }
   ],
   "source": [
    "df.isna().sum()"
   ]
  },
  {
   "cell_type": "code",
   "execution_count": 7,
   "id": "78cb13b2",
   "metadata": {
    "scrolled": true
   },
   "outputs": [
    {
     "data": {
      "text/html": [
       "<div>\n",
       "<style scoped>\n",
       "    .dataframe tbody tr th:only-of-type {\n",
       "        vertical-align: middle;\n",
       "    }\n",
       "\n",
       "    .dataframe tbody tr th {\n",
       "        vertical-align: top;\n",
       "    }\n",
       "\n",
       "    .dataframe thead th {\n",
       "        text-align: right;\n",
       "    }\n",
       "</style>\n",
       "<table border=\"1\" class=\"dataframe\">\n",
       "  <thead>\n",
       "    <tr style=\"text-align: right;\">\n",
       "      <th></th>\n",
       "      <th>Date</th>\n",
       "      <th>Customer ID</th>\n",
       "      <th>Product</th>\n",
       "      <th>State</th>\n",
       "      <th>Zip Code</th>\n",
       "      <th>Business Type</th>\n",
       "      <th>Cost (per unit)</th>\n",
       "      <th>Price (per unit)</th>\n",
       "      <th>Quantity</th>\n",
       "      <th>Revenue (total)</th>\n",
       "      <th>Cost (total)</th>\n",
       "    </tr>\n",
       "  </thead>\n",
       "  <tbody>\n",
       "    <tr>\n",
       "      <th>111</th>\n",
       "      <td>2015-01-01</td>\n",
       "      <td>10044</td>\n",
       "      <td>Circuit breakers</td>\n",
       "      <td>NaN</td>\n",
       "      <td>88013</td>\n",
       "      <td>Transportation</td>\n",
       "      <td>2.490</td>\n",
       "      <td>4.50</td>\n",
       "      <td>2.0</td>\n",
       "      <td>9.00</td>\n",
       "      <td>4.980</td>\n",
       "    </tr>\n",
       "    <tr>\n",
       "      <th>7596</th>\n",
       "      <td>2015-03-03</td>\n",
       "      <td>10468</td>\n",
       "      <td>Circuit breakers</td>\n",
       "      <td>NaN</td>\n",
       "      <td>88013</td>\n",
       "      <td>Industrial</td>\n",
       "      <td>2.490</td>\n",
       "      <td>4.95</td>\n",
       "      <td>17.0</td>\n",
       "      <td>84.15</td>\n",
       "      <td>42.330</td>\n",
       "    </tr>\n",
       "    <tr>\n",
       "      <th>15534</th>\n",
       "      <td>2015-05-05</td>\n",
       "      <td>10044</td>\n",
       "      <td>LCD, LED, OLED displays</td>\n",
       "      <td>NaN</td>\n",
       "      <td>88013</td>\n",
       "      <td>Transportation</td>\n",
       "      <td>2.060</td>\n",
       "      <td>7.20</td>\n",
       "      <td>107.0</td>\n",
       "      <td>770.40</td>\n",
       "      <td>220.420</td>\n",
       "    </tr>\n",
       "    <tr>\n",
       "      <th>18221</th>\n",
       "      <td>2015-05-26</td>\n",
       "      <td>10468</td>\n",
       "      <td>LCD, LED, OLED displays</td>\n",
       "      <td>NaN</td>\n",
       "      <td>88013</td>\n",
       "      <td>Industrial</td>\n",
       "      <td>2.060</td>\n",
       "      <td>4.95</td>\n",
       "      <td>6.0</td>\n",
       "      <td>29.70</td>\n",
       "      <td>12.360</td>\n",
       "    </tr>\n",
       "    <tr>\n",
       "      <th>29380</th>\n",
       "      <td>2015-08-24</td>\n",
       "      <td>10468</td>\n",
       "      <td>Thermostat</td>\n",
       "      <td>NaN</td>\n",
       "      <td>88013</td>\n",
       "      <td>Industrial</td>\n",
       "      <td>15.245</td>\n",
       "      <td>61.74</td>\n",
       "      <td>5.0</td>\n",
       "      <td>308.70</td>\n",
       "      <td>76.225</td>\n",
       "    </tr>\n",
       "    <tr>\n",
       "      <th>34797</th>\n",
       "      <td>2015-10-06</td>\n",
       "      <td>10044</td>\n",
       "      <td>Thermostat</td>\n",
       "      <td>NaN</td>\n",
       "      <td>88013</td>\n",
       "      <td>Transportation</td>\n",
       "      <td>15.245</td>\n",
       "      <td>46.20</td>\n",
       "      <td>16.0</td>\n",
       "      <td>739.20</td>\n",
       "      <td>243.920</td>\n",
       "    </tr>\n",
       "    <tr>\n",
       "      <th>36326</th>\n",
       "      <td>2015-10-18</td>\n",
       "      <td>10044</td>\n",
       "      <td>Resistors</td>\n",
       "      <td>NaN</td>\n",
       "      <td>88013</td>\n",
       "      <td>Transportation</td>\n",
       "      <td>1.575</td>\n",
       "      <td>4.50</td>\n",
       "      <td>2.0</td>\n",
       "      <td>9.00</td>\n",
       "      <td>3.150</td>\n",
       "    </tr>\n",
       "  </tbody>\n",
       "</table>\n",
       "</div>"
      ],
      "text/plain": [
       "            Date  Customer ID                  Product State  Zip Code  \\\n",
       "111   2015-01-01        10044         Circuit breakers   NaN     88013   \n",
       "7596  2015-03-03        10468         Circuit breakers   NaN     88013   \n",
       "15534 2015-05-05        10044  LCD, LED, OLED displays   NaN     88013   \n",
       "18221 2015-05-26        10468  LCD, LED, OLED displays   NaN     88013   \n",
       "29380 2015-08-24        10468               Thermostat   NaN     88013   \n",
       "34797 2015-10-06        10044               Thermostat   NaN     88013   \n",
       "36326 2015-10-18        10044                Resistors   NaN     88013   \n",
       "\n",
       "        Business Type  Cost (per unit)  Price (per unit)  Quantity  \\\n",
       "111    Transportation            2.490              4.50       2.0   \n",
       "7596       Industrial            2.490              4.95      17.0   \n",
       "15534  Transportation            2.060              7.20     107.0   \n",
       "18221      Industrial            2.060              4.95       6.0   \n",
       "29380      Industrial           15.245             61.74       5.0   \n",
       "34797  Transportation           15.245             46.20      16.0   \n",
       "36326  Transportation            1.575              4.50       2.0   \n",
       "\n",
       "       Revenue (total)  Cost (total)  \n",
       "111               9.00         4.980  \n",
       "7596             84.15        42.330  \n",
       "15534           770.40       220.420  \n",
       "18221            29.70        12.360  \n",
       "29380           308.70        76.225  \n",
       "34797           739.20       243.920  \n",
       "36326             9.00         3.150  "
      ]
     },
     "execution_count": 7,
     "metadata": {},
     "output_type": "execute_result"
    }
   ],
   "source": [
    "df[df.isnull().any(axis=1)]"
   ]
  },
  {
   "cell_type": "markdown",
   "id": "c586bc51",
   "metadata": {},
   "source": [
    "Zip Code 88013 is belongs to Las Cruces, New Mexico.    \n",
    "I will fill missing states with New Mexico."
   ]
  },
  {
   "cell_type": "code",
   "execution_count": 8,
   "id": "924f1f32",
   "metadata": {},
   "outputs": [],
   "source": [
    "df.fillna('New Mexico', inplace=True)"
   ]
  },
  {
   "cell_type": "code",
   "execution_count": 9,
   "id": "db448b54",
   "metadata": {},
   "outputs": [
    {
     "data": {
      "text/plain": [
       "Date                0\n",
       "Customer ID         0\n",
       "Product             0\n",
       "State               0\n",
       "Zip Code            0\n",
       "Business Type       0\n",
       "Cost (per unit)     0\n",
       "Price (per unit)    0\n",
       "Quantity            0\n",
       "Revenue (total)     0\n",
       "Cost (total)        0\n",
       "dtype: int64"
      ]
     },
     "execution_count": 9,
     "metadata": {},
     "output_type": "execute_result"
    }
   ],
   "source": [
    "df.isna().sum()"
   ]
  },
  {
   "cell_type": "markdown",
   "id": "1d45e9bf",
   "metadata": {},
   "source": [
    "Changing datatype of column QUANTITY from float to int."
   ]
  },
  {
   "cell_type": "code",
   "execution_count": 10,
   "id": "fc564727",
   "metadata": {},
   "outputs": [],
   "source": [
    "df['Quantity'] = df['Quantity'].astype(int)"
   ]
  },
  {
   "cell_type": "code",
   "execution_count": 11,
   "id": "dc2ec099",
   "metadata": {},
   "outputs": [
    {
     "data": {
      "text/plain": [
       "Date                datetime64[ns]\n",
       "Customer ID                  int64\n",
       "Product                     object\n",
       "State                       object\n",
       "Zip Code                     int64\n",
       "Business Type               object\n",
       "Cost (per unit)            float64\n",
       "Price (per unit)           float64\n",
       "Quantity                     int32\n",
       "Revenue (total)            float64\n",
       "Cost (total)               float64\n",
       "dtype: object"
      ]
     },
     "execution_count": 11,
     "metadata": {},
     "output_type": "execute_result"
    }
   ],
   "source": [
    "df.dtypes"
   ]
  },
  {
   "cell_type": "code",
   "execution_count": 12,
   "id": "99af40c6",
   "metadata": {},
   "outputs": [
    {
     "data": {
      "text/html": [
       "<div>\n",
       "<style scoped>\n",
       "    .dataframe tbody tr th:only-of-type {\n",
       "        vertical-align: middle;\n",
       "    }\n",
       "\n",
       "    .dataframe tbody tr th {\n",
       "        vertical-align: top;\n",
       "    }\n",
       "\n",
       "    .dataframe thead th {\n",
       "        text-align: right;\n",
       "    }\n",
       "</style>\n",
       "<table border=\"1\" class=\"dataframe\">\n",
       "  <thead>\n",
       "    <tr style=\"text-align: right;\">\n",
       "      <th></th>\n",
       "      <th>0</th>\n",
       "      <th>1</th>\n",
       "      <th>2</th>\n",
       "      <th>3</th>\n",
       "      <th>4</th>\n",
       "    </tr>\n",
       "  </thead>\n",
       "  <tbody>\n",
       "    <tr>\n",
       "      <th>Date</th>\n",
       "      <td>2015-01-01 00:00:00</td>\n",
       "      <td>2015-01-01 00:00:00</td>\n",
       "      <td>2015-01-01 00:00:00</td>\n",
       "      <td>2015-01-01 00:00:00</td>\n",
       "      <td>2015-01-01 00:00:00</td>\n",
       "    </tr>\n",
       "    <tr>\n",
       "      <th>Customer ID</th>\n",
       "      <td>10318</td>\n",
       "      <td>10173</td>\n",
       "      <td>10217</td>\n",
       "      <td>10021</td>\n",
       "      <td>10041</td>\n",
       "    </tr>\n",
       "    <tr>\n",
       "      <th>Product</th>\n",
       "      <td>LCD, LED, OLED displays</td>\n",
       "      <td>Actuators</td>\n",
       "      <td>Fuse</td>\n",
       "      <td>Resistors</td>\n",
       "      <td>Light Emitting Diode (LED)</td>\n",
       "    </tr>\n",
       "    <tr>\n",
       "      <th>State</th>\n",
       "      <td>Massachusetts</td>\n",
       "      <td>New Hampshire</td>\n",
       "      <td>Maine</td>\n",
       "      <td>Maine</td>\n",
       "      <td>New Jersey</td>\n",
       "    </tr>\n",
       "    <tr>\n",
       "      <th>Zip Code</th>\n",
       "      <td>2109</td>\n",
       "      <td>3084</td>\n",
       "      <td>4250</td>\n",
       "      <td>4544</td>\n",
       "      <td>7023</td>\n",
       "    </tr>\n",
       "    <tr>\n",
       "      <th>Business Type</th>\n",
       "      <td>Industrial</td>\n",
       "      <td>Industrial</td>\n",
       "      <td>Aerospace</td>\n",
       "      <td>Agriculture</td>\n",
       "      <td>Aerospace</td>\n",
       "    </tr>\n",
       "    <tr>\n",
       "      <th>Cost (per unit)</th>\n",
       "      <td>2.06</td>\n",
       "      <td>0.55</td>\n",
       "      <td>2.215</td>\n",
       "      <td>1.575</td>\n",
       "      <td>1.725</td>\n",
       "    </tr>\n",
       "    <tr>\n",
       "      <th>Price (per unit)</th>\n",
       "      <td>8.2</td>\n",
       "      <td>4.62</td>\n",
       "      <td>2.4</td>\n",
       "      <td>4.79</td>\n",
       "      <td>1.85</td>\n",
       "    </tr>\n",
       "    <tr>\n",
       "      <th>Quantity</th>\n",
       "      <td>33</td>\n",
       "      <td>22</td>\n",
       "      <td>11</td>\n",
       "      <td>479</td>\n",
       "      <td>510</td>\n",
       "    </tr>\n",
       "    <tr>\n",
       "      <th>Revenue (total)</th>\n",
       "      <td>270.6</td>\n",
       "      <td>101.64</td>\n",
       "      <td>26.4</td>\n",
       "      <td>2294.41</td>\n",
       "      <td>943.5</td>\n",
       "    </tr>\n",
       "    <tr>\n",
       "      <th>Cost (total)</th>\n",
       "      <td>67.98</td>\n",
       "      <td>12.1</td>\n",
       "      <td>24.365</td>\n",
       "      <td>754.425</td>\n",
       "      <td>879.75</td>\n",
       "    </tr>\n",
       "    <tr>\n",
       "      <th>Net Profit Margin</th>\n",
       "      <td>0.74878</td>\n",
       "      <td>0.880952</td>\n",
       "      <td>0.077083</td>\n",
       "      <td>0.67119</td>\n",
       "      <td>0.067568</td>\n",
       "    </tr>\n",
       "  </tbody>\n",
       "</table>\n",
       "</div>"
      ],
      "text/plain": [
       "                                         0                    1  \\\n",
       "Date                   2015-01-01 00:00:00  2015-01-01 00:00:00   \n",
       "Customer ID                          10318                10173   \n",
       "Product            LCD, LED, OLED displays           Actuators    \n",
       "State                        Massachusetts        New Hampshire   \n",
       "Zip Code                              2109                 3084   \n",
       "Business Type                   Industrial           Industrial   \n",
       "Cost (per unit)                       2.06                 0.55   \n",
       "Price (per unit)                       8.2                 4.62   \n",
       "Quantity                                33                   22   \n",
       "Revenue (total)                      270.6               101.64   \n",
       "Cost (total)                         67.98                 12.1   \n",
       "Net Profit Margin                  0.74878             0.880952   \n",
       "\n",
       "                                     2                    3  \\\n",
       "Date               2015-01-01 00:00:00  2015-01-01 00:00:00   \n",
       "Customer ID                      10217                10021   \n",
       "Product                           Fuse            Resistors   \n",
       "State                            Maine                Maine   \n",
       "Zip Code                          4250                 4544   \n",
       "Business Type                Aerospace          Agriculture   \n",
       "Cost (per unit)                  2.215                1.575   \n",
       "Price (per unit)                   2.4                 4.79   \n",
       "Quantity                            11                  479   \n",
       "Revenue (total)                   26.4              2294.41   \n",
       "Cost (total)                    24.365              754.425   \n",
       "Net Profit Margin             0.077083              0.67119   \n",
       "\n",
       "                                            4  \n",
       "Date                      2015-01-01 00:00:00  \n",
       "Customer ID                             10041  \n",
       "Product            Light Emitting Diode (LED)  \n",
       "State                              New Jersey  \n",
       "Zip Code                                 7023  \n",
       "Business Type                       Aerospace  \n",
       "Cost (per unit)                         1.725  \n",
       "Price (per unit)                         1.85  \n",
       "Quantity                                  510  \n",
       "Revenue (total)                         943.5  \n",
       "Cost (total)                           879.75  \n",
       "Net Profit Margin                    0.067568  "
      ]
     },
     "execution_count": 12,
     "metadata": {},
     "output_type": "execute_result"
    }
   ],
   "source": [
    "df['Net Profit Margin'] = (df['Revenue (total)'] - df['Cost (total)']) / df['Revenue (total)']\n",
    "df.head().T"
   ]
  },
  {
   "cell_type": "code",
   "execution_count": 13,
   "id": "853bf04e",
   "metadata": {},
   "outputs": [
    {
     "data": {
      "text/plain": [
       "array(['Industrial', 'Aerospace', 'Agriculture', 'Manufacturing',\n",
       "       'Transportation', 'Medical'], dtype=object)"
      ]
     },
     "execution_count": 13,
     "metadata": {},
     "output_type": "execute_result"
    }
   ],
   "source": [
    "df['Business Type'].unique()"
   ]
  },
  {
   "cell_type": "code",
   "execution_count": 14,
   "id": "b13254ff",
   "metadata": {},
   "outputs": [
    {
     "data": {
      "text/plain": [
       "array(['LCD, LED, OLED displays', 'Actuators ', 'Fuse', 'Resistors',\n",
       "       'Light Emitting Diode (LED)', 'Laser diode', 'Circuit breakers',\n",
       "       'Thermostat', 'Switches', 'Wiring components', 'Microcontrollers'],\n",
       "      dtype=object)"
      ]
     },
     "execution_count": 14,
     "metadata": {},
     "output_type": "execute_result"
    }
   ],
   "source": [
    "df.Product.unique()"
   ]
  },
  {
   "cell_type": "markdown",
   "id": "122b84af",
   "metadata": {},
   "source": [
    "## Which product has the highest growth potential?"
   ]
  },
  {
   "cell_type": "code",
   "execution_count": 16,
   "id": "0996c195",
   "metadata": {},
   "outputs": [
    {
     "data": {
      "image/png": "[encoded data removed]",
      "text/plain": [
       "<Figure size 1584x504 with 2 Axes>"
      ]
     },
     "metadata": {},
     "output_type": "display_data"
    }
   ],
   "source": [
    "# plt.style.use('bmh')\n",
    "\n",
    "plt.style.use('fivethirtyeight')\n",
    "\n",
    "a = df.groupby(['Product'])['Price (per unit)'].mean()\n",
    "b = df.groupby(['Product'])['Net Profit Margin'].sum()\n",
    "\n",
    "fig, ax1 = plt.subplots(figsize = (22,7))\n",
    "\n",
    "ax1.plot(a, color = 'b',linestyle='dashed', marker='o', markersize=22, markerfacecolor='b')\n",
    "\n",
    "ax2 = ax1.twinx()\n",
    "ax2.plot(b,color = 'g', linestyle='dashed', marker='o', markersize=22, markerfacecolor='g')\n",
    "plt.grid(axis = 'x', color = 'k', alpha = 0.8,linewidth = 2)\n",
    "ax1.set_ylabel('Price Per Unit', color = 'b', size = 29, weight='bold')\n",
    "ax2.set_ylabel('Net Profit Margin', color = 'g', size = 29, weight='bold')\n",
    "plt.title('Net Profit Margin VS Price Per Unit', size = 30,weight = 'bold')\n",
    "plt.show();"
   ]
  },
  {
   "cell_type": "markdown",
   "id": "5c81c6bf",
   "metadata": {},
   "source": [
    "As we can see 'Thermostat', 'Wiring components' and 'Microcontrollers' has the highest cost per unit and the lowest net profit margin among all the components.       \n",
    "Lets take a closer look at the 'Microcontrollers', this component has the biggest cost of production and the lowest net profit margin among all the components, only 3.26% as we know from previous plot."
   ]
  },
  {
   "cell_type": "code",
   "execution_count": null,
   "id": "cbbd3d65",
   "metadata": {},
   "outputs": [],
   "source": []
  },
  {
   "cell_type": "code",
   "execution_count": null,
   "id": "7f6d2154",
   "metadata": {},
   "outputs": [],
   "source": []
  },
  {
   "cell_type": "code",
   "execution_count": null,
   "id": "8364b7d4",
   "metadata": {},
   "outputs": [],
   "source": []
  },
  {
   "cell_type": "code",
   "execution_count": null,
   "id": "a29ea0b6",
   "metadata": {},
   "outputs": [],
   "source": []
  },
  {
   "cell_type": "markdown",
   "id": "9f8d8013",
   "metadata": {},
   "source": [
    "## What is the geographic distribution of each segment?"
   ]
  },
  {
   "cell_type": "code",
   "execution_count": 17,
   "id": "392400b3",
   "metadata": {},
   "outputs": [
    {
     "name": "stderr",
     "output_type": "stream",
     "text": [
      "PROJ: proj_create_from_database: SQLite error on SELECT name, type, coordinate_system_auth_name, coordinate_system_code, datum_auth_name, datum_code, area_of_use_auth_name, area_of_use_code, text_definition, deprecated FROM geodetic_crs WHERE auth_name = ? AND code = ?: no such column: area_of_use_auth_name\n"
     ]
    }
   ],
   "source": [
    "from geopy.geocoders import Nominatim\n",
    "from geopy.extra.rate_limiter import RateLimiter\n",
    "import pgeocode\n",
    "import geopandas as gpd\n",
    "from pyproj import Proj, transform\n",
    "from cartopy import crs as ccrs\n",
    "import folium\n",
    "from shapely.geometry import Point\n",
    "from geopandas import GeoDataFrame\n",
    "import plotly.graph_objects as go"
   ]
  },
  {
   "cell_type": "code",
   "execution_count": 29,
   "id": "541d586b",
   "metadata": {},
   "outputs": [],
   "source": [
    "from sklearn.preprocessing import LabelEncoder\n",
    "from sklearn.model_selection import GridSearchCV\n",
    "from sklearn.model_selection import train_test_split\n",
    "from sklearn.metrics import classification_report\n",
    "from sklearn.ensemble import RandomForestClassifier\n",
    "from sklearn.linear_model import LogisticRegression\n",
    "from sklearn.metrics import accuracy_score, confusion_matrix\n",
    "from sklearn.metrics import f1_score"
   ]
  },
  {
   "cell_type": "code",
   "execution_count": 20,
   "id": "ca6c029c",
   "metadata": {},
   "outputs": [
    {
     "data": {
      "text/plain": [
       "Date                 datetime64[ns]\n",
       "Customer ID                   int64\n",
       "Product                      object\n",
       "State                        object\n",
       "Zip Code                      int64\n",
       "Business Type                object\n",
       "Cost (per unit)             float64\n",
       "Price (per unit)            float64\n",
       "Quantity                      int32\n",
       "Revenue (total)             float64\n",
       "Cost (total)                float64\n",
       "Net Profit Margin           float64\n",
       "dtype: object"
      ]
     },
     "execution_count": 20,
     "metadata": {},
     "output_type": "execute_result"
    }
   ],
   "source": [
    "df.dtypes"
   ]
  },
  {
   "cell_type": "code",
   "execution_count": 28,
   "id": "78e3be3b",
   "metadata": {},
   "outputs": [
    {
     "ename": "FileNotFoundError",
     "evalue": "[Errno 2] No such file or directory: '\\\\Techno Industries Inc. Data.xlsx'",
     "output_type": "error",
     "traceback": [
      "\u001b[1;31m---------------------------------------------------------------------------\u001b[0m",
      "\u001b[1;31mFileNotFoundError\u001b[0m                         Traceback (most recent call last)",
      "\u001b[1;32m~\\AppData\\Local\\Temp/ipykernel_13976/1199169036.py\u001b[0m in \u001b[0;36m<module>\u001b[1;34m\u001b[0m\n\u001b[0;32m      1\u001b[0m \u001b[0mnomi\u001b[0m \u001b[1;33m=\u001b[0m \u001b[0mpgeocode\u001b[0m\u001b[1;33m.\u001b[0m\u001b[0mNominatim\u001b[0m\u001b[1;33m(\u001b[0m\u001b[1;33m)\u001b[0m\u001b[1;33m\u001b[0m\u001b[1;33m\u001b[0m\u001b[0m\n\u001b[0;32m      2\u001b[0m \u001b[1;33m\u001b[0m\u001b[0m\n\u001b[1;32m----> 3\u001b[1;33m \u001b[0mLn\u001b[0m \u001b[1;33m=\u001b[0m \u001b[0mpd\u001b[0m\u001b[1;33m.\u001b[0m\u001b[0mread_excel\u001b[0m\u001b[1;33m(\u001b[0m\u001b[1;34mr'\\Techno Industries Inc. Data.xlsx'\u001b[0m\u001b[1;33m)\u001b[0m\u001b[1;33m\u001b[0m\u001b[1;33m\u001b[0m\u001b[0m\n\u001b[0m\u001b[0;32m      4\u001b[0m \u001b[1;33m\u001b[0m\u001b[0m\n\u001b[0;32m      5\u001b[0m \u001b[0mUS\u001b[0m\u001b[1;33m[\u001b[0m\u001b[1;34m'Latitude'\u001b[0m\u001b[1;33m]\u001b[0m \u001b[1;33m=\u001b[0m \u001b[1;33m(\u001b[0m\u001b[0mnomi\u001b[0m\u001b[1;33m.\u001b[0m\u001b[0mquery_postal_code\u001b[0m\u001b[1;33m(\u001b[0m\u001b[0mLn\u001b[0m\u001b[1;33m[\u001b[0m\u001b[1;34m'State'\u001b[0m\u001b[1;33m]\u001b[0m\u001b[1;33m.\u001b[0m\u001b[0mtolist\u001b[0m\u001b[1;33m(\u001b[0m\u001b[1;33m)\u001b[0m\u001b[1;33m)\u001b[0m\u001b[1;33m.\u001b[0m\u001b[0mlatitude\u001b[0m\u001b[1;33m)\u001b[0m\u001b[1;33m\u001b[0m\u001b[1;33m\u001b[0m\u001b[0m\n",
      "\u001b[1;32m~\\anaconda3\\lib\\site-packages\\pandas\\util\\_decorators.py\u001b[0m in \u001b[0;36mwrapper\u001b[1;34m(*args, **kwargs)\u001b[0m\n\u001b[0;32m    309\u001b[0m                     \u001b[0mstacklevel\u001b[0m\u001b[1;33m=\u001b[0m\u001b[0mstacklevel\u001b[0m\u001b[1;33m,\u001b[0m\u001b[1;33m\u001b[0m\u001b[1;33m\u001b[0m\u001b[0m\n\u001b[0;32m    310\u001b[0m                 )\n\u001b[1;32m--> 311\u001b[1;33m             \u001b[1;32mreturn\u001b[0m \u001b[0mfunc\u001b[0m\u001b[1;33m(\u001b[0m\u001b[1;33m*\u001b[0m\u001b[0margs\u001b[0m\u001b[1;33m,\u001b[0m \u001b[1;33m**\u001b[0m\u001b[0mkwargs\u001b[0m\u001b[1;33m)\u001b[0m\u001b[1;33m\u001b[0m\u001b[1;33m\u001b[0m\u001b[0m\n\u001b[0m\u001b[0;32m    312\u001b[0m \u001b[1;33m\u001b[0m\u001b[0m\n\u001b[0;32m    313\u001b[0m         \u001b[1;32mreturn\u001b[0m \u001b[0mwrapper\u001b[0m\u001b[1;33m\u001b[0m\u001b[1;33m\u001b[0m\u001b[0m\n",
      "\u001b[1;32m~\\anaconda3\\lib\\site-packages\\pandas\\io\\excel\\_base.py\u001b[0m in \u001b[0;36mread_excel\u001b[1;34m(io, sheet_name, header, names, index_col, usecols, squeeze, dtype, engine, converters, true_values, false_values, skiprows, nrows, na_values, keep_default_na, na_filter, verbose, parse_dates, date_parser, thousands, comment, skipfooter, convert_float, mangle_dupe_cols, storage_options)\u001b[0m\n\u001b[0;32m    362\u001b[0m     \u001b[1;32mif\u001b[0m \u001b[1;32mnot\u001b[0m \u001b[0misinstance\u001b[0m\u001b[1;33m(\u001b[0m\u001b[0mio\u001b[0m\u001b[1;33m,\u001b[0m \u001b[0mExcelFile\u001b[0m\u001b[1;33m)\u001b[0m\u001b[1;33m:\u001b[0m\u001b[1;33m\u001b[0m\u001b[1;33m\u001b[0m\u001b[0m\n\u001b[0;32m    363\u001b[0m         \u001b[0mshould_close\u001b[0m \u001b[1;33m=\u001b[0m \u001b[1;32mTrue\u001b[0m\u001b[1;33m\u001b[0m\u001b[1;33m\u001b[0m\u001b[0m\n\u001b[1;32m--> 364\u001b[1;33m         \u001b[0mio\u001b[0m \u001b[1;33m=\u001b[0m \u001b[0mExcelFile\u001b[0m\u001b[1;33m(\u001b[0m\u001b[0mio\u001b[0m\u001b[1;33m,\u001b[0m \u001b[0mstorage_options\u001b[0m\u001b[1;33m=\u001b[0m\u001b[0mstorage_options\u001b[0m\u001b[1;33m,\u001b[0m \u001b[0mengine\u001b[0m\u001b[1;33m=\u001b[0m\u001b[0mengine\u001b[0m\u001b[1;33m)\u001b[0m\u001b[1;33m\u001b[0m\u001b[1;33m\u001b[0m\u001b[0m\n\u001b[0m\u001b[0;32m    365\u001b[0m     \u001b[1;32melif\u001b[0m \u001b[0mengine\u001b[0m \u001b[1;32mand\u001b[0m \u001b[0mengine\u001b[0m \u001b[1;33m!=\u001b[0m \u001b[0mio\u001b[0m\u001b[1;33m.\u001b[0m\u001b[0mengine\u001b[0m\u001b[1;33m:\u001b[0m\u001b[1;33m\u001b[0m\u001b[1;33m\u001b[0m\u001b[0m\n\u001b[0;32m    366\u001b[0m         raise ValueError(\n",
      "\u001b[1;32m~\\anaconda3\\lib\\site-packages\\pandas\\io\\excel\\_base.py\u001b[0m in \u001b[0;36m__init__\u001b[1;34m(self, path_or_buffer, engine, storage_options)\u001b[0m\n\u001b[0;32m   1189\u001b[0m                 \u001b[0mext\u001b[0m \u001b[1;33m=\u001b[0m \u001b[1;34m\"xls\"\u001b[0m\u001b[1;33m\u001b[0m\u001b[1;33m\u001b[0m\u001b[0m\n\u001b[0;32m   1190\u001b[0m             \u001b[1;32melse\u001b[0m\u001b[1;33m:\u001b[0m\u001b[1;33m\u001b[0m\u001b[1;33m\u001b[0m\u001b[0m\n\u001b[1;32m-> 1191\u001b[1;33m                 ext = inspect_excel_format(\n\u001b[0m\u001b[0;32m   1192\u001b[0m                     \u001b[0mcontent_or_path\u001b[0m\u001b[1;33m=\u001b[0m\u001b[0mpath_or_buffer\u001b[0m\u001b[1;33m,\u001b[0m \u001b[0mstorage_options\u001b[0m\u001b[1;33m=\u001b[0m\u001b[0mstorage_options\u001b[0m\u001b[1;33m\u001b[0m\u001b[1;33m\u001b[0m\u001b[0m\n\u001b[0;32m   1193\u001b[0m                 )\n",
      "\u001b[1;32m~\\anaconda3\\lib\\site-packages\\pandas\\io\\excel\\_base.py\u001b[0m in \u001b[0;36minspect_excel_format\u001b[1;34m(content_or_path, storage_options)\u001b[0m\n\u001b[0;32m   1068\u001b[0m         \u001b[0mcontent_or_path\u001b[0m \u001b[1;33m=\u001b[0m \u001b[0mBytesIO\u001b[0m\u001b[1;33m(\u001b[0m\u001b[0mcontent_or_path\u001b[0m\u001b[1;33m)\u001b[0m\u001b[1;33m\u001b[0m\u001b[1;33m\u001b[0m\u001b[0m\n\u001b[0;32m   1069\u001b[0m \u001b[1;33m\u001b[0m\u001b[0m\n\u001b[1;32m-> 1070\u001b[1;33m     with get_handle(\n\u001b[0m\u001b[0;32m   1071\u001b[0m         \u001b[0mcontent_or_path\u001b[0m\u001b[1;33m,\u001b[0m \u001b[1;34m\"rb\"\u001b[0m\u001b[1;33m,\u001b[0m \u001b[0mstorage_options\u001b[0m\u001b[1;33m=\u001b[0m\u001b[0mstorage_options\u001b[0m\u001b[1;33m,\u001b[0m \u001b[0mis_text\u001b[0m\u001b[1;33m=\u001b[0m\u001b[1;32mFalse\u001b[0m\u001b[1;33m\u001b[0m\u001b[1;33m\u001b[0m\u001b[0m\n\u001b[0;32m   1072\u001b[0m     ) as handle:\n",
      "\u001b[1;32m~\\anaconda3\\lib\\site-packages\\pandas\\io\\common.py\u001b[0m in \u001b[0;36mget_handle\u001b[1;34m(path_or_buf, mode, encoding, compression, memory_map, is_text, errors, storage_options)\u001b[0m\n\u001b[0;32m    709\u001b[0m         \u001b[1;32melse\u001b[0m\u001b[1;33m:\u001b[0m\u001b[1;33m\u001b[0m\u001b[1;33m\u001b[0m\u001b[0m\n\u001b[0;32m    710\u001b[0m             \u001b[1;31m# Binary mode\u001b[0m\u001b[1;33m\u001b[0m\u001b[1;33m\u001b[0m\u001b[0m\n\u001b[1;32m--> 711\u001b[1;33m             \u001b[0mhandle\u001b[0m \u001b[1;33m=\u001b[0m \u001b[0mopen\u001b[0m\u001b[1;33m(\u001b[0m\u001b[0mhandle\u001b[0m\u001b[1;33m,\u001b[0m \u001b[0mioargs\u001b[0m\u001b[1;33m.\u001b[0m\u001b[0mmode\u001b[0m\u001b[1;33m)\u001b[0m\u001b[1;33m\u001b[0m\u001b[1;33m\u001b[0m\u001b[0m\n\u001b[0m\u001b[0;32m    712\u001b[0m         \u001b[0mhandles\u001b[0m\u001b[1;33m.\u001b[0m\u001b[0mappend\u001b[0m\u001b[1;33m(\u001b[0m\u001b[0mhandle\u001b[0m\u001b[1;33m)\u001b[0m\u001b[1;33m\u001b[0m\u001b[1;33m\u001b[0m\u001b[0m\n\u001b[0;32m    713\u001b[0m \u001b[1;33m\u001b[0m\u001b[0m\n",
      "\u001b[1;31mFileNotFoundError\u001b[0m: [Errno 2] No such file or directory: '\\\\Techno Industries Inc. Data.xlsx'"
     ]
    }
   ],
   "source": [
    "nomi = pgeocode.Nominatim()\n",
    "\n",
    "Ln = pd.read_excel(r'C:\\Users\\vikag\\Desktop\\Data-Science-Projects\\Techno Industries Inc\\Techno Industries Inc. Data.xlsx')\n",
    "    \n",
    "US['Latitude'] = (nomi.query_postal_code(Ln['State'].tolist()).latitude)\n",
    "US['Longitude'] = (nomi.query_postal_code(Ln['State'].tolist()).longitude)\n",
    "\n",
    "US.head().T"
   ]
  },
  {
   "cell_type": "code",
   "execution_count": null,
   "id": "6c24f2c4",
   "metadata": {},
   "outputs": [],
   "source": [
    "fig = go.Figure(data=go.Scattergeo(\n",
    "        lon = US['Longitude'],\n",
    "        lat = US['Latitude'],\n",
    "        text = US['State'],\n",
    "        mode = 'markers',\n",
    "        marker_color = edf['Product'],\n",
    "        ))\n",
    "\n",
    "fig.update_layout(\n",
    "        title = 'colC Distribution',\n",
    "        geo_scope='usa',\n",
    "    )\n",
    "fig.show()"
   ]
  }
 ],
 "metadata": {
  "kernelspec": {
   "display_name": "Python 3 (ipykernel)",
   "language": "python",
   "name": "python3"
  },
  "language_info": {
   "codemirror_mode": {
    "name": "ipython",
    "version": 3
   },
   "file_extension": ".py",
   "mimetype": "text/x-python",
   "name": "python",
   "nbconvert_exporter": "python",
   "pygments_lexer": "ipython3",
   "version": "3.9.7"
  }
 },
 "nbformat": 4,
 "nbformat_minor": 5
}
