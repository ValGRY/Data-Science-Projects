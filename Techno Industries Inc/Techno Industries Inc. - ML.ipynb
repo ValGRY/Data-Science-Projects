{
 "cells": [
  {
   "cell_type": "code",
   "execution_count": 1,
   "id": "f91899db",
   "metadata": {},
   "outputs": [],
   "source": [
    "import pandas as pd\n",
    "import numpy as np\n",
    "import seaborn as sns\n",
    "import matplotlib.pyplot as plt\n",
    "from sklearn.preprocessing import LabelEncoder"
   ]
  },
  {
   "cell_type": "code",
   "execution_count": 2,
   "id": "55342fa0",
   "metadata": {},
   "outputs": [],
   "source": [
    "df = pd.read_excel(r'C:\\Users\\vikag\\Desktop\\Data-Science-Projects\\Techno Industries Inc\\Techno Industries Inc. Data.xlsx')"
   ]
  },
  {
   "cell_type": "code",
   "execution_count": 3,
   "id": "87781685",
   "metadata": {},
   "outputs": [
    {
     "data": {
      "text/html": [
       "<div>\n",
       "<style scoped>\n",
       "    .dataframe tbody tr th:only-of-type {\n",
       "        vertical-align: middle;\n",
       "    }\n",
       "\n",
       "    .dataframe tbody tr th {\n",
       "        vertical-align: top;\n",
       "    }\n",
       "\n",
       "    .dataframe thead th {\n",
       "        text-align: right;\n",
       "    }\n",
       "</style>\n",
       "<table border=\"1\" class=\"dataframe\">\n",
       "  <thead>\n",
       "    <tr style=\"text-align: right;\">\n",
       "      <th></th>\n",
       "      <th>0</th>\n",
       "      <th>1</th>\n",
       "      <th>2</th>\n",
       "      <th>3</th>\n",
       "      <th>4</th>\n",
       "    </tr>\n",
       "  </thead>\n",
       "  <tbody>\n",
       "    <tr>\n",
       "      <th>Date</th>\n",
       "      <td>2015-01-01 00:00:00</td>\n",
       "      <td>2015-01-01 00:00:00</td>\n",
       "      <td>2015-01-01 00:00:00</td>\n",
       "      <td>2015-01-01 00:00:00</td>\n",
       "      <td>2015-01-01 00:00:00</td>\n",
       "    </tr>\n",
       "    <tr>\n",
       "      <th>Customer ID</th>\n",
       "      <td>10318</td>\n",
       "      <td>10173</td>\n",
       "      <td>10217</td>\n",
       "      <td>10021</td>\n",
       "      <td>10041</td>\n",
       "    </tr>\n",
       "    <tr>\n",
       "      <th>Product</th>\n",
       "      <td>LCD, LED, OLED displays</td>\n",
       "      <td>Actuators</td>\n",
       "      <td>Fuse</td>\n",
       "      <td>Resistors</td>\n",
       "      <td>Light Emitting Diode (LED)</td>\n",
       "    </tr>\n",
       "    <tr>\n",
       "      <th>State</th>\n",
       "      <td>Massachusetts</td>\n",
       "      <td>New Hampshire</td>\n",
       "      <td>Maine</td>\n",
       "      <td>Maine</td>\n",
       "      <td>New Jersey</td>\n",
       "    </tr>\n",
       "    <tr>\n",
       "      <th>Zip Code</th>\n",
       "      <td>2109</td>\n",
       "      <td>3084</td>\n",
       "      <td>4250</td>\n",
       "      <td>4544</td>\n",
       "      <td>7023</td>\n",
       "    </tr>\n",
       "    <tr>\n",
       "      <th>Business Type</th>\n",
       "      <td>Industrial</td>\n",
       "      <td>Industrial</td>\n",
       "      <td>Aerospace</td>\n",
       "      <td>Agriculture</td>\n",
       "      <td>Aerospace</td>\n",
       "    </tr>\n",
       "    <tr>\n",
       "      <th>Cost (per unit)</th>\n",
       "      <td>2.06</td>\n",
       "      <td>0.55</td>\n",
       "      <td>2.215</td>\n",
       "      <td>1.575</td>\n",
       "      <td>1.725</td>\n",
       "    </tr>\n",
       "    <tr>\n",
       "      <th>Price (per unit)</th>\n",
       "      <td>8.2</td>\n",
       "      <td>4.62</td>\n",
       "      <td>2.4</td>\n",
       "      <td>4.79</td>\n",
       "      <td>1.85</td>\n",
       "    </tr>\n",
       "    <tr>\n",
       "      <th>Quantity</th>\n",
       "      <td>33.0</td>\n",
       "      <td>22.0</td>\n",
       "      <td>11.0</td>\n",
       "      <td>479.0</td>\n",
       "      <td>510.0</td>\n",
       "    </tr>\n",
       "    <tr>\n",
       "      <th>Revenue (total)</th>\n",
       "      <td>270.6</td>\n",
       "      <td>101.64</td>\n",
       "      <td>26.4</td>\n",
       "      <td>2294.41</td>\n",
       "      <td>943.5</td>\n",
       "    </tr>\n",
       "    <tr>\n",
       "      <th>Cost (total)</th>\n",
       "      <td>67.98</td>\n",
       "      <td>12.1</td>\n",
       "      <td>24.365</td>\n",
       "      <td>754.425</td>\n",
       "      <td>879.75</td>\n",
       "    </tr>\n",
       "  </tbody>\n",
       "</table>\n",
       "</div>"
      ],
      "text/plain": [
       "                                        0                    1  \\\n",
       "Date                  2015-01-01 00:00:00  2015-01-01 00:00:00   \n",
       "Customer ID                         10318                10173   \n",
       "Product           LCD, LED, OLED displays           Actuators    \n",
       "State                       Massachusetts        New Hampshire   \n",
       "Zip Code                             2109                 3084   \n",
       "Business Type                  Industrial           Industrial   \n",
       "Cost (per unit)                      2.06                 0.55   \n",
       "Price (per unit)                      8.2                 4.62   \n",
       "Quantity                             33.0                 22.0   \n",
       "Revenue (total)                     270.6               101.64   \n",
       "Cost (total)                        67.98                 12.1   \n",
       "\n",
       "                                    2                    3  \\\n",
       "Date              2015-01-01 00:00:00  2015-01-01 00:00:00   \n",
       "Customer ID                     10217                10021   \n",
       "Product                          Fuse            Resistors   \n",
       "State                           Maine                Maine   \n",
       "Zip Code                         4250                 4544   \n",
       "Business Type               Aerospace          Agriculture   \n",
       "Cost (per unit)                 2.215                1.575   \n",
       "Price (per unit)                  2.4                 4.79   \n",
       "Quantity                         11.0                479.0   \n",
       "Revenue (total)                  26.4              2294.41   \n",
       "Cost (total)                   24.365              754.425   \n",
       "\n",
       "                                           4  \n",
       "Date                     2015-01-01 00:00:00  \n",
       "Customer ID                            10041  \n",
       "Product           Light Emitting Diode (LED)  \n",
       "State                             New Jersey  \n",
       "Zip Code                                7023  \n",
       "Business Type                      Aerospace  \n",
       "Cost (per unit)                        1.725  \n",
       "Price (per unit)                        1.85  \n",
       "Quantity                               510.0  \n",
       "Revenue (total)                        943.5  \n",
       "Cost (total)                          879.75  "
      ]
     },
     "execution_count": 3,
     "metadata": {},
     "output_type": "execute_result"
    }
   ],
   "source": [
    "df.head().T"
   ]
  },
  {
   "cell_type": "code",
   "execution_count": 4,
   "id": "924f1f32",
   "metadata": {},
   "outputs": [],
   "source": [
    "df.fillna('New Mexico', inplace=True)"
   ]
  },
  {
   "cell_type": "code",
   "execution_count": 5,
   "id": "fc564727",
   "metadata": {},
   "outputs": [],
   "source": [
    "df['Quantity'] = df['Quantity'].astype(int)"
   ]
  },
  {
   "cell_type": "markdown",
   "id": "e3efeeaa",
   "metadata": {},
   "source": [
    "# Encode Categories\n"
   ]
  },
  {
   "cell_type": "code",
   "execution_count": 6,
   "id": "26826c1e",
   "metadata": {},
   "outputs": [],
   "source": [
    "df.Product = LabelEncoder().fit_transform(df.Product)\n",
    "df.State = LabelEncoder().fit_transform(df.State)\n",
    "df['Business Type'] = LabelEncoder().fit_transform(df['Business Type'])"
   ]
  },
  {
   "cell_type": "code",
   "execution_count": 7,
   "id": "2ec28981",
   "metadata": {},
   "outputs": [
    {
     "data": {
      "text/html": [
       "<div>\n",
       "<style scoped>\n",
       "    .dataframe tbody tr th:only-of-type {\n",
       "        vertical-align: middle;\n",
       "    }\n",
       "\n",
       "    .dataframe tbody tr th {\n",
       "        vertical-align: top;\n",
       "    }\n",
       "\n",
       "    .dataframe thead th {\n",
       "        text-align: right;\n",
       "    }\n",
       "</style>\n",
       "<table border=\"1\" class=\"dataframe\">\n",
       "  <thead>\n",
       "    <tr style=\"text-align: right;\">\n",
       "      <th></th>\n",
       "      <th>0</th>\n",
       "      <th>1</th>\n",
       "      <th>2</th>\n",
       "      <th>3</th>\n",
       "      <th>4</th>\n",
       "    </tr>\n",
       "  </thead>\n",
       "  <tbody>\n",
       "    <tr>\n",
       "      <th>Date</th>\n",
       "      <td>2015-01-01 00:00:00</td>\n",
       "      <td>2015-01-01 00:00:00</td>\n",
       "      <td>2015-01-01 00:00:00</td>\n",
       "      <td>2015-01-01 00:00:00</td>\n",
       "      <td>2015-01-01 00:00:00</td>\n",
       "    </tr>\n",
       "    <tr>\n",
       "      <th>Customer ID</th>\n",
       "      <td>10318</td>\n",
       "      <td>10173</td>\n",
       "      <td>10217</td>\n",
       "      <td>10021</td>\n",
       "      <td>10041</td>\n",
       "    </tr>\n",
       "    <tr>\n",
       "      <th>Product</th>\n",
       "      <td>3</td>\n",
       "      <td>0</td>\n",
       "      <td>2</td>\n",
       "      <td>7</td>\n",
       "      <td>5</td>\n",
       "    </tr>\n",
       "    <tr>\n",
       "      <th>State</th>\n",
       "      <td>18</td>\n",
       "      <td>26</td>\n",
       "      <td>16</td>\n",
       "      <td>16</td>\n",
       "      <td>27</td>\n",
       "    </tr>\n",
       "    <tr>\n",
       "      <th>Zip Code</th>\n",
       "      <td>2109</td>\n",
       "      <td>3084</td>\n",
       "      <td>4250</td>\n",
       "      <td>4544</td>\n",
       "      <td>7023</td>\n",
       "    </tr>\n",
       "    <tr>\n",
       "      <th>Business Type</th>\n",
       "      <td>2</td>\n",
       "      <td>2</td>\n",
       "      <td>0</td>\n",
       "      <td>1</td>\n",
       "      <td>0</td>\n",
       "    </tr>\n",
       "    <tr>\n",
       "      <th>Cost (per unit)</th>\n",
       "      <td>2.06</td>\n",
       "      <td>0.55</td>\n",
       "      <td>2.215</td>\n",
       "      <td>1.575</td>\n",
       "      <td>1.725</td>\n",
       "    </tr>\n",
       "    <tr>\n",
       "      <th>Price (per unit)</th>\n",
       "      <td>8.2</td>\n",
       "      <td>4.62</td>\n",
       "      <td>2.4</td>\n",
       "      <td>4.79</td>\n",
       "      <td>1.85</td>\n",
       "    </tr>\n",
       "    <tr>\n",
       "      <th>Quantity</th>\n",
       "      <td>33</td>\n",
       "      <td>22</td>\n",
       "      <td>11</td>\n",
       "      <td>479</td>\n",
       "      <td>510</td>\n",
       "    </tr>\n",
       "    <tr>\n",
       "      <th>Revenue (total)</th>\n",
       "      <td>270.6</td>\n",
       "      <td>101.64</td>\n",
       "      <td>26.4</td>\n",
       "      <td>2294.41</td>\n",
       "      <td>943.5</td>\n",
       "    </tr>\n",
       "    <tr>\n",
       "      <th>Cost (total)</th>\n",
       "      <td>67.98</td>\n",
       "      <td>12.1</td>\n",
       "      <td>24.365</td>\n",
       "      <td>754.425</td>\n",
       "      <td>879.75</td>\n",
       "    </tr>\n",
       "  </tbody>\n",
       "</table>\n",
       "</div>"
      ],
      "text/plain": [
       "                                    0                    1  \\\n",
       "Date              2015-01-01 00:00:00  2015-01-01 00:00:00   \n",
       "Customer ID                     10318                10173   \n",
       "Product                             3                    0   \n",
       "State                              18                   26   \n",
       "Zip Code                         2109                 3084   \n",
       "Business Type                       2                    2   \n",
       "Cost (per unit)                  2.06                 0.55   \n",
       "Price (per unit)                  8.2                 4.62   \n",
       "Quantity                           33                   22   \n",
       "Revenue (total)                 270.6               101.64   \n",
       "Cost (total)                    67.98                 12.1   \n",
       "\n",
       "                                    2                    3  \\\n",
       "Date              2015-01-01 00:00:00  2015-01-01 00:00:00   \n",
       "Customer ID                     10217                10021   \n",
       "Product                             2                    7   \n",
       "State                              16                   16   \n",
       "Zip Code                         4250                 4544   \n",
       "Business Type                       0                    1   \n",
       "Cost (per unit)                 2.215                1.575   \n",
       "Price (per unit)                  2.4                 4.79   \n",
       "Quantity                           11                  479   \n",
       "Revenue (total)                  26.4              2294.41   \n",
       "Cost (total)                   24.365              754.425   \n",
       "\n",
       "                                    4  \n",
       "Date              2015-01-01 00:00:00  \n",
       "Customer ID                     10041  \n",
       "Product                             5  \n",
       "State                              27  \n",
       "Zip Code                         7023  \n",
       "Business Type                       0  \n",
       "Cost (per unit)                 1.725  \n",
       "Price (per unit)                 1.85  \n",
       "Quantity                          510  \n",
       "Revenue (total)                 943.5  \n",
       "Cost (total)                   879.75  "
      ]
     },
     "execution_count": 7,
     "metadata": {},
     "output_type": "execute_result"
    }
   ],
   "source": [
    "df.head().T"
   ]
  },
  {
   "cell_type": "code",
   "execution_count": 8,
   "id": "333d83f2",
   "metadata": {},
   "outputs": [
    {
     "data": {
      "image/png": "[encoded data removed]",
      "text/plain": [
       "<Figure size 792x504 with 2 Axes>"
      ]
     },
     "metadata": {
      "needs_background": "light"
     },
     "output_type": "display_data"
    }
   ],
   "source": [
    "sns.heatmap(df.corr(), yticklabels=True, annot=True, cmap=\"YlGnBu\")\n",
    "plt.gcf().set_size_inches(11, 7)"
   ]
  },
  {
   "cell_type": "code",
   "execution_count": 9,
   "id": "46248a02",
   "metadata": {},
   "outputs": [],
   "source": [
    "df_d = df.drop(['Customer ID', 'Date'], axis=1)"
   ]
  },
  {
   "cell_type": "code",
   "execution_count": 10,
   "id": "9d5d140c",
   "metadata": {},
   "outputs": [
    {
     "name": "stdout",
     "output_type": "stream",
     "text": [
      "Product\n",
      "State\n",
      "Zip Code\n",
      "Business Type\n",
      "Cost (per unit)\n",
      "Price (per unit)\n",
      "Quantity\n",
      "Revenue (total)\n",
      "Cost (total)\n"
     ]
    }
   ],
   "source": [
    "for col in df_d.columns:\n",
    "    print(col)"
   ]
  },
  {
   "cell_type": "code",
   "execution_count": 11,
   "id": "5c3c0b97",
   "metadata": {},
   "outputs": [],
   "source": [
    "from sklearn.preprocessing import LabelEncoder\n",
    "from sklearn.model_selection import GridSearchCV\n",
    "from sklearn.model_selection import train_test_split\n",
    "from sklearn.metrics import classification_report\n",
    "from sklearn.ensemble import RandomForestClassifier\n",
    "from sklearn.linear_model import LogisticRegression\n",
    "from sklearn.metrics import accuracy_score, confusion_matrix\n",
    "from sklearn.metrics import f1_score"
   ]
  },
  {
   "cell_type": "code",
   "execution_count": 12,
   "id": "6ab35305",
   "metadata": {},
   "outputs": [],
   "source": [
    "import warnings\n",
    "warnings.filterwarnings(\"ignore\")"
   ]
  },
  {
   "cell_type": "markdown",
   "id": "148766e7",
   "metadata": {},
   "source": [
    "# Logistic Regression"
   ]
  },
  {
   "cell_type": "code",
   "execution_count": 14,
   "id": "7590ff20",
   "metadata": {},
   "outputs": [
    {
     "data": {
      "text/plain": [
       "GridSearchCV(estimator=LogisticRegression(max_iter=1000), n_jobs=-1,\n",
       "             param_grid={'C': [0.001, 0.01, 0.1, 1, 10, 100, 1000]})"
      ]
     },
     "execution_count": 14,
     "metadata": {},
     "output_type": "execute_result"
    }
   ],
   "source": [
    "X = df_d.drop(columns = ['Product','Zip Code', 'State'])\n",
    "y = df_d['Product']\n",
    "\n",
    "x_train, x_test, y_train, y_test = train_test_split(X, y, test_size=0.2)\n",
    "\n",
    "LR_mod = LogisticRegression(max_iter = 1000)\n",
    "\n",
    "grid = {'C':[0.001, 0.01, 0.1, 1, 10, 100, 1000]}\n",
    "\n",
    "LR_GS = GridSearchCV(LR_mod, grid, cv = None, n_jobs = -1)\n",
    "\n",
    "LR_GS.fit(x_train,y_train)"
   ]
  },
  {
   "cell_type": "code",
   "execution_count": 15,
   "id": "7c6c6fe3",
   "metadata": {},
   "outputs": [
    {
     "name": "stdout",
     "output_type": "stream",
     "text": [
      "tuned hpyerparameters :(best parameters)  {'C': 100}\n",
      "accuracy : 0.9108260639248874\n"
     ]
    }
   ],
   "source": [
    "print(\"tuned hpyerparameters :(best parameters) \",LR_GS.best_params_)\n",
    "\n",
    "print(\"accuracy :\",LR_GS.best_score_)"
   ]
  },
  {
   "cell_type": "markdown",
   "id": "6abd1132",
   "metadata": {},
   "source": [
    "# Random Forest Classifier\n"
   ]
  },
  {
   "cell_type": "code",
   "execution_count": 22,
   "id": "10fed02e",
   "metadata": {},
   "outputs": [
    {
     "name": "stdout",
     "output_type": "stream",
     "text": [
      "Fitting 5 folds for each of 18 candidates, totalling 90 fits\n"
     ]
    },
    {
     "data": {
      "text/plain": [
       "{'max_depth': 40, 'min_samples_split': 4, 'n_estimators': 100}"
      ]
     },
     "execution_count": 22,
     "metadata": {},
     "output_type": "execute_result"
    }
   ],
   "source": [
    "# n_jobs=-1, to utilise all processors!\n",
    "# cv=None, to use the default 5-fold cross validation.\n",
    "# verbose=2, to display the score is also displayed.\n",
    "\n",
    "X = df_d.drop(columns = ['Product','Zip Code', 'State'])\n",
    "y = df_d['Product']\n",
    "\n",
    "\n",
    "X_train, X_test, y_train, y_test = train_test_split(X, y, test_size=0.2)\n",
    "\n",
    "\n",
    "n_estimators = [0.01, 0.1, 1, 10, 100, 200]\n",
    "max_depth = [40]\n",
    "min_samples_split = [4, 7, 10]\n",
    "\n",
    "param_grid = {'n_estimators': n_estimators,\n",
    "               'max_depth': max_depth,\n",
    "               'min_samples_split': min_samples_split}\n",
    "\n",
    "RF_mod = RandomForestClassifier()\n",
    "\n",
    "RF_GS = GridSearchCV(estimator = RF_mod, param_grid = param_grid, verbose = 2, cv = None, n_jobs = -1)\n",
    "\n",
    "RF_GS.fit(X_train, y_train)\n",
    "\n",
    "RF_GS.best_params_\n",
    "\n",
    "prediction_RF = RF_m.predict(X_test)"
   ]
  },
  {
   "cell_type": "code",
   "execution_count": 41,
   "id": "244edf1e",
   "metadata": {},
   "outputs": [
    {
     "name": "stdout",
     "output_type": "stream",
     "text": [
      "              precision    recall  f1-score   support\n",
      "\n",
      "           0       1.00      1.00      1.00      1679\n",
      "           1       1.00      1.00      1.00      1238\n",
      "           2       1.00      1.00      1.00      1872\n",
      "           3       1.00      1.00      1.00       715\n",
      "           4       1.00      1.00      1.00       649\n",
      "           5       1.00      1.00      1.00      1059\n",
      "           6       1.00      1.00      1.00        91\n",
      "           7       1.00      1.00      1.00       796\n",
      "           8       1.00      1.00      1.00       475\n",
      "           9       1.00      1.00      1.00       387\n",
      "          10       1.00      1.00      1.00       143\n",
      "\n",
      "    accuracy                           1.00      9104\n",
      "   macro avg       1.00      1.00      1.00      9104\n",
      "weighted avg       1.00      1.00      1.00      9104\n",
      "\n"
     ]
    }
   ],
   "source": [
    "print(classification_report(y_test, prediction_RF));"
   ]
  },
  {
   "cell_type": "code",
   "execution_count": 23,
   "id": "c6f5ff4f",
   "metadata": {},
   "outputs": [
    {
     "name": "stdout",
     "output_type": "stream",
     "text": [
      "Train Accuracy - : 1.000\n",
      "Test Accuracy - : 1.000\n"
     ]
    }
   ],
   "source": [
    "print(f'Train Accuracy - : {RF_GS.score(x_train, y_train):.3f}')\n",
    "\n",
    "print(f'Test Accuracy - : {RF_GS.score(x_test, y_test):.3f}')"
   ]
  }
 ],
 "metadata": {
  "kernelspec": {
   "display_name": "Python 3 (ipykernel)",
   "language": "python",
   "name": "python3"
  },
  "language_info": {
   "codemirror_mode": {
    "name": "ipython",
    "version": 3
   },
   "file_extension": ".py",
   "mimetype": "text/x-python",
   "name": "python",
   "nbconvert_exporter": "python",
   "pygments_lexer": "ipython3",
   "version": "3.9.7"
  }
 },
 "nbformat": 4,
 "nbformat_minor": 5
}
