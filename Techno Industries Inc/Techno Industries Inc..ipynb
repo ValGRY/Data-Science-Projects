{
 "cells": [
  {
   "cell_type": "markdown",
   "id": "11ec4d73",
   "metadata": {},
   "source": [
    "# Techno Industries Inc."
   ]
  },
  {
   "cell_type": "markdown",
   "id": "ca8af606",
   "metadata": {},
   "source": [
    "Techno Industries Inc. a leader of manufacturing different equipment components, has observed that market demand\n",
    "has been strong over the past few years with growth averaging 6.9% Year-on-Year.\n",
    "As a Fortune 500 corporation, this good growth has led the company to expand their operation and distribution centers across 48 states in the US. With very good growth rates and lower barriers to entry due to government regulation, this has attracted a lot of new companies that increase competition drastically. New businesses are offering better and optimized delivery for components, and some companies have started using machine learning and artificial intelligence to create better technology and lower the production costs for existing components.\n",
    "After Techno Industries Inc. lost several top long-term customers that brought 11% of the company's revenue, management decided to ceate short-term plan.\n",
    "If this problem continues, the Techno Industries Inc. market share and potential customer-base will be at risk, also it will indicate a potential risk in the company’s ability to make dividend payments to shareholders if losses are too big.\n",
    "Techno Industries Inc. currently includes 6 primary industries and 11 different types of components.\n",
    "Management needs an immediate short-term action plan to address the loss of customers and protect the existing market share."
   ]
  },
  {
   "cell_type": "markdown",
   "id": "3bdf91ce",
   "metadata": {},
   "source": [
    "**The main goal of this project is to determine in which type of components Techno Industries Inc. should invest**"
   ]
  },
  {
   "cell_type": "markdown",
   "id": "0a8b821e",
   "metadata": {},
   "source": [
    "What percentage of customers in each segment purchase this specific component?     \n",
    "What is the revenue breakdown per industry?    \n",
    "Is there any seasonality in industry sales?     \n",
    "What is the geographic distribution of each segment?     \n",
    "Which segment yields the highest average profit margin?    \n",
    "How do segments compare with the number of customers?    \n",
    "Which products are driving the highest profit?      \n",
    "Which product has the lowest profit?   \n",
    "Which product has the highest growth potential?"
   ]
  },
  {
   "cell_type": "code",
   "execution_count": 1,
   "id": "f91899db",
   "metadata": {},
   "outputs": [],
   "source": [
    "import pandas as pd\n",
    "import numpy as np\n",
    "import seaborn as sns\n",
    "import matplotlib.pyplot as plt\n",
    "from sklearn.preprocessing import LabelEncoder"
   ]
  },
  {
   "cell_type": "markdown",
   "id": "baff64dc",
   "metadata": {},
   "source": [
    "Loading data and exploring dataset."
   ]
  },
  {
   "cell_type": "code",
   "execution_count": 2,
   "id": "55342fa0",
   "metadata": {},
   "outputs": [],
   "source": [
    "df = pd.read_excel(r'C:\\Users\\vikag\\Desktop\\Data-Science-Projects\\Techno Industries Inc\\Techno Industries Inc. Data.xlsx')"
   ]
  },
  {
   "cell_type": "code",
   "execution_count": 3,
   "id": "87781685",
   "metadata": {},
   "outputs": [
    {
     "data": {
      "text/html": [
       "<div>\n",
       "<style scoped>\n",
       "    .dataframe tbody tr th:only-of-type {\n",
       "        vertical-align: middle;\n",
       "    }\n",
       "\n",
       "    .dataframe tbody tr th {\n",
       "        vertical-align: top;\n",
       "    }\n",
       "\n",
       "    .dataframe thead th {\n",
       "        text-align: right;\n",
       "    }\n",
       "</style>\n",
       "<table border=\"1\" class=\"dataframe\">\n",
       "  <thead>\n",
       "    <tr style=\"text-align: right;\">\n",
       "      <th></th>\n",
       "      <th>0</th>\n",
       "      <th>1</th>\n",
       "      <th>2</th>\n",
       "      <th>3</th>\n",
       "      <th>4</th>\n",
       "    </tr>\n",
       "  </thead>\n",
       "  <tbody>\n",
       "    <tr>\n",
       "      <th>Date</th>\n",
       "      <td>2015-10-22 00:00:00</td>\n",
       "      <td>2015-09-22 00:00:00</td>\n",
       "      <td>2015-12-26 00:00:00</td>\n",
       "      <td>2015-04-04 00:00:00</td>\n",
       "      <td>2015-05-25 00:00:00</td>\n",
       "    </tr>\n",
       "    <tr>\n",
       "      <th>Customer ID</th>\n",
       "      <td>ID36557</td>\n",
       "      <td>ID42068</td>\n",
       "      <td>ID6402</td>\n",
       "      <td>ID1745</td>\n",
       "      <td>ID6925</td>\n",
       "    </tr>\n",
       "    <tr>\n",
       "      <th>Product</th>\n",
       "      <td>Microcontroller</td>\n",
       "      <td>Wiring components</td>\n",
       "      <td>Wiring components</td>\n",
       "      <td>Wiring components</td>\n",
       "      <td>Thermostat</td>\n",
       "    </tr>\n",
       "    <tr>\n",
       "      <th>State</th>\n",
       "      <td>Georgia</td>\n",
       "      <td>Wisconsin</td>\n",
       "      <td>Indiana</td>\n",
       "      <td>Illinois</td>\n",
       "      <td>Florida</td>\n",
       "    </tr>\n",
       "    <tr>\n",
       "      <th>Zip Code</th>\n",
       "      <td>30642</td>\n",
       "      <td>53933</td>\n",
       "      <td>47403</td>\n",
       "      <td>60090</td>\n",
       "      <td>33009</td>\n",
       "    </tr>\n",
       "    <tr>\n",
       "      <th>Business Type</th>\n",
       "      <td>Transportation</td>\n",
       "      <td>Industrial</td>\n",
       "      <td>Industrial</td>\n",
       "      <td>Transportation</td>\n",
       "      <td>Medical</td>\n",
       "    </tr>\n",
       "    <tr>\n",
       "      <th>Cost (per unit)</th>\n",
       "      <td>19.1</td>\n",
       "      <td>16.255</td>\n",
       "      <td>16.255</td>\n",
       "      <td>16.255</td>\n",
       "      <td>15.245</td>\n",
       "    </tr>\n",
       "    <tr>\n",
       "      <th>Price (per unit)</th>\n",
       "      <td>100.81</td>\n",
       "      <td>100.71</td>\n",
       "      <td>98.64</td>\n",
       "      <td>98.64</td>\n",
       "      <td>97.01</td>\n",
       "    </tr>\n",
       "    <tr>\n",
       "      <th>Quantity</th>\n",
       "      <td>205.0</td>\n",
       "      <td>14.0</td>\n",
       "      <td>13.0</td>\n",
       "      <td>23.0</td>\n",
       "      <td>16.0</td>\n",
       "    </tr>\n",
       "    <tr>\n",
       "      <th>Revenue (total)</th>\n",
       "      <td>20666.05</td>\n",
       "      <td>1409.94</td>\n",
       "      <td>1282.32</td>\n",
       "      <td>2268.72</td>\n",
       "      <td>1552.16</td>\n",
       "    </tr>\n",
       "    <tr>\n",
       "      <th>Cost (total)</th>\n",
       "      <td>3915.5</td>\n",
       "      <td>227.57</td>\n",
       "      <td>211.315</td>\n",
       "      <td>373.865</td>\n",
       "      <td>243.92</td>\n",
       "    </tr>\n",
       "  </tbody>\n",
       "</table>\n",
       "</div>"
      ],
      "text/plain": [
       "                                    0                    1  \\\n",
       "Date              2015-10-22 00:00:00  2015-09-22 00:00:00   \n",
       "Customer ID                   ID36557              ID42068   \n",
       "Product               Microcontroller    Wiring components   \n",
       "State                         Georgia            Wisconsin   \n",
       "Zip Code                        30642                53933   \n",
       "Business Type          Transportation           Industrial   \n",
       "Cost (per unit)                  19.1               16.255   \n",
       "Price (per unit)               100.81               100.71   \n",
       "Quantity                        205.0                 14.0   \n",
       "Revenue (total)              20666.05              1409.94   \n",
       "Cost (total)                   3915.5               227.57   \n",
       "\n",
       "                                    2                    3  \\\n",
       "Date              2015-12-26 00:00:00  2015-04-04 00:00:00   \n",
       "Customer ID                    ID6402               ID1745   \n",
       "Product             Wiring components    Wiring components   \n",
       "State                         Indiana             Illinois   \n",
       "Zip Code                        47403                60090   \n",
       "Business Type              Industrial       Transportation   \n",
       "Cost (per unit)                16.255               16.255   \n",
       "Price (per unit)                98.64                98.64   \n",
       "Quantity                         13.0                 23.0   \n",
       "Revenue (total)               1282.32              2268.72   \n",
       "Cost (total)                  211.315              373.865   \n",
       "\n",
       "                                    4  \n",
       "Date              2015-05-25 00:00:00  \n",
       "Customer ID                    ID6925  \n",
       "Product                    Thermostat  \n",
       "State                         Florida  \n",
       "Zip Code                        33009  \n",
       "Business Type                 Medical  \n",
       "Cost (per unit)                15.245  \n",
       "Price (per unit)                97.01  \n",
       "Quantity                         16.0  \n",
       "Revenue (total)               1552.16  \n",
       "Cost (total)                   243.92  "
      ]
     },
     "execution_count": 3,
     "metadata": {},
     "output_type": "execute_result"
    }
   ],
   "source": [
    "df.head().T"
   ]
  },
  {
   "cell_type": "code",
   "execution_count": 4,
   "id": "0d517ea2",
   "metadata": {},
   "outputs": [
    {
     "data": {
      "text/html": [
       "<div>\n",
       "<style scoped>\n",
       "    .dataframe tbody tr th:only-of-type {\n",
       "        vertical-align: middle;\n",
       "    }\n",
       "\n",
       "    .dataframe tbody tr th {\n",
       "        vertical-align: top;\n",
       "    }\n",
       "\n",
       "    .dataframe thead th {\n",
       "        text-align: right;\n",
       "    }\n",
       "</style>\n",
       "<table border=\"1\" class=\"dataframe\">\n",
       "  <thead>\n",
       "    <tr style=\"text-align: right;\">\n",
       "      <th></th>\n",
       "      <th>Zip Code</th>\n",
       "      <th>Cost (per unit)</th>\n",
       "      <th>Price (per unit)</th>\n",
       "      <th>Quantity</th>\n",
       "      <th>Revenue (total)</th>\n",
       "      <th>Cost (total)</th>\n",
       "    </tr>\n",
       "  </thead>\n",
       "  <tbody>\n",
       "    <tr>\n",
       "      <th>count</th>\n",
       "      <td>45516.000000</td>\n",
       "      <td>45516.000000</td>\n",
       "      <td>45516.000000</td>\n",
       "      <td>45516.000000</td>\n",
       "      <td>45516.000000</td>\n",
       "      <td>45516.000000</td>\n",
       "    </tr>\n",
       "    <tr>\n",
       "      <th>mean</th>\n",
       "      <td>52364.166447</td>\n",
       "      <td>2.632562</td>\n",
       "      <td>7.455079</td>\n",
       "      <td>212.357523</td>\n",
       "      <td>918.014754</td>\n",
       "      <td>375.560081</td>\n",
       "    </tr>\n",
       "    <tr>\n",
       "      <th>std</th>\n",
       "      <td>31658.902561</td>\n",
       "      <td>3.654429</td>\n",
       "      <td>10.237572</td>\n",
       "      <td>1874.468932</td>\n",
       "      <td>4325.882521</td>\n",
       "      <td>2226.750648</td>\n",
       "    </tr>\n",
       "    <tr>\n",
       "      <th>min</th>\n",
       "      <td>1001.000000</td>\n",
       "      <td>0.550000</td>\n",
       "      <td>0.020000</td>\n",
       "      <td>0.000000</td>\n",
       "      <td>0.000000</td>\n",
       "      <td>0.000000</td>\n",
       "    </tr>\n",
       "    <tr>\n",
       "      <th>25%</th>\n",
       "      <td>19969.500000</td>\n",
       "      <td>1.060000</td>\n",
       "      <td>3.300000</td>\n",
       "      <td>10.000000</td>\n",
       "      <td>54.000000</td>\n",
       "      <td>17.250000</td>\n",
       "    </tr>\n",
       "    <tr>\n",
       "      <th>50%</th>\n",
       "      <td>53012.500000</td>\n",
       "      <td>1.725000</td>\n",
       "      <td>4.500000</td>\n",
       "      <td>36.000000</td>\n",
       "      <td>187.200000</td>\n",
       "      <td>60.980000</td>\n",
       "    </tr>\n",
       "    <tr>\n",
       "      <th>75%</th>\n",
       "      <td>83531.250000</td>\n",
       "      <td>2.215000</td>\n",
       "      <td>6.700000</td>\n",
       "      <td>115.000000</td>\n",
       "      <td>584.800000</td>\n",
       "      <td>227.065625</td>\n",
       "    </tr>\n",
       "    <tr>\n",
       "      <th>max</th>\n",
       "      <td>99403.000000</td>\n",
       "      <td>19.100000</td>\n",
       "      <td>100.810000</td>\n",
       "      <td>222317.000000</td>\n",
       "      <td>397947.430000</td>\n",
       "      <td>235656.020000</td>\n",
       "    </tr>\n",
       "  </tbody>\n",
       "</table>\n",
       "</div>"
      ],
      "text/plain": [
       "           Zip Code  Cost (per unit)  Price (per unit)       Quantity  \\\n",
       "count  45516.000000     45516.000000      45516.000000   45516.000000   \n",
       "mean   52364.166447         2.632562          7.455079     212.357523   \n",
       "std    31658.902561         3.654429         10.237572    1874.468932   \n",
       "min     1001.000000         0.550000          0.020000       0.000000   \n",
       "25%    19969.500000         1.060000          3.300000      10.000000   \n",
       "50%    53012.500000         1.725000          4.500000      36.000000   \n",
       "75%    83531.250000         2.215000          6.700000     115.000000   \n",
       "max    99403.000000        19.100000        100.810000  222317.000000   \n",
       "\n",
       "       Revenue (total)   Cost (total)  \n",
       "count     45516.000000   45516.000000  \n",
       "mean        918.014754     375.560081  \n",
       "std        4325.882521    2226.750648  \n",
       "min           0.000000       0.000000  \n",
       "25%          54.000000      17.250000  \n",
       "50%         187.200000      60.980000  \n",
       "75%         584.800000     227.065625  \n",
       "max      397947.430000  235656.020000  "
      ]
     },
     "execution_count": 4,
     "metadata": {},
     "output_type": "execute_result"
    }
   ],
   "source": [
    "df.describe()"
   ]
  },
  {
   "cell_type": "code",
   "execution_count": 5,
   "id": "700e123a",
   "metadata": {},
   "outputs": [
    {
     "data": {
      "text/plain": [
       "Date                datetime64[ns]\n",
       "Customer ID                 object\n",
       "Product                     object\n",
       "State                       object\n",
       "Zip Code                     int64\n",
       "Business Type               object\n",
       "Cost (per unit)            float64\n",
       "Price (per unit)           float64\n",
       "Quantity                   float64\n",
       "Revenue (total)            float64\n",
       "Cost (total)               float64\n",
       "dtype: object"
      ]
     },
     "execution_count": 5,
     "metadata": {},
     "output_type": "execute_result"
    }
   ],
   "source": [
    "df.dtypes"
   ]
  },
  {
   "cell_type": "markdown",
   "id": "7eec7c85",
   "metadata": {},
   "source": [
    "# Data Wrangling"
   ]
  },
  {
   "cell_type": "code",
   "execution_count": 6,
   "id": "b32daae7",
   "metadata": {},
   "outputs": [
    {
     "data": {
      "text/plain": [
       "Date                0\n",
       "Customer ID         0\n",
       "Product             0\n",
       "State               7\n",
       "Zip Code            0\n",
       "Business Type       0\n",
       "Cost (per unit)     0\n",
       "Price (per unit)    0\n",
       "Quantity            0\n",
       "Revenue (total)     0\n",
       "Cost (total)        0\n",
       "dtype: int64"
      ]
     },
     "execution_count": 6,
     "metadata": {},
     "output_type": "execute_result"
    }
   ],
   "source": [
    "df.isna().sum()"
   ]
  },
  {
   "cell_type": "code",
   "execution_count": 7,
   "id": "78cb13b2",
   "metadata": {
    "scrolled": true
   },
   "outputs": [
    {
     "data": {
      "text/html": [
       "<div>\n",
       "<style scoped>\n",
       "    .dataframe tbody tr th:only-of-type {\n",
       "        vertical-align: middle;\n",
       "    }\n",
       "\n",
       "    .dataframe tbody tr th {\n",
       "        vertical-align: top;\n",
       "    }\n",
       "\n",
       "    .dataframe thead th {\n",
       "        text-align: right;\n",
       "    }\n",
       "</style>\n",
       "<table border=\"1\" class=\"dataframe\">\n",
       "  <thead>\n",
       "    <tr style=\"text-align: right;\">\n",
       "      <th></th>\n",
       "      <th>Date</th>\n",
       "      <th>Customer ID</th>\n",
       "      <th>Product</th>\n",
       "      <th>State</th>\n",
       "      <th>Zip Code</th>\n",
       "      <th>Business Type</th>\n",
       "      <th>Cost (per unit)</th>\n",
       "      <th>Price (per unit)</th>\n",
       "      <th>Quantity</th>\n",
       "      <th>Revenue (total)</th>\n",
       "      <th>Cost (total)</th>\n",
       "    </tr>\n",
       "  </thead>\n",
       "  <tbody>\n",
       "    <tr>\n",
       "      <th>290</th>\n",
       "      <td>2015-08-24</td>\n",
       "      <td>ID16009</td>\n",
       "      <td>Thermostat</td>\n",
       "      <td>NaN</td>\n",
       "      <td>88013</td>\n",
       "      <td>Industrial</td>\n",
       "      <td>15.245</td>\n",
       "      <td>61.74</td>\n",
       "      <td>5.0</td>\n",
       "      <td>308.70</td>\n",
       "      <td>76.225</td>\n",
       "    </tr>\n",
       "    <tr>\n",
       "      <th>932</th>\n",
       "      <td>2015-10-06</td>\n",
       "      <td>ID42905</td>\n",
       "      <td>Thermostat</td>\n",
       "      <td>NaN</td>\n",
       "      <td>88013</td>\n",
       "      <td>Transportation</td>\n",
       "      <td>15.245</td>\n",
       "      <td>46.20</td>\n",
       "      <td>16.0</td>\n",
       "      <td>739.20</td>\n",
       "      <td>243.920</td>\n",
       "    </tr>\n",
       "    <tr>\n",
       "      <th>10094</th>\n",
       "      <td>2015-05-05</td>\n",
       "      <td>ID42904</td>\n",
       "      <td>LCD, LED, OLED displays</td>\n",
       "      <td>NaN</td>\n",
       "      <td>88013</td>\n",
       "      <td>Transportation</td>\n",
       "      <td>2.060</td>\n",
       "      <td>7.20</td>\n",
       "      <td>107.0</td>\n",
       "      <td>770.40</td>\n",
       "      <td>220.420</td>\n",
       "    </tr>\n",
       "    <tr>\n",
       "      <th>17952</th>\n",
       "      <td>2015-05-26</td>\n",
       "      <td>ID16008</td>\n",
       "      <td>LCD, LED, OLED displays</td>\n",
       "      <td>NaN</td>\n",
       "      <td>88013</td>\n",
       "      <td>Industrial</td>\n",
       "      <td>2.060</td>\n",
       "      <td>4.95</td>\n",
       "      <td>6.0</td>\n",
       "      <td>29.70</td>\n",
       "      <td>12.360</td>\n",
       "    </tr>\n",
       "    <tr>\n",
       "      <th>18009</th>\n",
       "      <td>2015-03-03</td>\n",
       "      <td>ID16007</td>\n",
       "      <td>Circuit breakers</td>\n",
       "      <td>NaN</td>\n",
       "      <td>88013</td>\n",
       "      <td>Industrial</td>\n",
       "      <td>2.490</td>\n",
       "      <td>4.95</td>\n",
       "      <td>17.0</td>\n",
       "      <td>84.15</td>\n",
       "      <td>42.330</td>\n",
       "    </tr>\n",
       "    <tr>\n",
       "      <th>22257</th>\n",
       "      <td>2015-10-18</td>\n",
       "      <td>ID42902</td>\n",
       "      <td>Resistors</td>\n",
       "      <td>NaN</td>\n",
       "      <td>88013</td>\n",
       "      <td>Transportation</td>\n",
       "      <td>1.575</td>\n",
       "      <td>4.50</td>\n",
       "      <td>2.0</td>\n",
       "      <td>9.00</td>\n",
       "      <td>3.150</td>\n",
       "    </tr>\n",
       "    <tr>\n",
       "      <th>22293</th>\n",
       "      <td>2015-01-01</td>\n",
       "      <td>ID42903</td>\n",
       "      <td>Circuit breakers</td>\n",
       "      <td>NaN</td>\n",
       "      <td>88013</td>\n",
       "      <td>Transportation</td>\n",
       "      <td>2.490</td>\n",
       "      <td>4.50</td>\n",
       "      <td>2.0</td>\n",
       "      <td>9.00</td>\n",
       "      <td>4.980</td>\n",
       "    </tr>\n",
       "  </tbody>\n",
       "</table>\n",
       "</div>"
      ],
      "text/plain": [
       "            Date Customer ID                  Product State  Zip Code  \\\n",
       "290   2015-08-24     ID16009               Thermostat   NaN     88013   \n",
       "932   2015-10-06     ID42905               Thermostat   NaN     88013   \n",
       "10094 2015-05-05     ID42904  LCD, LED, OLED displays   NaN     88013   \n",
       "17952 2015-05-26     ID16008  LCD, LED, OLED displays   NaN     88013   \n",
       "18009 2015-03-03     ID16007         Circuit breakers   NaN     88013   \n",
       "22257 2015-10-18     ID42902                Resistors   NaN     88013   \n",
       "22293 2015-01-01     ID42903         Circuit breakers   NaN     88013   \n",
       "\n",
       "        Business Type  Cost (per unit)  Price (per unit)  Quantity  \\\n",
       "290        Industrial           15.245             61.74       5.0   \n",
       "932    Transportation           15.245             46.20      16.0   \n",
       "10094  Transportation            2.060              7.20     107.0   \n",
       "17952      Industrial            2.060              4.95       6.0   \n",
       "18009      Industrial            2.490              4.95      17.0   \n",
       "22257  Transportation            1.575              4.50       2.0   \n",
       "22293  Transportation            2.490              4.50       2.0   \n",
       "\n",
       "       Revenue (total)  Cost (total)  \n",
       "290             308.70        76.225  \n",
       "932             739.20       243.920  \n",
       "10094           770.40       220.420  \n",
       "17952            29.70        12.360  \n",
       "18009            84.15        42.330  \n",
       "22257             9.00         3.150  \n",
       "22293             9.00         4.980  "
      ]
     },
     "execution_count": 7,
     "metadata": {},
     "output_type": "execute_result"
    }
   ],
   "source": [
    "df[df.isnull().any(axis=1)]"
   ]
  },
  {
   "cell_type": "markdown",
   "id": "c586bc51",
   "metadata": {},
   "source": [
    "Zip Code 88013 is belongs to Las Cruces, New Mexico.    \n",
    "I will fill missing states with New Mexico."
   ]
  },
  {
   "cell_type": "code",
   "execution_count": 8,
   "id": "924f1f32",
   "metadata": {},
   "outputs": [],
   "source": [
    "df.fillna('New Mexico', inplace=True)"
   ]
  },
  {
   "cell_type": "code",
   "execution_count": 9,
   "id": "db448b54",
   "metadata": {},
   "outputs": [
    {
     "data": {
      "text/plain": [
       "Date                0\n",
       "Customer ID         0\n",
       "Product             0\n",
       "State               0\n",
       "Zip Code            0\n",
       "Business Type       0\n",
       "Cost (per unit)     0\n",
       "Price (per unit)    0\n",
       "Quantity            0\n",
       "Revenue (total)     0\n",
       "Cost (total)        0\n",
       "dtype: int64"
      ]
     },
     "execution_count": 9,
     "metadata": {},
     "output_type": "execute_result"
    }
   ],
   "source": [
    "df.isna().sum()"
   ]
  },
  {
   "cell_type": "markdown",
   "id": "1d45e9bf",
   "metadata": {},
   "source": [
    "Changing datatype of column QUANTITY from float to int."
   ]
  },
  {
   "cell_type": "code",
   "execution_count": 10,
   "id": "fc564727",
   "metadata": {},
   "outputs": [],
   "source": [
    "df['Quantity'] = df['Quantity'].astype(int)"
   ]
  },
  {
   "cell_type": "code",
   "execution_count": 11,
   "id": "dc2ec099",
   "metadata": {},
   "outputs": [
    {
     "data": {
      "text/plain": [
       "Date                datetime64[ns]\n",
       "Customer ID                 object\n",
       "Product                     object\n",
       "State                       object\n",
       "Zip Code                     int64\n",
       "Business Type               object\n",
       "Cost (per unit)            float64\n",
       "Price (per unit)           float64\n",
       "Quantity                     int32\n",
       "Revenue (total)            float64\n",
       "Cost (total)               float64\n",
       "dtype: object"
      ]
     },
     "execution_count": 11,
     "metadata": {},
     "output_type": "execute_result"
    }
   ],
   "source": [
    "df.dtypes"
   ]
  },
  {
   "cell_type": "code",
   "execution_count": 12,
   "id": "34a05af3",
   "metadata": {},
   "outputs": [
    {
     "data": {
      "text/html": [
       "<div>\n",
       "<style scoped>\n",
       "    .dataframe tbody tr th:only-of-type {\n",
       "        vertical-align: middle;\n",
       "    }\n",
       "\n",
       "    .dataframe tbody tr th {\n",
       "        vertical-align: top;\n",
       "    }\n",
       "\n",
       "    .dataframe thead th {\n",
       "        text-align: right;\n",
       "    }\n",
       "</style>\n",
       "<table border=\"1\" class=\"dataframe\">\n",
       "  <thead>\n",
       "    <tr style=\"text-align: right;\">\n",
       "      <th></th>\n",
       "      <th>0</th>\n",
       "      <th>1</th>\n",
       "      <th>2</th>\n",
       "      <th>3</th>\n",
       "      <th>4</th>\n",
       "    </tr>\n",
       "  </thead>\n",
       "  <tbody>\n",
       "    <tr>\n",
       "      <th>Date</th>\n",
       "      <td>2015-10-22 00:00:00</td>\n",
       "      <td>2015-09-22 00:00:00</td>\n",
       "      <td>2015-12-26 00:00:00</td>\n",
       "      <td>2015-04-04 00:00:00</td>\n",
       "      <td>2015-05-25 00:00:00</td>\n",
       "    </tr>\n",
       "    <tr>\n",
       "      <th>Customer ID</th>\n",
       "      <td>ID36557</td>\n",
       "      <td>ID42068</td>\n",
       "      <td>ID6402</td>\n",
       "      <td>ID1745</td>\n",
       "      <td>ID6925</td>\n",
       "    </tr>\n",
       "    <tr>\n",
       "      <th>Product</th>\n",
       "      <td>Microcontroller</td>\n",
       "      <td>Wiring components</td>\n",
       "      <td>Wiring components</td>\n",
       "      <td>Wiring components</td>\n",
       "      <td>Thermostat</td>\n",
       "    </tr>\n",
       "    <tr>\n",
       "      <th>State</th>\n",
       "      <td>Georgia</td>\n",
       "      <td>Wisconsin</td>\n",
       "      <td>Indiana</td>\n",
       "      <td>Illinois</td>\n",
       "      <td>Florida</td>\n",
       "    </tr>\n",
       "    <tr>\n",
       "      <th>Zip Code</th>\n",
       "      <td>30642</td>\n",
       "      <td>53933</td>\n",
       "      <td>47403</td>\n",
       "      <td>60090</td>\n",
       "      <td>33009</td>\n",
       "    </tr>\n",
       "    <tr>\n",
       "      <th>Business Type</th>\n",
       "      <td>Transportation</td>\n",
       "      <td>Industrial</td>\n",
       "      <td>Industrial</td>\n",
       "      <td>Transportation</td>\n",
       "      <td>Medical</td>\n",
       "    </tr>\n",
       "    <tr>\n",
       "      <th>Cost (per unit)</th>\n",
       "      <td>19.1</td>\n",
       "      <td>16.255</td>\n",
       "      <td>16.255</td>\n",
       "      <td>16.255</td>\n",
       "      <td>15.245</td>\n",
       "    </tr>\n",
       "    <tr>\n",
       "      <th>Price (per unit)</th>\n",
       "      <td>100.81</td>\n",
       "      <td>100.71</td>\n",
       "      <td>98.64</td>\n",
       "      <td>98.64</td>\n",
       "      <td>97.01</td>\n",
       "    </tr>\n",
       "    <tr>\n",
       "      <th>Quantity</th>\n",
       "      <td>205</td>\n",
       "      <td>14</td>\n",
       "      <td>13</td>\n",
       "      <td>23</td>\n",
       "      <td>16</td>\n",
       "    </tr>\n",
       "    <tr>\n",
       "      <th>Revenue (total)</th>\n",
       "      <td>20666.05</td>\n",
       "      <td>1409.94</td>\n",
       "      <td>1282.32</td>\n",
       "      <td>2268.72</td>\n",
       "      <td>1552.16</td>\n",
       "    </tr>\n",
       "    <tr>\n",
       "      <th>Cost (total)</th>\n",
       "      <td>3915.5</td>\n",
       "      <td>227.57</td>\n",
       "      <td>211.315</td>\n",
       "      <td>373.865</td>\n",
       "      <td>243.92</td>\n",
       "    </tr>\n",
       "  </tbody>\n",
       "</table>\n",
       "</div>"
      ],
      "text/plain": [
       "                                    0                    1  \\\n",
       "Date              2015-10-22 00:00:00  2015-09-22 00:00:00   \n",
       "Customer ID                   ID36557              ID42068   \n",
       "Product               Microcontroller    Wiring components   \n",
       "State                         Georgia            Wisconsin   \n",
       "Zip Code                        30642                53933   \n",
       "Business Type          Transportation           Industrial   \n",
       "Cost (per unit)                  19.1               16.255   \n",
       "Price (per unit)               100.81               100.71   \n",
       "Quantity                          205                   14   \n",
       "Revenue (total)              20666.05              1409.94   \n",
       "Cost (total)                   3915.5               227.57   \n",
       "\n",
       "                                    2                    3  \\\n",
       "Date              2015-12-26 00:00:00  2015-04-04 00:00:00   \n",
       "Customer ID                    ID6402               ID1745   \n",
       "Product             Wiring components    Wiring components   \n",
       "State                         Indiana             Illinois   \n",
       "Zip Code                        47403                60090   \n",
       "Business Type              Industrial       Transportation   \n",
       "Cost (per unit)                16.255               16.255   \n",
       "Price (per unit)                98.64                98.64   \n",
       "Quantity                           13                   23   \n",
       "Revenue (total)               1282.32              2268.72   \n",
       "Cost (total)                  211.315              373.865   \n",
       "\n",
       "                                    4  \n",
       "Date              2015-05-25 00:00:00  \n",
       "Customer ID                    ID6925  \n",
       "Product                    Thermostat  \n",
       "State                         Florida  \n",
       "Zip Code                        33009  \n",
       "Business Type                 Medical  \n",
       "Cost (per unit)                15.245  \n",
       "Price (per unit)                97.01  \n",
       "Quantity                           16  \n",
       "Revenue (total)               1552.16  \n",
       "Cost (total)                   243.92  "
      ]
     },
     "execution_count": 12,
     "metadata": {},
     "output_type": "execute_result"
    }
   ],
   "source": [
    "df.head().T"
   ]
  },
  {
   "cell_type": "markdown",
   "id": "034f64fa",
   "metadata": {},
   "source": [
    "# Exploratory Data Analysis"
   ]
  },
  {
   "cell_type": "code",
   "execution_count": 13,
   "id": "bac78889",
   "metadata": {},
   "outputs": [
    {
     "data": {
      "image/png": "[encoded data removed]",
      "text/plain": [
       "<Figure size 864x360 with 1 Axes>"
      ]
     },
     "metadata": {
      "needs_background": "light"
     },
     "output_type": "display_data"
    }
   ],
   "source": [
    "plt.figure(figsize=(12,5))\n",
    "df['Business Type'].value_counts().sort_values().plot(kind = 'barh')\n",
    "\n",
    "plt.yticks(size = 12)\n",
    "plt.xticks(size = 12)\n",
    "plt.ylabel('Industries', size = 25)\n",
    "plt.xlabel('Count', size = 25)\n",
    "plt.title('Distribution Of Industries', size = 25)\n",
    "plt.tight_layout()"
   ]
  },
  {
   "cell_type": "code",
   "execution_count": 14,
   "id": "b0341122",
   "metadata": {
    "scrolled": false
   },
   "outputs": [
    {
     "data": {
      "image/png": "[encoded data removed]",
      "text/plain": [
       "<Figure size 864x432 with 1 Axes>"
      ]
     },
     "metadata": {
      "needs_background": "light"
     },
     "output_type": "display_data"
    }
   ],
   "source": [
    "plt.figure(figsize=(12,6))\n",
    "df['Product'].value_counts().sort_values().plot(kind = 'barh')\n",
    "\n",
    "plt.yticks(size = 12)\n",
    "plt.xticks(size = 12)\n",
    "plt.xlabel('Count', size = 25)\n",
    "plt.xticks(rotation=90)\n",
    "plt.ylabel('Products', size = 25)\n",
    "plt.title('Distribution Of Components', size = 25)\n",
    "plt.tight_layout()"
   ]
  },
  {
   "cell_type": "markdown",
   "id": "90fcc70a",
   "metadata": {},
   "source": [
    "## What percentage of customers in each segment purchase this specific component?"
   ]
  },
  {
   "cell_type": "code",
   "execution_count": 15,
   "id": "24136ea1",
   "metadata": {},
   "outputs": [
    {
     "data": {
      "image/png": "[encoded data removed]",
      "text/plain": [
       "<Figure size 1584x720 with 1 Axes>"
      ]
     },
     "metadata": {
      "needs_background": "light"
     },
     "output_type": "display_data"
    }
   ],
   "source": [
    "#plt.style.use('ggplot')\n",
    "\n",
    "df.groupby(['Business Type', 'Product'])['Business Type'].count().unstack().plot.bar(legend=True,\n",
    "                                                                                     figsize=(22,10), width=0.8)\n",
    "plt.yticks(size = 20)\n",
    "plt.xticks(size = 20)\n",
    "plt.xticks(rotation = 0) \n",
    "\n",
    "plt.legend(fontsize=17)\n",
    "\n",
    "plt.xlabel('Industries', size = 25)\n",
    "plt.ylabel('Count Of Customers', size = 25)\n",
    "plt.title('Percentage Of Customers Per Industry', size = 28);\n",
    "plt.show()"
   ]
  },
  {
   "cell_type": "markdown",
   "id": "47a63d26",
   "metadata": {},
   "source": [
    "## What is the revenue breakdown per industry?"
   ]
  },
  {
   "cell_type": "code",
   "execution_count": 16,
   "id": "82187013",
   "metadata": {},
   "outputs": [
    {
     "data": {
      "image/png": "[encoded data removed]",
      "text/plain": [
       "<Figure size 720x432 with 1 Axes>"
      ]
     },
     "metadata": {
      "needs_background": "light"
     },
     "output_type": "display_data"
    }
   ],
   "source": [
    "plt.figure(figsize=(10,6))\n",
    "df.groupby('Business Type')['Revenue (total)'].mean().sort_values(ascending=False).plot(kind = 'bar',\n",
    "                                                                                       color = '#99ff99',edgecolor='blue')\n",
    "\n",
    "plt.xlabel('Industries', size = 15)\n",
    "plt.ylabel('Revenue Mean', size = 15)\n",
    "plt.title('Average Revenue Per Industry', size = 22);"
   ]
  },
  {
   "cell_type": "code",
   "execution_count": 17,
   "id": "fd1e88c2",
   "metadata": {},
   "outputs": [
    {
     "data": {
      "image/png": "[encoded data removed]",
      "text/plain": [
       "<Figure size 1080x504 with 1 Axes>"
      ]
     },
     "metadata": {
      "needs_background": "light"
     },
     "output_type": "display_data"
    }
   ],
   "source": [
    "plt.figure(figsize=(15,7))\n",
    "total = len(df['Revenue (total)'])\n",
    "ax = sns.countplot(x = df['Business Type'].sort_values(ascending=True), data=df)\n",
    "for h in ax.patches:\n",
    "    height = h.get_height()\n",
    "    ax.text(h.get_x() + h.get_width() / 2., height + 3,'{:1.2f}'.format((height/total*100)) + '%',\n",
    "            ha=\"center\",size=17)\n",
    "plt.yticks(size = 17)\n",
    "plt.xticks(size = 17)\n",
    "plt.xlabel('Industries', size = 30)\n",
    "plt.ylabel('Revenue', size = 30)\n",
    "plt.title('Revenue Per Industry', size = 30)\n",
    "plt.tight_layout()"
   ]
  },
  {
   "cell_type": "markdown",
   "id": "2d69bb85",
   "metadata": {},
   "source": [
    "## Is there any seasonality in industry sales?"
   ]
  },
  {
   "cell_type": "code",
   "execution_count": null,
   "id": "4548293d",
   "metadata": {},
   "outputs": [],
   "source": []
  },
  {
   "cell_type": "markdown",
   "id": "7577369e",
   "metadata": {},
   "source": [
    "## What is the geographic distribution of each segment?"
   ]
  },
  {
   "cell_type": "code",
   "execution_count": null,
   "id": "d30ef5f9",
   "metadata": {},
   "outputs": [],
   "source": []
  },
  {
   "cell_type": "markdown",
   "id": "109e181a",
   "metadata": {},
   "source": [
    "## Which segment yields the highest average profit margin?"
   ]
  },
  {
   "cell_type": "code",
   "execution_count": null,
   "id": "68d3112c",
   "metadata": {},
   "outputs": [],
   "source": []
  },
  {
   "cell_type": "markdown",
   "id": "4caebaef",
   "metadata": {},
   "source": [
    "## How do segments compare with the number of customers?"
   ]
  },
  {
   "cell_type": "code",
   "execution_count": null,
   "id": "f0628616",
   "metadata": {},
   "outputs": [],
   "source": []
  },
  {
   "cell_type": "markdown",
   "id": "e2a2fea1",
   "metadata": {},
   "source": [
    "## Which products are driving the highest profit?"
   ]
  },
  {
   "cell_type": "code",
   "execution_count": null,
   "id": "7f8915ac",
   "metadata": {},
   "outputs": [],
   "source": []
  },
  {
   "cell_type": "markdown",
   "id": "6a0a3280",
   "metadata": {},
   "source": [
    "## Which product has the lowest profit?"
   ]
  },
  {
   "cell_type": "code",
   "execution_count": null,
   "id": "af90b64a",
   "metadata": {},
   "outputs": [],
   "source": []
  },
  {
   "cell_type": "markdown",
   "id": "122b84af",
   "metadata": {},
   "source": [
    "## Which product has the highest growth potential?"
   ]
  },
  {
   "cell_type": "code",
   "execution_count": null,
   "id": "f28846ab",
   "metadata": {},
   "outputs": [],
   "source": []
  }
 ],
 "metadata": {
  "kernelspec": {
   "display_name": "Python 3 (ipykernel)",
   "language": "python",
   "name": "python3"
  },
  "language_info": {
   "codemirror_mode": {
    "name": "ipython",
    "version": 3
   },
   "file_extension": ".py",
   "mimetype": "text/x-python",
   "name": "python",
   "nbconvert_exporter": "python",
   "pygments_lexer": "ipython3",
   "version": "3.9.7"
  }
 },
 "nbformat": 4,
 "nbformat_minor": 5
}
