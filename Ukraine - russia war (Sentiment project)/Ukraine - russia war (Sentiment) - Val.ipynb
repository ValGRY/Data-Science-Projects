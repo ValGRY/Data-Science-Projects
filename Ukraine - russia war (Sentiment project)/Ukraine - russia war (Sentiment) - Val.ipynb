{
 "cells": [
  {
   "cell_type": "code",
   "execution_count": 1,
   "id": "631d9d93",
   "metadata": {},
   "outputs": [],
   "source": [
    "import numpy as np\n",
    "import pandas as pd\n",
    "import csv\n",
    "import os"
   ]
  },
  {
   "cell_type": "code",
   "execution_count": 2,
   "id": "5bde18b3",
   "metadata": {},
   "outputs": [],
   "source": [
    "# lodind datasets\n",
    "\n",
    "Ukraine_1 = r'C:\\Users\\vikag\\Desktop\\Data-Science-Projects\\Ukraine - russia war (Sentiment project)\\Ukraine dataset\\UkraineCombinedTweetsDeduped_MAR10.csv.gzip'\n",
    "Ukraine_3 = r'C:\\Users\\vikag\\Desktop\\Data-Science-Projects\\Ukraine - russia war (Sentiment project)\\Ukraine dataset\\UkraineCombinedTweetsDeduped_MAR31.csv.gzip'\n",
    "Ukraine_2 = r'C:\\Users\\vikag\\Desktop\\Data-Science-Projects\\Ukraine - russia war (Sentiment project)\\Ukraine dataset\\UkraineCombinedTweetsDeduped_MAR18.csv.gzip'"
   ]
  },
  {
   "cell_type": "code",
   "execution_count": 3,
   "id": "fc3c688d",
   "metadata": {},
   "outputs": [],
   "source": [
    "df1 = pd.read_csv(Ukraine_1,compression='gzip', index_col=0,encoding='utf-8', quoting=csv.QUOTE_ALL,header=0, low_memory=False)"
   ]
  },
  {
   "cell_type": "code",
   "execution_count": 4,
   "id": "038cdd6f",
   "metadata": {},
   "outputs": [],
   "source": [
    "df2 = pd.read_csv(Ukraine_2,compression='gzip', index_col=0,encoding='utf-8', quoting=csv.QUOTE_ALL, low_memory=False)"
   ]
  },
  {
   "cell_type": "code",
   "execution_count": 5,
   "id": "dbf5df2e",
   "metadata": {},
   "outputs": [],
   "source": [
    "df3 = pd.read_csv(Ukraine_3,compression='gzip', index_col=0,encoding='utf-8', quoting=csv.QUOTE_ALL,low_memory=False)"
   ]
  },
  {
   "cell_type": "code",
   "execution_count": 6,
   "id": "958e70af",
   "metadata": {
    "scrolled": false
   },
   "outputs": [
    {
     "data": {
      "text/html": [
       "<div>\n",
       "<style scoped>\n",
       "    .dataframe tbody tr th:only-of-type {\n",
       "        vertical-align: middle;\n",
       "    }\n",
       "\n",
       "    .dataframe tbody tr th {\n",
       "        vertical-align: top;\n",
       "    }\n",
       "\n",
       "    .dataframe thead th {\n",
       "        text-align: right;\n",
       "    }\n",
       "</style>\n",
       "<table border=\"1\" class=\"dataframe\">\n",
       "  <thead>\n",
       "    <tr style=\"text-align: right;\">\n",
       "      <th></th>\n",
       "      <th>4557550</th>\n",
       "      <th>4557551</th>\n",
       "      <th>4557552</th>\n",
       "      <th>4557553</th>\n",
       "      <th>4557554</th>\n",
       "    </tr>\n",
       "  </thead>\n",
       "  <tbody>\n",
       "    <tr>\n",
       "      <th>userid</th>\n",
       "      <td>382303683</td>\n",
       "      <td>1433449200470032385</td>\n",
       "      <td>3689308343</td>\n",
       "      <td>567289542</td>\n",
       "      <td>1276373615466799104</td>\n",
       "    </tr>\n",
       "    <tr>\n",
       "      <th>username</th>\n",
       "      <td>loco_utes_fan</td>\n",
       "      <td>Macy33018689</td>\n",
       "      <td>Jackied15846926</td>\n",
       "      <td>Saudi_Gazette</td>\n",
       "      <td>BalanceKingdom</td>\n",
       "    </tr>\n",
       "    <tr>\n",
       "      <th>acctdesc</th>\n",
       "      <td>GO UTES!!!!!!!! BYU SUCKS!!!!!!!!!</td>\n",
       "      <td>NaN</td>\n",
       "      <td>NaN</td>\n",
       "      <td>Saudi Gazette is a leading English language da...</td>\n",
       "      <td>| #Trans (she/her) | #queer | #plural | POC 🇧🇩...</td>\n",
       "    </tr>\n",
       "    <tr>\n",
       "      <th>location</th>\n",
       "      <td>Salt Lake City, UT</td>\n",
       "      <td>NaN</td>\n",
       "      <td>NaN</td>\n",
       "      <td>Saudi Arabia</td>\n",
       "      <td>kingdombalance.carrd.co</td>\n",
       "    </tr>\n",
       "    <tr>\n",
       "      <th>following</th>\n",
       "      <td>143</td>\n",
       "      <td>1</td>\n",
       "      <td>2597</td>\n",
       "      <td>2</td>\n",
       "      <td>389</td>\n",
       "    </tr>\n",
       "    <tr>\n",
       "      <th>followers</th>\n",
       "      <td>78</td>\n",
       "      <td>2</td>\n",
       "      <td>2293</td>\n",
       "      <td>384387</td>\n",
       "      <td>318</td>\n",
       "    </tr>\n",
       "    <tr>\n",
       "      <th>totaltweets</th>\n",
       "      <td>10905</td>\n",
       "      <td>299</td>\n",
       "      <td>227685</td>\n",
       "      <td>126440</td>\n",
       "      <td>2960</td>\n",
       "    </tr>\n",
       "    <tr>\n",
       "      <th>usercreatedts</th>\n",
       "      <td>2011-09-29 20:51:22.000000</td>\n",
       "      <td>2021-09-02 15:18:49.000000</td>\n",
       "      <td>2015-09-17 20:38:22.000000</td>\n",
       "      <td>2012-04-30 13:01:28.000000</td>\n",
       "      <td>2020-06-26 04:36:15.000000</td>\n",
       "    </tr>\n",
       "    <tr>\n",
       "      <th>tweetid</th>\n",
       "      <td>1501709416948633601</td>\n",
       "      <td>1501709417279934464</td>\n",
       "      <td>1501709417376583682</td>\n",
       "      <td>1501709417527406594</td>\n",
       "      <td>1501709417594736646</td>\n",
       "    </tr>\n",
       "    <tr>\n",
       "      <th>tweetcreatedts</th>\n",
       "      <td>2022-03-10 00:00:00</td>\n",
       "      <td>2022-03-10 00:00:00</td>\n",
       "      <td>2022-03-10 00:00:00</td>\n",
       "      <td>2022-03-10 00:00:00</td>\n",
       "      <td>2022-03-10 00:00:00</td>\n",
       "    </tr>\n",
       "    <tr>\n",
       "      <th>retweetcount</th>\n",
       "      <td>6572</td>\n",
       "      <td>25</td>\n",
       "      <td>1</td>\n",
       "      <td>0</td>\n",
       "      <td>1</td>\n",
       "    </tr>\n",
       "    <tr>\n",
       "      <th>text</th>\n",
       "      <td>This #Russia-dropped bomb would flatten a buil...</td>\n",
       "      <td>#Zelensky:\\n\\nThere was little Bandera there? ...</td>\n",
       "      <td>@SecBlinken If the horrific attacks on #Ukrain...</td>\n",
       "      <td>Thousands of residents from the northeastern #...</td>\n",
       "      <td>In 2 hours, we are #streaming 3 #indiegames fr...</td>\n",
       "    </tr>\n",
       "    <tr>\n",
       "      <th>hashtags</th>\n",
       "      <td>[{'text': 'Russia', 'indices': [25, 32]}, {'te...</td>\n",
       "      <td>[{'text': 'Zelensky', 'indices': [19, 28]}]</td>\n",
       "      <td>[{'text': 'Ukraine', 'indices': [58, 66]}, {'t...</td>\n",
       "      <td>[{'text': 'Ukrainian', 'indices': [45, 55]}, {...</td>\n",
       "      <td>[{'text': 'streaming', 'indices': [19, 29]}, {...</td>\n",
       "    </tr>\n",
       "    <tr>\n",
       "      <th>language</th>\n",
       "      <td>en</td>\n",
       "      <td>en</td>\n",
       "      <td>en</td>\n",
       "      <td>en</td>\n",
       "      <td>en</td>\n",
       "    </tr>\n",
       "    <tr>\n",
       "      <th>coordinates</th>\n",
       "      <td>NaN</td>\n",
       "      <td>NaN</td>\n",
       "      <td>NaN</td>\n",
       "      <td>NaN</td>\n",
       "      <td>NaN</td>\n",
       "    </tr>\n",
       "    <tr>\n",
       "      <th>favorite_count</th>\n",
       "      <td>0</td>\n",
       "      <td>0</td>\n",
       "      <td>0</td>\n",
       "      <td>0</td>\n",
       "      <td>0</td>\n",
       "    </tr>\n",
       "    <tr>\n",
       "      <th>extractedts</th>\n",
       "      <td>2022-03-10 00:04:46.379963</td>\n",
       "      <td>2022-03-10 00:04:46.372061</td>\n",
       "      <td>2022-03-10 00:04:46.364330</td>\n",
       "      <td>2022-03-10 00:02:16.696326</td>\n",
       "      <td>2022-03-10 00:04:46.356658</td>\n",
       "    </tr>\n",
       "  </tbody>\n",
       "</table>\n",
       "</div>"
      ],
      "text/plain": [
       "                                                          4557550  \\\n",
       "userid                                                  382303683   \n",
       "username                                            loco_utes_fan   \n",
       "acctdesc                       GO UTES!!!!!!!! BYU SUCKS!!!!!!!!!   \n",
       "location                                       Salt Lake City, UT   \n",
       "following                                                     143   \n",
       "followers                                                      78   \n",
       "totaltweets                                                 10905   \n",
       "usercreatedts                          2011-09-29 20:51:22.000000   \n",
       "tweetid                                       1501709416948633601   \n",
       "tweetcreatedts                                2022-03-10 00:00:00   \n",
       "retweetcount                                                 6572   \n",
       "text            This #Russia-dropped bomb would flatten a buil...   \n",
       "hashtags        [{'text': 'Russia', 'indices': [25, 32]}, {'te...   \n",
       "language                                                       en   \n",
       "coordinates                                                   NaN   \n",
       "favorite_count                                                  0   \n",
       "extractedts                            2022-03-10 00:04:46.379963   \n",
       "\n",
       "                                                          4557551  \\\n",
       "userid                                        1433449200470032385   \n",
       "username                                             Macy33018689   \n",
       "acctdesc                                                      NaN   \n",
       "location                                                      NaN   \n",
       "following                                                       1   \n",
       "followers                                                       2   \n",
       "totaltweets                                                   299   \n",
       "usercreatedts                          2021-09-02 15:18:49.000000   \n",
       "tweetid                                       1501709417279934464   \n",
       "tweetcreatedts                                2022-03-10 00:00:00   \n",
       "retweetcount                                                   25   \n",
       "text            #Zelensky:\\n\\nThere was little Bandera there? ...   \n",
       "hashtags              [{'text': 'Zelensky', 'indices': [19, 28]}]   \n",
       "language                                                       en   \n",
       "coordinates                                                   NaN   \n",
       "favorite_count                                                  0   \n",
       "extractedts                            2022-03-10 00:04:46.372061   \n",
       "\n",
       "                                                          4557552  \\\n",
       "userid                                                 3689308343   \n",
       "username                                          Jackied15846926   \n",
       "acctdesc                                                      NaN   \n",
       "location                                                      NaN   \n",
       "following                                                    2597   \n",
       "followers                                                    2293   \n",
       "totaltweets                                                227685   \n",
       "usercreatedts                          2015-09-17 20:38:22.000000   \n",
       "tweetid                                       1501709417376583682   \n",
       "tweetcreatedts                                2022-03-10 00:00:00   \n",
       "retweetcount                                                    1   \n",
       "text            @SecBlinken If the horrific attacks on #Ukrain...   \n",
       "hashtags        [{'text': 'Ukraine', 'indices': [58, 66]}, {'t...   \n",
       "language                                                       en   \n",
       "coordinates                                                   NaN   \n",
       "favorite_count                                                  0   \n",
       "extractedts                            2022-03-10 00:04:46.364330   \n",
       "\n",
       "                                                          4557553  \\\n",
       "userid                                                  567289542   \n",
       "username                                            Saudi_Gazette   \n",
       "acctdesc        Saudi Gazette is a leading English language da...   \n",
       "location                                             Saudi Arabia   \n",
       "following                                                       2   \n",
       "followers                                                  384387   \n",
       "totaltweets                                                126440   \n",
       "usercreatedts                          2012-04-30 13:01:28.000000   \n",
       "tweetid                                       1501709417527406594   \n",
       "tweetcreatedts                                2022-03-10 00:00:00   \n",
       "retweetcount                                                    0   \n",
       "text            Thousands of residents from the northeastern #...   \n",
       "hashtags        [{'text': 'Ukrainian', 'indices': [45, 55]}, {...   \n",
       "language                                                       en   \n",
       "coordinates                                                   NaN   \n",
       "favorite_count                                                  0   \n",
       "extractedts                            2022-03-10 00:02:16.696326   \n",
       "\n",
       "                                                          4557554  \n",
       "userid                                        1276373615466799104  \n",
       "username                                           BalanceKingdom  \n",
       "acctdesc        | #Trans (she/her) | #queer | #plural | POC 🇧🇩...  \n",
       "location                                  kingdombalance.carrd.co  \n",
       "following                                                     389  \n",
       "followers                                                     318  \n",
       "totaltweets                                                  2960  \n",
       "usercreatedts                          2020-06-26 04:36:15.000000  \n",
       "tweetid                                       1501709417594736646  \n",
       "tweetcreatedts                                2022-03-10 00:00:00  \n",
       "retweetcount                                                    1  \n",
       "text            In 2 hours, we are #streaming 3 #indiegames fr...  \n",
       "hashtags        [{'text': 'streaming', 'indices': [19, 29]}, {...  \n",
       "language                                                       en  \n",
       "coordinates                                                   NaN  \n",
       "favorite_count                                                  0  \n",
       "extractedts                            2022-03-10 00:04:46.356658  "
      ]
     },
     "execution_count": 6,
     "metadata": {},
     "output_type": "execute_result"
    }
   ],
   "source": [
    "# Checking each dataa set\n",
    "\n",
    "df1.head().T"
   ]
  },
  {
   "cell_type": "code",
   "execution_count": 7,
   "id": "5684c358",
   "metadata": {},
   "outputs": [
    {
     "data": {
      "text/html": [
       "<div>\n",
       "<style scoped>\n",
       "    .dataframe tbody tr th:only-of-type {\n",
       "        vertical-align: middle;\n",
       "    }\n",
       "\n",
       "    .dataframe tbody tr th {\n",
       "        vertical-align: top;\n",
       "    }\n",
       "\n",
       "    .dataframe thead th {\n",
       "        text-align: right;\n",
       "    }\n",
       "</style>\n",
       "<table border=\"1\" class=\"dataframe\">\n",
       "  <thead>\n",
       "    <tr style=\"text-align: right;\">\n",
       "      <th></th>\n",
       "      <th>0</th>\n",
       "      <th>1</th>\n",
       "      <th>2</th>\n",
       "      <th>3</th>\n",
       "      <th>4</th>\n",
       "    </tr>\n",
       "  </thead>\n",
       "  <tbody>\n",
       "    <tr>\n",
       "      <th>userid</th>\n",
       "      <td>112073654</td>\n",
       "      <td>902816295023988736</td>\n",
       "      <td>19897138</td>\n",
       "      <td>2533590570</td>\n",
       "      <td>36327407</td>\n",
       "    </tr>\n",
       "    <tr>\n",
       "      <th>username</th>\n",
       "      <td>johnguilfoil</td>\n",
       "      <td>YashaShveller</td>\n",
       "      <td>IndiaToday</td>\n",
       "      <td>joseph_less</td>\n",
       "      <td>htTweets</td>\n",
       "    </tr>\n",
       "    <tr>\n",
       "      <th>acctdesc</th>\n",
       "      <td>Basically the dad from Bluey. Public Relations...</td>\n",
       "      <td>qwer</td>\n",
       "      <td>Brings you news breaks: Exclusive political, e...</td>\n",
       "      <td>NaN</td>\n",
       "      <td>One of India's largest media companies. Latest...</td>\n",
       "    </tr>\n",
       "    <tr>\n",
       "      <th>location</th>\n",
       "      <td>Boston</td>\n",
       "      <td>NaN</td>\n",
       "      <td>India</td>\n",
       "      <td>NaN</td>\n",
       "      <td>India</td>\n",
       "    </tr>\n",
       "    <tr>\n",
       "      <th>following</th>\n",
       "      <td>1320</td>\n",
       "      <td>503</td>\n",
       "      <td>245</td>\n",
       "      <td>387</td>\n",
       "      <td>155</td>\n",
       "    </tr>\n",
       "    <tr>\n",
       "      <th>followers</th>\n",
       "      <td>3652</td>\n",
       "      <td>135</td>\n",
       "      <td>5997687</td>\n",
       "      <td>637</td>\n",
       "      <td>8435301</td>\n",
       "    </tr>\n",
       "    <tr>\n",
       "      <th>totaltweets</th>\n",
       "      <td>34992</td>\n",
       "      <td>32873</td>\n",
       "      <td>999807</td>\n",
       "      <td>52190</td>\n",
       "      <td>1034587</td>\n",
       "    </tr>\n",
       "    <tr>\n",
       "      <th>usercreatedts</th>\n",
       "      <td>2010-02-07 05:18:07.000000</td>\n",
       "      <td>2017-08-30 08:52:33.000000</td>\n",
       "      <td>2009-02-02 07:21:54.000000</td>\n",
       "      <td>2014-05-29 23:16:56.000000</td>\n",
       "      <td>2009-04-29 10:11:34.000000</td>\n",
       "    </tr>\n",
       "    <tr>\n",
       "      <th>tweetid</th>\n",
       "      <td>1504608519861018628</td>\n",
       "      <td>1504608520213258242</td>\n",
       "      <td>1504608520766861322</td>\n",
       "      <td>1504608520880197634</td>\n",
       "      <td>1504608520892690457</td>\n",
       "    </tr>\n",
       "    <tr>\n",
       "      <th>tweetcreatedts</th>\n",
       "      <td>2022-03-18 00:00:00</td>\n",
       "      <td>2022-03-18 00:00:00</td>\n",
       "      <td>2022-03-18 00:00:00</td>\n",
       "      <td>2022-03-18 00:00:00</td>\n",
       "      <td>2022-03-18 00:00:00</td>\n",
       "    </tr>\n",
       "    <tr>\n",
       "      <th>retweetcount</th>\n",
       "      <td>0</td>\n",
       "      <td>63</td>\n",
       "      <td>1</td>\n",
       "      <td>12</td>\n",
       "      <td>1</td>\n",
       "    </tr>\n",
       "    <tr>\n",
       "      <th>text</th>\n",
       "      <td>Read this tweet and every single reply to it #...</td>\n",
       "      <td>ВСУ🇺🇦 уничтожили многоцелевой вертолет российс...</td>\n",
       "      <td>Russia-Ukraine war: Is Vladimir Putin a war cr...</td>\n",
       "      <td>The best battle is the one you don't have to f...</td>\n",
       "      <td>This BMW 6 Series is modified for machine gun ...</td>\n",
       "    </tr>\n",
       "    <tr>\n",
       "      <th>hashtags</th>\n",
       "      <td>[{'text': 'Ukraine', 'indices': [45, 53]}]</td>\n",
       "      <td>[{'text': 'Ukraine', 'indices': [93, 101]}, {'...</td>\n",
       "      <td>[{'text': 'NewsToday', 'indices': [76, 86]}, {...</td>\n",
       "      <td>[{'text': 'IStandWithUkraine', 'indices': [73,...</td>\n",
       "      <td>[{'text': 'Ukraine', 'indices': [99, 107]}, {'...</td>\n",
       "    </tr>\n",
       "    <tr>\n",
       "      <th>language</th>\n",
       "      <td>en</td>\n",
       "      <td>ru</td>\n",
       "      <td>en</td>\n",
       "      <td>en</td>\n",
       "      <td>en</td>\n",
       "    </tr>\n",
       "    <tr>\n",
       "      <th>coordinates</th>\n",
       "      <td>NaN</td>\n",
       "      <td>NaN</td>\n",
       "      <td>NaN</td>\n",
       "      <td>NaN</td>\n",
       "      <td>NaN</td>\n",
       "    </tr>\n",
       "    <tr>\n",
       "      <th>favorite_count</th>\n",
       "      <td>0</td>\n",
       "      <td>0</td>\n",
       "      <td>1</td>\n",
       "      <td>0</td>\n",
       "      <td>3</td>\n",
       "    </tr>\n",
       "    <tr>\n",
       "      <th>extractedts</th>\n",
       "      <td>2022-03-18 00:09:09.835940</td>\n",
       "      <td>2022-03-18 00:09:09.827692</td>\n",
       "      <td>2022-03-18 00:03:54.604634</td>\n",
       "      <td>2022-03-18 00:09:09.819479</td>\n",
       "      <td>2022-03-18 00:09:09.811223</td>\n",
       "    </tr>\n",
       "  </tbody>\n",
       "</table>\n",
       "</div>"
      ],
      "text/plain": [
       "                                                                0  \\\n",
       "userid                                                  112073654   \n",
       "username                                             johnguilfoil   \n",
       "acctdesc        Basically the dad from Bluey. Public Relations...   \n",
       "location                                                   Boston   \n",
       "following                                                    1320   \n",
       "followers                                                    3652   \n",
       "totaltweets                                                 34992   \n",
       "usercreatedts                          2010-02-07 05:18:07.000000   \n",
       "tweetid                                       1504608519861018628   \n",
       "tweetcreatedts                                2022-03-18 00:00:00   \n",
       "retweetcount                                                    0   \n",
       "text            Read this tweet and every single reply to it #...   \n",
       "hashtags               [{'text': 'Ukraine', 'indices': [45, 53]}]   \n",
       "language                                                       en   \n",
       "coordinates                                                   NaN   \n",
       "favorite_count                                                  0   \n",
       "extractedts                            2022-03-18 00:09:09.835940   \n",
       "\n",
       "                                                                1  \\\n",
       "userid                                         902816295023988736   \n",
       "username                                            YashaShveller   \n",
       "acctdesc                                                     qwer   \n",
       "location                                                      NaN   \n",
       "following                                                     503   \n",
       "followers                                                     135   \n",
       "totaltweets                                                 32873   \n",
       "usercreatedts                          2017-08-30 08:52:33.000000   \n",
       "tweetid                                       1504608520213258242   \n",
       "tweetcreatedts                                2022-03-18 00:00:00   \n",
       "retweetcount                                                   63   \n",
       "text            ВСУ🇺🇦 уничтожили многоцелевой вертолет российс...   \n",
       "hashtags        [{'text': 'Ukraine', 'indices': [93, 101]}, {'...   \n",
       "language                                                       ru   \n",
       "coordinates                                                   NaN   \n",
       "favorite_count                                                  0   \n",
       "extractedts                            2022-03-18 00:09:09.827692   \n",
       "\n",
       "                                                                2  \\\n",
       "userid                                                   19897138   \n",
       "username                                               IndiaToday   \n",
       "acctdesc        Brings you news breaks: Exclusive political, e...   \n",
       "location                                                    India   \n",
       "following                                                     245   \n",
       "followers                                                 5997687   \n",
       "totaltweets                                                999807   \n",
       "usercreatedts                          2009-02-02 07:21:54.000000   \n",
       "tweetid                                       1504608520766861322   \n",
       "tweetcreatedts                                2022-03-18 00:00:00   \n",
       "retweetcount                                                    1   \n",
       "text            Russia-Ukraine war: Is Vladimir Putin a war cr...   \n",
       "hashtags        [{'text': 'NewsToday', 'indices': [76, 86]}, {...   \n",
       "language                                                       en   \n",
       "coordinates                                                   NaN   \n",
       "favorite_count                                                  1   \n",
       "extractedts                            2022-03-18 00:03:54.604634   \n",
       "\n",
       "                                                                3  \\\n",
       "userid                                                 2533590570   \n",
       "username                                              joseph_less   \n",
       "acctdesc                                                      NaN   \n",
       "location                                                      NaN   \n",
       "following                                                     387   \n",
       "followers                                                     637   \n",
       "totaltweets                                                 52190   \n",
       "usercreatedts                          2014-05-29 23:16:56.000000   \n",
       "tweetid                                       1504608520880197634   \n",
       "tweetcreatedts                                2022-03-18 00:00:00   \n",
       "retweetcount                                                   12   \n",
       "text            The best battle is the one you don't have to f...   \n",
       "hashtags        [{'text': 'IStandWithUkraine', 'indices': [73,...   \n",
       "language                                                       en   \n",
       "coordinates                                                   NaN   \n",
       "favorite_count                                                  0   \n",
       "extractedts                            2022-03-18 00:09:09.819479   \n",
       "\n",
       "                                                                4  \n",
       "userid                                                   36327407  \n",
       "username                                                 htTweets  \n",
       "acctdesc        One of India's largest media companies. Latest...  \n",
       "location                                                    India  \n",
       "following                                                     155  \n",
       "followers                                                 8435301  \n",
       "totaltweets                                               1034587  \n",
       "usercreatedts                          2009-04-29 10:11:34.000000  \n",
       "tweetid                                       1504608520892690457  \n",
       "tweetcreatedts                                2022-03-18 00:00:00  \n",
       "retweetcount                                                    1  \n",
       "text            This BMW 6 Series is modified for machine gun ...  \n",
       "hashtags        [{'text': 'Ukraine', 'indices': [99, 107]}, {'...  \n",
       "language                                                       en  \n",
       "coordinates                                                   NaN  \n",
       "favorite_count                                                  3  \n",
       "extractedts                            2022-03-18 00:09:09.811223  "
      ]
     },
     "execution_count": 7,
     "metadata": {},
     "output_type": "execute_result"
    }
   ],
   "source": [
    "df2.head().T"
   ]
  },
  {
   "cell_type": "code",
   "execution_count": 8,
   "id": "c300b1ab",
   "metadata": {},
   "outputs": [
    {
     "data": {
      "text/html": [
       "<div>\n",
       "<style scoped>\n",
       "    .dataframe tbody tr th:only-of-type {\n",
       "        vertical-align: middle;\n",
       "    }\n",
       "\n",
       "    .dataframe tbody tr th {\n",
       "        vertical-align: top;\n",
       "    }\n",
       "\n",
       "    .dataframe thead th {\n",
       "        text-align: right;\n",
       "    }\n",
       "</style>\n",
       "<table border=\"1\" class=\"dataframe\">\n",
       "  <thead>\n",
       "    <tr style=\"text-align: right;\">\n",
       "      <th></th>\n",
       "      <th>0</th>\n",
       "      <th>1</th>\n",
       "      <th>2</th>\n",
       "      <th>3</th>\n",
       "      <th>4</th>\n",
       "    </tr>\n",
       "  </thead>\n",
       "  <tbody>\n",
       "    <tr>\n",
       "      <th>userid</th>\n",
       "      <td>310044382</td>\n",
       "      <td>1414872724292337667</td>\n",
       "      <td>19897138</td>\n",
       "      <td>3632161</td>\n",
       "      <td>25762392</td>\n",
       "    </tr>\n",
       "    <tr>\n",
       "      <th>username</th>\n",
       "      <td>Barrie360</td>\n",
       "      <td>silpantipolo</td>\n",
       "      <td>IndiaToday</td>\n",
       "      <td>omyword</td>\n",
       "      <td>aaaamhim</td>\n",
       "    </tr>\n",
       "    <tr>\n",
       "      <th>acctdesc</th>\n",
       "      <td>What Barrie's talking about. From local news t...</td>\n",
       "      <td>This is the official Twitter account of San Is...</td>\n",
       "      <td>Brings you news breaks: Exclusive political, e...</td>\n",
       "      <td>Collage Artist; Long ago writer at Wonkette be...</td>\n",
       "      <td>I'm Him. Liars never figure, figures don't lie...</td>\n",
       "    </tr>\n",
       "    <tr>\n",
       "      <th>location</th>\n",
       "      <td>Barrie, Ontario</td>\n",
       "      <td>Diocese of Antipolo</td>\n",
       "      <td>India</td>\n",
       "      <td>Bisbee, AZ</td>\n",
       "      <td>Boston</td>\n",
       "    </tr>\n",
       "    <tr>\n",
       "      <th>following</th>\n",
       "      <td>678</td>\n",
       "      <td>9</td>\n",
       "      <td>245</td>\n",
       "      <td>4966</td>\n",
       "      <td>19300</td>\n",
       "    </tr>\n",
       "    <tr>\n",
       "      <th>followers</th>\n",
       "      <td>16818</td>\n",
       "      <td>14</td>\n",
       "      <td>6008572</td>\n",
       "      <td>2659</td>\n",
       "      <td>19814</td>\n",
       "    </tr>\n",
       "    <tr>\n",
       "      <th>totaltweets</th>\n",
       "      <td>106996</td>\n",
       "      <td>398</td>\n",
       "      <td>1005019</td>\n",
       "      <td>267294</td>\n",
       "      <td>137729</td>\n",
       "    </tr>\n",
       "    <tr>\n",
       "      <th>usercreatedts</th>\n",
       "      <td>2011-06-03 03:17:10.000000</td>\n",
       "      <td>2021-07-13 09:03:02.000000</td>\n",
       "      <td>2009-02-02 07:21:54.000000</td>\n",
       "      <td>2007-04-06 16:04:09.000000</td>\n",
       "      <td>2009-03-22 01:46:51.000000</td>\n",
       "    </tr>\n",
       "    <tr>\n",
       "      <th>tweetid</th>\n",
       "      <td>1509319562654720000</td>\n",
       "      <td>1509319562658865155</td>\n",
       "      <td>1509319563095142401</td>\n",
       "      <td>1509319563237740544</td>\n",
       "      <td>1509319563749564421</td>\n",
       "    </tr>\n",
       "    <tr>\n",
       "      <th>tweetcreatedts</th>\n",
       "      <td>2022-03-31 00:00:00.000000</td>\n",
       "      <td>2022-03-31 00:00:00.000000</td>\n",
       "      <td>2022-03-31 00:00:00.000000</td>\n",
       "      <td>2022-03-31 00:00:00.000000</td>\n",
       "      <td>2022-03-31 00:00:00.000000</td>\n",
       "    </tr>\n",
       "    <tr>\n",
       "      <th>retweetcount</th>\n",
       "      <td>0</td>\n",
       "      <td>0</td>\n",
       "      <td>2</td>\n",
       "      <td>5</td>\n",
       "      <td>0</td>\n",
       "    </tr>\n",
       "    <tr>\n",
       "      <th>text</th>\n",
       "      <td>Humanitarian drive in Midhurst sends medicine,...</td>\n",
       "      <td>This morning, #LetUsPray for #RussiaUkraine th...</td>\n",
       "      <td>#RussiaUkraineWar | Horrors of nuclear war hau...</td>\n",
       "      <td>Moral support. #Ukraine https://t.co/wcysaBFdkE</td>\n",
       "      <td>#Russian citizens KNOW the genocide going on i...</td>\n",
       "    </tr>\n",
       "    <tr>\n",
       "      <th>hashtags</th>\n",
       "      <td>[{'text': 'Ukraine', 'indices': [63, 71]}]</td>\n",
       "      <td>[{'text': 'LetUsPray', 'indices': [14, 24]}, {...</td>\n",
       "      <td>[{'text': 'RussiaUkraineWar', 'indices': [0, 1...</td>\n",
       "      <td>[{'text': 'Ukraine', 'indices': [31, 39]}]</td>\n",
       "      <td>[{'text': 'Russian', 'indices': [0, 8]}, {'tex...</td>\n",
       "    </tr>\n",
       "    <tr>\n",
       "      <th>language</th>\n",
       "      <td>en</td>\n",
       "      <td>en</td>\n",
       "      <td>en</td>\n",
       "      <td>en</td>\n",
       "      <td>en</td>\n",
       "    </tr>\n",
       "    <tr>\n",
       "      <th>coordinates</th>\n",
       "      <td>NaN</td>\n",
       "      <td>NaN</td>\n",
       "      <td>NaN</td>\n",
       "      <td>NaN</td>\n",
       "      <td>NaN</td>\n",
       "    </tr>\n",
       "    <tr>\n",
       "      <th>favorite_count</th>\n",
       "      <td>0</td>\n",
       "      <td>0</td>\n",
       "      <td>2</td>\n",
       "      <td>0</td>\n",
       "      <td>2</td>\n",
       "    </tr>\n",
       "    <tr>\n",
       "      <th>extractedts</th>\n",
       "      <td>2022-03-31 00:09:25.807372</td>\n",
       "      <td>2022-03-31 01:12:01.286851</td>\n",
       "      <td>2022-03-31 01:12:01.269963</td>\n",
       "      <td>2022-03-31 00:09:25.799653</td>\n",
       "      <td>2022-03-31 00:28:54.824716</td>\n",
       "    </tr>\n",
       "  </tbody>\n",
       "</table>\n",
       "</div>"
      ],
      "text/plain": [
       "                                                                0  \\\n",
       "userid                                                  310044382   \n",
       "username                                                Barrie360   \n",
       "acctdesc        What Barrie's talking about. From local news t...   \n",
       "location                                          Barrie, Ontario   \n",
       "following                                                     678   \n",
       "followers                                                   16818   \n",
       "totaltweets                                                106996   \n",
       "usercreatedts                          2011-06-03 03:17:10.000000   \n",
       "tweetid                                       1509319562654720000   \n",
       "tweetcreatedts                         2022-03-31 00:00:00.000000   \n",
       "retweetcount                                                    0   \n",
       "text            Humanitarian drive in Midhurst sends medicine,...   \n",
       "hashtags               [{'text': 'Ukraine', 'indices': [63, 71]}]   \n",
       "language                                                       en   \n",
       "coordinates                                                   NaN   \n",
       "favorite_count                                                  0   \n",
       "extractedts                            2022-03-31 00:09:25.807372   \n",
       "\n",
       "                                                                1  \\\n",
       "userid                                        1414872724292337667   \n",
       "username                                             silpantipolo   \n",
       "acctdesc        This is the official Twitter account of San Is...   \n",
       "location                                      Diocese of Antipolo   \n",
       "following                                                       9   \n",
       "followers                                                      14   \n",
       "totaltweets                                                   398   \n",
       "usercreatedts                          2021-07-13 09:03:02.000000   \n",
       "tweetid                                       1509319562658865155   \n",
       "tweetcreatedts                         2022-03-31 00:00:00.000000   \n",
       "retweetcount                                                    0   \n",
       "text            This morning, #LetUsPray for #RussiaUkraine th...   \n",
       "hashtags        [{'text': 'LetUsPray', 'indices': [14, 24]}, {...   \n",
       "language                                                       en   \n",
       "coordinates                                                   NaN   \n",
       "favorite_count                                                  0   \n",
       "extractedts                            2022-03-31 01:12:01.286851   \n",
       "\n",
       "                                                                2  \\\n",
       "userid                                                   19897138   \n",
       "username                                               IndiaToday   \n",
       "acctdesc        Brings you news breaks: Exclusive political, e...   \n",
       "location                                                    India   \n",
       "following                                                     245   \n",
       "followers                                                 6008572   \n",
       "totaltweets                                               1005019   \n",
       "usercreatedts                          2009-02-02 07:21:54.000000   \n",
       "tweetid                                       1509319563095142401   \n",
       "tweetcreatedts                         2022-03-31 00:00:00.000000   \n",
       "retweetcount                                                    2   \n",
       "text            #RussiaUkraineWar | Horrors of nuclear war hau...   \n",
       "hashtags        [{'text': 'RussiaUkraineWar', 'indices': [0, 1...   \n",
       "language                                                       en   \n",
       "coordinates                                                   NaN   \n",
       "favorite_count                                                  2   \n",
       "extractedts                            2022-03-31 01:12:01.269963   \n",
       "\n",
       "                                                                3  \\\n",
       "userid                                                    3632161   \n",
       "username                                                  omyword   \n",
       "acctdesc        Collage Artist; Long ago writer at Wonkette be...   \n",
       "location                                               Bisbee, AZ   \n",
       "following                                                    4966   \n",
       "followers                                                    2659   \n",
       "totaltweets                                                267294   \n",
       "usercreatedts                          2007-04-06 16:04:09.000000   \n",
       "tweetid                                       1509319563237740544   \n",
       "tweetcreatedts                         2022-03-31 00:00:00.000000   \n",
       "retweetcount                                                    5   \n",
       "text              Moral support. #Ukraine https://t.co/wcysaBFdkE   \n",
       "hashtags               [{'text': 'Ukraine', 'indices': [31, 39]}]   \n",
       "language                                                       en   \n",
       "coordinates                                                   NaN   \n",
       "favorite_count                                                  0   \n",
       "extractedts                            2022-03-31 00:09:25.799653   \n",
       "\n",
       "                                                                4  \n",
       "userid                                                   25762392  \n",
       "username                                                 aaaamhim  \n",
       "acctdesc        I'm Him. Liars never figure, figures don't lie...  \n",
       "location                                                   Boston  \n",
       "following                                                   19300  \n",
       "followers                                                   19814  \n",
       "totaltweets                                                137729  \n",
       "usercreatedts                          2009-03-22 01:46:51.000000  \n",
       "tweetid                                       1509319563749564421  \n",
       "tweetcreatedts                         2022-03-31 00:00:00.000000  \n",
       "retweetcount                                                    0  \n",
       "text            #Russian citizens KNOW the genocide going on i...  \n",
       "hashtags        [{'text': 'Russian', 'indices': [0, 8]}, {'tex...  \n",
       "language                                                       en  \n",
       "coordinates                                                   NaN  \n",
       "favorite_count                                                  2  \n",
       "extractedts                            2022-03-31 00:28:54.824716  "
      ]
     },
     "execution_count": 8,
     "metadata": {},
     "output_type": "execute_result"
    }
   ],
   "source": [
    "df3.head().T"
   ]
  },
  {
   "cell_type": "code",
   "execution_count": 9,
   "id": "7d21672f",
   "metadata": {},
   "outputs": [
    {
     "data": {
      "text/plain": [
       "(460075, 17)"
      ]
     },
     "execution_count": 9,
     "metadata": {},
     "output_type": "execute_result"
    }
   ],
   "source": [
    "# looking  at the shape\n",
    "\n",
    "df1.shape"
   ]
  },
  {
   "cell_type": "code",
   "execution_count": 10,
   "id": "762dcd8d",
   "metadata": {},
   "outputs": [
    {
     "data": {
      "text/plain": [
       "(468098, 17)"
      ]
     },
     "execution_count": 10,
     "metadata": {},
     "output_type": "execute_result"
    }
   ],
   "source": [
    "df2.shape"
   ]
  },
  {
   "cell_type": "code",
   "execution_count": 11,
   "id": "a84a2969",
   "metadata": {},
   "outputs": [
    {
     "data": {
      "text/plain": [
       "(344515, 17)"
      ]
     },
     "execution_count": 11,
     "metadata": {},
     "output_type": "execute_result"
    }
   ],
   "source": [
    "df3.shape"
   ]
  },
  {
   "cell_type": "code",
   "execution_count": 12,
   "id": "50506c33",
   "metadata": {},
   "outputs": [],
   "source": [
    "# join data sets\n",
    "\n",
    "df = pd.concat([df1,df2,df3], axis=0)"
   ]
  },
  {
   "cell_type": "code",
   "execution_count": 13,
   "id": "ebd158af",
   "metadata": {},
   "outputs": [
    {
     "data": {
      "text/plain": [
       "(1272688, 17)"
      ]
     },
     "execution_count": 13,
     "metadata": {},
     "output_type": "execute_result"
    }
   ],
   "source": [
    "df.shape"
   ]
  },
  {
   "cell_type": "code",
   "execution_count": 14,
   "id": "587799c7",
   "metadata": {
    "scrolled": false
   },
   "outputs": [
    {
     "data": {
      "text/html": [
       "<div>\n",
       "<style scoped>\n",
       "    .dataframe tbody tr th:only-of-type {\n",
       "        vertical-align: middle;\n",
       "    }\n",
       "\n",
       "    .dataframe tbody tr th {\n",
       "        vertical-align: top;\n",
       "    }\n",
       "\n",
       "    .dataframe thead th {\n",
       "        text-align: right;\n",
       "    }\n",
       "</style>\n",
       "<table border=\"1\" class=\"dataframe\">\n",
       "  <thead>\n",
       "    <tr style=\"text-align: right;\">\n",
       "      <th></th>\n",
       "      <th>4557550</th>\n",
       "      <th>4557551</th>\n",
       "      <th>4557552</th>\n",
       "      <th>4557553</th>\n",
       "      <th>4557554</th>\n",
       "    </tr>\n",
       "  </thead>\n",
       "  <tbody>\n",
       "    <tr>\n",
       "      <th>userid</th>\n",
       "      <td>382303683</td>\n",
       "      <td>1433449200470032385</td>\n",
       "      <td>3689308343</td>\n",
       "      <td>567289542</td>\n",
       "      <td>1276373615466799104</td>\n",
       "    </tr>\n",
       "    <tr>\n",
       "      <th>username</th>\n",
       "      <td>loco_utes_fan</td>\n",
       "      <td>Macy33018689</td>\n",
       "      <td>Jackied15846926</td>\n",
       "      <td>Saudi_Gazette</td>\n",
       "      <td>BalanceKingdom</td>\n",
       "    </tr>\n",
       "    <tr>\n",
       "      <th>acctdesc</th>\n",
       "      <td>GO UTES!!!!!!!! BYU SUCKS!!!!!!!!!</td>\n",
       "      <td>NaN</td>\n",
       "      <td>NaN</td>\n",
       "      <td>Saudi Gazette is a leading English language da...</td>\n",
       "      <td>| #Trans (she/her) | #queer | #plural | POC 🇧🇩...</td>\n",
       "    </tr>\n",
       "    <tr>\n",
       "      <th>location</th>\n",
       "      <td>Salt Lake City, UT</td>\n",
       "      <td>NaN</td>\n",
       "      <td>NaN</td>\n",
       "      <td>Saudi Arabia</td>\n",
       "      <td>kingdombalance.carrd.co</td>\n",
       "    </tr>\n",
       "    <tr>\n",
       "      <th>following</th>\n",
       "      <td>143</td>\n",
       "      <td>1</td>\n",
       "      <td>2597</td>\n",
       "      <td>2</td>\n",
       "      <td>389</td>\n",
       "    </tr>\n",
       "    <tr>\n",
       "      <th>followers</th>\n",
       "      <td>78</td>\n",
       "      <td>2</td>\n",
       "      <td>2293</td>\n",
       "      <td>384387</td>\n",
       "      <td>318</td>\n",
       "    </tr>\n",
       "    <tr>\n",
       "      <th>totaltweets</th>\n",
       "      <td>10905</td>\n",
       "      <td>299</td>\n",
       "      <td>227685</td>\n",
       "      <td>126440</td>\n",
       "      <td>2960</td>\n",
       "    </tr>\n",
       "    <tr>\n",
       "      <th>usercreatedts</th>\n",
       "      <td>2011-09-29 20:51:22.000000</td>\n",
       "      <td>2021-09-02 15:18:49.000000</td>\n",
       "      <td>2015-09-17 20:38:22.000000</td>\n",
       "      <td>2012-04-30 13:01:28.000000</td>\n",
       "      <td>2020-06-26 04:36:15.000000</td>\n",
       "    </tr>\n",
       "    <tr>\n",
       "      <th>tweetid</th>\n",
       "      <td>1501709416948633601</td>\n",
       "      <td>1501709417279934464</td>\n",
       "      <td>1501709417376583682</td>\n",
       "      <td>1501709417527406594</td>\n",
       "      <td>1501709417594736646</td>\n",
       "    </tr>\n",
       "    <tr>\n",
       "      <th>tweetcreatedts</th>\n",
       "      <td>2022-03-10 00:00:00</td>\n",
       "      <td>2022-03-10 00:00:00</td>\n",
       "      <td>2022-03-10 00:00:00</td>\n",
       "      <td>2022-03-10 00:00:00</td>\n",
       "      <td>2022-03-10 00:00:00</td>\n",
       "    </tr>\n",
       "    <tr>\n",
       "      <th>retweetcount</th>\n",
       "      <td>6572</td>\n",
       "      <td>25</td>\n",
       "      <td>1</td>\n",
       "      <td>0</td>\n",
       "      <td>1</td>\n",
       "    </tr>\n",
       "    <tr>\n",
       "      <th>text</th>\n",
       "      <td>This #Russia-dropped bomb would flatten a buil...</td>\n",
       "      <td>#Zelensky:\\n\\nThere was little Bandera there? ...</td>\n",
       "      <td>@SecBlinken If the horrific attacks on #Ukrain...</td>\n",
       "      <td>Thousands of residents from the northeastern #...</td>\n",
       "      <td>In 2 hours, we are #streaming 3 #indiegames fr...</td>\n",
       "    </tr>\n",
       "    <tr>\n",
       "      <th>hashtags</th>\n",
       "      <td>[{'text': 'Russia', 'indices': [25, 32]}, {'te...</td>\n",
       "      <td>[{'text': 'Zelensky', 'indices': [19, 28]}]</td>\n",
       "      <td>[{'text': 'Ukraine', 'indices': [58, 66]}, {'t...</td>\n",
       "      <td>[{'text': 'Ukrainian', 'indices': [45, 55]}, {...</td>\n",
       "      <td>[{'text': 'streaming', 'indices': [19, 29]}, {...</td>\n",
       "    </tr>\n",
       "    <tr>\n",
       "      <th>language</th>\n",
       "      <td>en</td>\n",
       "      <td>en</td>\n",
       "      <td>en</td>\n",
       "      <td>en</td>\n",
       "      <td>en</td>\n",
       "    </tr>\n",
       "    <tr>\n",
       "      <th>coordinates</th>\n",
       "      <td>NaN</td>\n",
       "      <td>NaN</td>\n",
       "      <td>NaN</td>\n",
       "      <td>NaN</td>\n",
       "      <td>NaN</td>\n",
       "    </tr>\n",
       "    <tr>\n",
       "      <th>favorite_count</th>\n",
       "      <td>0</td>\n",
       "      <td>0</td>\n",
       "      <td>0</td>\n",
       "      <td>0</td>\n",
       "      <td>0</td>\n",
       "    </tr>\n",
       "    <tr>\n",
       "      <th>extractedts</th>\n",
       "      <td>2022-03-10 00:04:46.379963</td>\n",
       "      <td>2022-03-10 00:04:46.372061</td>\n",
       "      <td>2022-03-10 00:04:46.364330</td>\n",
       "      <td>2022-03-10 00:02:16.696326</td>\n",
       "      <td>2022-03-10 00:04:46.356658</td>\n",
       "    </tr>\n",
       "  </tbody>\n",
       "</table>\n",
       "</div>"
      ],
      "text/plain": [
       "                                                          4557550  \\\n",
       "userid                                                  382303683   \n",
       "username                                            loco_utes_fan   \n",
       "acctdesc                       GO UTES!!!!!!!! BYU SUCKS!!!!!!!!!   \n",
       "location                                       Salt Lake City, UT   \n",
       "following                                                     143   \n",
       "followers                                                      78   \n",
       "totaltweets                                                 10905   \n",
       "usercreatedts                          2011-09-29 20:51:22.000000   \n",
       "tweetid                                       1501709416948633601   \n",
       "tweetcreatedts                                2022-03-10 00:00:00   \n",
       "retweetcount                                                 6572   \n",
       "text            This #Russia-dropped bomb would flatten a buil...   \n",
       "hashtags        [{'text': 'Russia', 'indices': [25, 32]}, {'te...   \n",
       "language                                                       en   \n",
       "coordinates                                                   NaN   \n",
       "favorite_count                                                  0   \n",
       "extractedts                            2022-03-10 00:04:46.379963   \n",
       "\n",
       "                                                          4557551  \\\n",
       "userid                                        1433449200470032385   \n",
       "username                                             Macy33018689   \n",
       "acctdesc                                                      NaN   \n",
       "location                                                      NaN   \n",
       "following                                                       1   \n",
       "followers                                                       2   \n",
       "totaltweets                                                   299   \n",
       "usercreatedts                          2021-09-02 15:18:49.000000   \n",
       "tweetid                                       1501709417279934464   \n",
       "tweetcreatedts                                2022-03-10 00:00:00   \n",
       "retweetcount                                                   25   \n",
       "text            #Zelensky:\\n\\nThere was little Bandera there? ...   \n",
       "hashtags              [{'text': 'Zelensky', 'indices': [19, 28]}]   \n",
       "language                                                       en   \n",
       "coordinates                                                   NaN   \n",
       "favorite_count                                                  0   \n",
       "extractedts                            2022-03-10 00:04:46.372061   \n",
       "\n",
       "                                                          4557552  \\\n",
       "userid                                                 3689308343   \n",
       "username                                          Jackied15846926   \n",
       "acctdesc                                                      NaN   \n",
       "location                                                      NaN   \n",
       "following                                                    2597   \n",
       "followers                                                    2293   \n",
       "totaltweets                                                227685   \n",
       "usercreatedts                          2015-09-17 20:38:22.000000   \n",
       "tweetid                                       1501709417376583682   \n",
       "tweetcreatedts                                2022-03-10 00:00:00   \n",
       "retweetcount                                                    1   \n",
       "text            @SecBlinken If the horrific attacks on #Ukrain...   \n",
       "hashtags        [{'text': 'Ukraine', 'indices': [58, 66]}, {'t...   \n",
       "language                                                       en   \n",
       "coordinates                                                   NaN   \n",
       "favorite_count                                                  0   \n",
       "extractedts                            2022-03-10 00:04:46.364330   \n",
       "\n",
       "                                                          4557553  \\\n",
       "userid                                                  567289542   \n",
       "username                                            Saudi_Gazette   \n",
       "acctdesc        Saudi Gazette is a leading English language da...   \n",
       "location                                             Saudi Arabia   \n",
       "following                                                       2   \n",
       "followers                                                  384387   \n",
       "totaltweets                                                126440   \n",
       "usercreatedts                          2012-04-30 13:01:28.000000   \n",
       "tweetid                                       1501709417527406594   \n",
       "tweetcreatedts                                2022-03-10 00:00:00   \n",
       "retweetcount                                                    0   \n",
       "text            Thousands of residents from the northeastern #...   \n",
       "hashtags        [{'text': 'Ukrainian', 'indices': [45, 55]}, {...   \n",
       "language                                                       en   \n",
       "coordinates                                                   NaN   \n",
       "favorite_count                                                  0   \n",
       "extractedts                            2022-03-10 00:02:16.696326   \n",
       "\n",
       "                                                          4557554  \n",
       "userid                                        1276373615466799104  \n",
       "username                                           BalanceKingdom  \n",
       "acctdesc        | #Trans (she/her) | #queer | #plural | POC 🇧🇩...  \n",
       "location                                  kingdombalance.carrd.co  \n",
       "following                                                     389  \n",
       "followers                                                     318  \n",
       "totaltweets                                                  2960  \n",
       "usercreatedts                          2020-06-26 04:36:15.000000  \n",
       "tweetid                                       1501709417594736646  \n",
       "tweetcreatedts                                2022-03-10 00:00:00  \n",
       "retweetcount                                                    1  \n",
       "text            In 2 hours, we are #streaming 3 #indiegames fr...  \n",
       "hashtags        [{'text': 'streaming', 'indices': [19, 29]}, {...  \n",
       "language                                                       en  \n",
       "coordinates                                                   NaN  \n",
       "favorite_count                                                  0  \n",
       "extractedts                            2022-03-10 00:04:46.356658  "
      ]
     },
     "execution_count": 14,
     "metadata": {},
     "output_type": "execute_result"
    }
   ],
   "source": [
    "df.head().T"
   ]
  },
  {
   "cell_type": "code",
   "execution_count": 15,
   "id": "53d96778",
   "metadata": {},
   "outputs": [
    {
     "data": {
      "text/plain": [
       "language\n",
       "en     521901\n",
       "de      37612\n",
       "fr      34040\n",
       "und     31143\n",
       "it      30827\n",
       "Name: location, dtype: int64"
      ]
     },
     "execution_count": 15,
     "metadata": {},
     "output_type": "execute_result"
    }
   ],
   "source": [
    "# checking the language count\n",
    "\n",
    "df.groupby('language')['location'].count().sort_values(ascending=False).head()"
   ]
  },
  {
   "cell_type": "code",
   "execution_count": 16,
   "id": "4dea2385",
   "metadata": {},
   "outputs": [
    {
     "data": {
      "text/plain": [
       "location\n",
       "United States      10075\n",
       "Ukraine             8044\n",
       "London, England     4934\n",
       "France              4878\n",
       "USA                 4694\n",
       "Name: language, dtype: int64"
      ]
     },
     "execution_count": 16,
     "metadata": {},
     "output_type": "execute_result"
    }
   ],
   "source": [
    "# checking the location count\n",
    "\n",
    "df.groupby('location')['language'].count().sort_values(ascending=False).head()"
   ]
  },
  {
   "cell_type": "code",
   "execution_count": 17,
   "id": "4fffdb78",
   "metadata": {},
   "outputs": [],
   "source": [
    "import matplotlib.pyplot as plt\n",
    "import seaborn as sns"
   ]
  },
  {
   "cell_type": "code",
   "execution_count": 18,
   "id": "644ca32b",
   "metadata": {
    "scrolled": false
   },
   "outputs": [
    {
     "data": {
      "image/png": "[encoded data removed]",
      "text/plain": [
       "<Figure size 1080x432 with 1 Axes>"
      ]
     },
     "metadata": {
      "needs_background": "light"
     },
     "output_type": "display_data"
    }
   ],
   "source": [
    "df.language.value_counts()[:30].plot(kind='bar', color='g', figsize=(15, 6))\n",
    "plt.xticks(rotation = 90)\n",
    "plt.title('Languages')\n",
    "plt.ylabel('Count')\n",
    "plt.xlabel('language')\n",
    "plt.yticks(np.arange(0, 900000, 50000))\n",
    "plt.show()\n"
   ]
  },
  {
   "cell_type": "code",
   "execution_count": 19,
   "id": "aaa820c0",
   "metadata": {},
   "outputs": [],
   "source": [
    "# cleaning locations a little bit\n",
    "\n",
    "df = df.replace('Location Unknown', np.nan)\n",
    "df = df.replace('Earth', np.nan)\n",
    "df = df.replace('Planet Earth', np.nan)\n",
    "df = df.replace('Here, right now', np.nan)\n",
    "df = df.replace('Europe',np.nan)\n",
    "df = df.replace('World', np.nan)\n",
    "df = df.replace('ประเทศไทย','Thailand')\n",
    "df = df.replace('جمهوری اسلامی ایران','Iran')\n",
    "df = df.replace('日本','Japan')\n",
    "df = df.replace('دبي, الامارات العربية المتحدة','Dubai')"
   ]
  },
  {
   "cell_type": "code",
   "execution_count": 20,
   "id": "9437904b",
   "metadata": {},
   "outputs": [],
   "source": [
    "df = df.replace('Global', np.nan)"
   ]
  },
  {
   "cell_type": "code",
   "execution_count": 21,
   "id": "1df79637",
   "metadata": {},
   "outputs": [],
   "source": [
    "df = df.replace('Україна','Ukraine')\n",
    "df = df.replace('Kyiv','Ukraine')\n",
    "df = df.replace('Украина','Ukraine')\n",
    "df = df.replace('Kyiv, Ukraine','Ukraine')"
   ]
  },
  {
   "cell_type": "code",
   "execution_count": 22,
   "id": "b2434099",
   "metadata": {},
   "outputs": [],
   "source": [
    "df = df.replace('London, England','United Kingdom')\n",
    "df = df.replace('UK','United Kingdom')\n",
    "df = df.replace('England, United Kingdom','United Kingdom')\n",
    "df = df.replace('London','United Kingdom')"
   ]
  },
  {
   "cell_type": "code",
   "execution_count": 23,
   "id": "2be70d00",
   "metadata": {},
   "outputs": [],
   "source": [
    "df = df.replace('New York, USA','United States')\n",
    "df = df.replace('Texas, USA','United States')\n",
    "df = df.replace('Washington, DC','United States')\n",
    "df = df.replace('USA','United States')\n",
    "df = df.replace('California, USA','United States')\n",
    "df = df.replace('Los Angeles, CA','United States')\n",
    "df = df.replace('Florida, USA','United States')\n",
    "df = df.replace('Chicago, IL','United States')\n",
    "df = df.replace('New York, NY','United States')"
   ]
  },
  {
   "cell_type": "code",
   "execution_count": 24,
   "id": "5ddad2bb",
   "metadata": {},
   "outputs": [],
   "source": [
    "df = df.replace('New Delhi, India','India')\n",
    "df = df.replace('Toronto, Ontario','Canada')\n",
    "df = df.replace('Toronto','Canada')\n",
    "df = df.replace('Paris, France','France')"
   ]
  },
  {
   "cell_type": "code",
   "execution_count": 25,
   "id": "09ac0520",
   "metadata": {},
   "outputs": [
    {
     "data": {
      "image/png": "[encoded data removed]",
      "text/plain": [
       "<Figure size 1080x504 with 1 Axes>"
      ]
     },
     "metadata": {
      "needs_background": "light"
     },
     "output_type": "display_data"
    }
   ],
   "source": [
    "df.location.value_counts()[:30].plot(kind='bar', color='b', figsize=(15, 7))\n",
    "plt.xticks(rotation = 90)\n",
    "plt.title('Locations')\n",
    "plt.ylabel('Count')\n",
    "plt.xlabel('Location')\n",
    "plt.yticks(np.arange(0, 34000, 1000))\n",
    "plt.show()"
   ]
  },
  {
   "cell_type": "code",
   "execution_count": 26,
   "id": "823e72a2",
   "metadata": {},
   "outputs": [],
   "source": [
    "# select only the US languige\n",
    "\n",
    "df_us = df[df[\"language\"] == \"en\"]"
   ]
  },
  {
   "cell_type": "markdown",
   "id": "d1bb7470",
   "metadata": {},
   "source": [
    "# **Let's plot English language by location**"
   ]
  },
  {
   "cell_type": "code",
   "execution_count": 27,
   "id": "1eaff000",
   "metadata": {},
   "outputs": [],
   "source": [
    "en_loc = df_us.location.value_counts().nlargest(10)"
   ]
  },
  {
   "cell_type": "code",
   "execution_count": 28,
   "id": "f3ca1bb1",
   "metadata": {},
   "outputs": [
    {
     "data": {
      "text/plain": [
       "United States     29667\n",
       "United Kingdom    17563\n",
       "Ukraine           13228\n",
       "Canada             6392\n",
       "India              4359\n",
       "France             2468\n",
       "Australia          2284\n",
       "Germany            1503\n",
       "Polska             1198\n",
       "Deutschland        1121\n",
       "Name: location, dtype: int64"
      ]
     },
     "execution_count": 28,
     "metadata": {},
     "output_type": "execute_result"
    }
   ],
   "source": [
    "en_loc"
   ]
  },
  {
   "cell_type": "code",
   "execution_count": 29,
   "id": "13d6b49e",
   "metadata": {},
   "outputs": [
    {
     "data": {
      "text/plain": [
       "Index(['United States', 'United Kingdom', 'Ukraine', 'Canada', 'India',\n",
       "       'France', 'Australia', 'Germany', 'Polska', 'Deutschland'],\n",
       "      dtype='object')"
      ]
     },
     "execution_count": 29,
     "metadata": {},
     "output_type": "execute_result"
    }
   ],
   "source": [
    "en_loc.keys()"
   ]
  },
  {
   "cell_type": "code",
   "execution_count": 30,
   "id": "edd6deed",
   "metadata": {},
   "outputs": [
    {
     "data": {
      "text/plain": [
       "<AxesSubplot:title={'center':'Location by language'}, xlabel='Locations', ylabel='Count Of Languige'>"
      ]
     },
     "execution_count": 30,
     "metadata": {},
     "output_type": "execute_result"
    },
    {
     "data": {
      "image/png": "[encoded data removed]",
      "text/plain": [
       "<Figure size 864x432 with 1 Axes>"
      ]
     },
     "metadata": {
      "needs_background": "light"
     },
     "output_type": "display_data"
    }
   ],
   "source": [
    "c = ['green', 'red','purple' , 'brown', 'black', 'blue', 'orange', 'maroon', 'pink', 'aqua']\n",
    "\n",
    "en_loc.plot(kind='bar', title='Location by language', xlabel='Locations', ylabel='Count Of Languige', align='center', color = c, figsize=(12, 6))"
   ]
  },
  {
   "cell_type": "markdown",
   "id": "871f076a",
   "metadata": {},
   "source": [
    "# Clean data and celect only the rows that we need for the sentiment analysis"
   ]
  },
  {
   "cell_type": "code",
   "execution_count": 31,
   "id": "9b1c4dea",
   "metadata": {},
   "outputs": [],
   "source": [
    "# getting only the fields that I need\n",
    "\n",
    "columns = ['location', 'language', 'text']\n",
    "df_cut = df[columns]"
   ]
  },
  {
   "cell_type": "code",
   "execution_count": 32,
   "id": "0b313122",
   "metadata": {},
   "outputs": [
    {
     "data": {
      "text/plain": [
       "(1272688, 3)"
      ]
     },
     "execution_count": 32,
     "metadata": {},
     "output_type": "execute_result"
    }
   ],
   "source": [
    "df_cut.shape"
   ]
  },
  {
   "cell_type": "code",
   "execution_count": 33,
   "id": "3977dcc3",
   "metadata": {
    "scrolled": true
   },
   "outputs": [
    {
     "data": {
      "text/html": [
       "<div>\n",
       "<style scoped>\n",
       "    .dataframe tbody tr th:only-of-type {\n",
       "        vertical-align: middle;\n",
       "    }\n",
       "\n",
       "    .dataframe tbody tr th {\n",
       "        vertical-align: top;\n",
       "    }\n",
       "\n",
       "    .dataframe thead th {\n",
       "        text-align: right;\n",
       "    }\n",
       "</style>\n",
       "<table border=\"1\" class=\"dataframe\">\n",
       "  <thead>\n",
       "    <tr style=\"text-align: right;\">\n",
       "      <th></th>\n",
       "      <th>location</th>\n",
       "      <th>language</th>\n",
       "      <th>text</th>\n",
       "    </tr>\n",
       "  </thead>\n",
       "  <tbody>\n",
       "    <tr>\n",
       "      <th>4557550</th>\n",
       "      <td>Salt Lake City, UT</td>\n",
       "      <td>en</td>\n",
       "      <td>This #Russia-dropped bomb would flatten a buil...</td>\n",
       "    </tr>\n",
       "    <tr>\n",
       "      <th>4557551</th>\n",
       "      <td>NaN</td>\n",
       "      <td>en</td>\n",
       "      <td>#Zelensky:\\n\\nThere was little Bandera there? ...</td>\n",
       "    </tr>\n",
       "    <tr>\n",
       "      <th>4557552</th>\n",
       "      <td>NaN</td>\n",
       "      <td>en</td>\n",
       "      <td>@SecBlinken If the horrific attacks on #Ukrain...</td>\n",
       "    </tr>\n",
       "    <tr>\n",
       "      <th>4557553</th>\n",
       "      <td>Saudi Arabia</td>\n",
       "      <td>en</td>\n",
       "      <td>Thousands of residents from the northeastern #...</td>\n",
       "    </tr>\n",
       "    <tr>\n",
       "      <th>4557554</th>\n",
       "      <td>kingdombalance.carrd.co</td>\n",
       "      <td>en</td>\n",
       "      <td>In 2 hours, we are #streaming 3 #indiegames fr...</td>\n",
       "    </tr>\n",
       "  </tbody>\n",
       "</table>\n",
       "</div>"
      ],
      "text/plain": [
       "                        location language  \\\n",
       "4557550       Salt Lake City, UT       en   \n",
       "4557551                      NaN       en   \n",
       "4557552                      NaN       en   \n",
       "4557553             Saudi Arabia       en   \n",
       "4557554  kingdombalance.carrd.co       en   \n",
       "\n",
       "                                                      text  \n",
       "4557550  This #Russia-dropped bomb would flatten a buil...  \n",
       "4557551  #Zelensky:\\n\\nThere was little Bandera there? ...  \n",
       "4557552  @SecBlinken If the horrific attacks on #Ukrain...  \n",
       "4557553  Thousands of residents from the northeastern #...  \n",
       "4557554  In 2 hours, we are #streaming 3 #indiegames fr...  "
      ]
     },
     "execution_count": 33,
     "metadata": {},
     "output_type": "execute_result"
    }
   ],
   "source": [
    "df_cut.head()"
   ]
  },
  {
   "cell_type": "code",
   "execution_count": 34,
   "id": "2e62cbbe",
   "metadata": {},
   "outputs": [
    {
     "data": {
      "text/plain": [
       "location    534582\n",
       "language         0\n",
       "text             0\n",
       "dtype: int64"
      ]
     },
     "execution_count": 34,
     "metadata": {},
     "output_type": "execute_result"
    }
   ],
   "source": [
    "df_cut.isnull().sum()"
   ]
  },
  {
   "cell_type": "code",
   "execution_count": 35,
   "id": "2a1f926b",
   "metadata": {},
   "outputs": [
    {
     "name": "stderr",
     "output_type": "stream",
     "text": [
      "C:\\Users\\vikag\\anaconda3\\lib\\site-packages\\pandas\\core\\generic.py:6392: SettingWithCopyWarning: \n",
      "A value is trying to be set on a copy of a slice from a DataFrame\n",
      "\n",
      "See the caveats in the documentation: https://pandas.pydata.org/pandas-docs/stable/user_guide/indexing.html#returning-a-view-versus-a-copy\n",
      "  return self._update_inplace(result)\n"
     ]
    }
   ],
   "source": [
    "# filling missing location with \"Location Unknown\"\n",
    "\n",
    "df_cut[\"location\"].fillna(\"Location Unknown\", inplace = True)\n"
   ]
  },
  {
   "cell_type": "code",
   "execution_count": 36,
   "id": "331829fc",
   "metadata": {},
   "outputs": [
    {
     "data": {
      "text/plain": [
       "location    0\n",
       "language    0\n",
       "text        0\n",
       "dtype: int64"
      ]
     },
     "execution_count": 36,
     "metadata": {},
     "output_type": "execute_result"
    }
   ],
   "source": [
    "df_cut.isnull().sum()"
   ]
  },
  {
   "cell_type": "markdown",
   "id": "94975973",
   "metadata": {},
   "source": [
    "# Cleaning text from: URLs, emojis, flags (iOS), transport, map symbols, pictographs, text symbols.\n",
    "# Using Regular Expressions."
   ]
  },
  {
   "cell_type": "code",
   "execution_count": 37,
   "id": "a32944ba",
   "metadata": {},
   "outputs": [],
   "source": [
    "# inporting regular expression to clean text\n",
    "\n",
    "import re"
   ]
  },
  {
   "cell_type": "code",
   "execution_count": 38,
   "id": "32343743",
   "metadata": {},
   "outputs": [
    {
     "name": "stderr",
     "output_type": "stream",
     "text": [
      "C:\\Users\\vikag\\AppData\\Local\\Temp/ipykernel_4688/1085953040.py:6: SettingWithCopyWarning: \n",
      "A value is trying to be set on a copy of a slice from a DataFrame.\n",
      "Try using .loc[row_indexer,col_indexer] = value instead\n",
      "\n",
      "See the caveats in the documentation: https://pandas.pydata.org/pandas-docs/stable/user_guide/indexing.html#returning-a-view-versus-a-copy\n",
      "  df_cut['text'] = df_cut['text'].apply(remove_urls)\n"
     ]
    }
   ],
   "source": [
    "# removing URLs\n",
    "\n",
    "def remove_urls(text):\n",
    "    cleaned_string = re.sub(r'(https|http)?:\\/\\/(\\w|\\.|\\/|\\?|\\=|\\&|\\%)*\\b', '', str(text), flags=re.MULTILINE)\n",
    "    return cleaned_string\n",
    "df_cut['text'] = df_cut['text'].apply(remove_urls)"
   ]
  },
  {
   "cell_type": "code",
   "execution_count": 39,
   "id": "ac949402",
   "metadata": {},
   "outputs": [
    {
     "name": "stderr",
     "output_type": "stream",
     "text": [
      "C:\\Users\\vikag\\AppData\\Local\\Temp/ipykernel_4688/1332978048.py:11: SettingWithCopyWarning: \n",
      "A value is trying to be set on a copy of a slice from a DataFrame.\n",
      "Try using .loc[row_indexer,col_indexer] = value instead\n",
      "\n",
      "See the caveats in the documentation: https://pandas.pydata.org/pandas-docs/stable/user_guide/indexing.html#returning-a-view-versus-a-copy\n",
      "  df_cut['text'] = df_cut['text'].apply(ermove_emojis)\n"
     ]
    }
   ],
   "source": [
    "# removing emojis, flags (iOS), transport, map symbols, pictographs\n",
    "    \n",
    "def ermove_emojis(text):\n",
    "    regrex_pattern = re.compile(pattern = \"[\"\n",
    "        u\"\\U0001F600-\\U0001F64F\"\n",
    "        u\"\\U0001F300-\\U0001F5FF\"\n",
    "        u\"\\U0001F680-\\U0001F6FF\"\n",
    "        u\"\\U0001F1E0-\\U0001F1FF\"\n",
    "                           \"]+\", flags = re.UNICODE)\n",
    "    return regrex_pattern.sub(r'', text)\n",
    "df_cut['text'] = df_cut['text'].apply(ermove_emojis)"
   ]
  },
  {
   "cell_type": "code",
   "execution_count": 40,
   "id": "780efb9c",
   "metadata": {},
   "outputs": [
    {
     "name": "stderr",
     "output_type": "stream",
     "text": [
      "C:\\Users\\vikag\\AppData\\Local\\Temp/ipykernel_4688/2646928149.py:6: SettingWithCopyWarning: \n",
      "A value is trying to be set on a copy of a slice from a DataFrame.\n",
      "Try using .loc[row_indexer,col_indexer] = value instead\n",
      "\n",
      "See the caveats in the documentation: https://pandas.pydata.org/pandas-docs/stable/user_guide/indexing.html#returning-a-view-versus-a-copy\n",
      "  df_cut['text'] = df_cut['text'].apply(ermove_txt_symbols)\n"
     ]
    }
   ],
   "source": [
    "# removing text symbols\n",
    "\n",
    "def ermove_txt_symbols(text):\n",
    "    cleaned_string = re.sub(r\"[^a-zA-Z]\", ' ', text)\n",
    "    return cleaned_string\n",
    "df_cut['text'] = df_cut['text'].apply(ermove_txt_symbols)"
   ]
  },
  {
   "cell_type": "code",
   "execution_count": 41,
   "id": "beb12882",
   "metadata": {},
   "outputs": [
    {
     "name": "stderr",
     "output_type": "stream",
     "text": [
      "C:\\Users\\vikag\\AppData\\Local\\Temp/ipykernel_4688/3702858201.py:1: SettingWithCopyWarning: \n",
      "A value is trying to be set on a copy of a slice from a DataFrame.\n",
      "Try using .loc[row_indexer,col_indexer] = value instead\n",
      "\n",
      "See the caveats in the documentation: https://pandas.pydata.org/pandas-docs/stable/user_guide/indexing.html#returning-a-view-versus-a-copy\n",
      "  df_cut['text'] = df_cut['text'].str.lower()\n"
     ]
    }
   ],
   "source": [
    "df_cut['text'] = df_cut['text'].str.lower()"
   ]
  },
  {
   "cell_type": "code",
   "execution_count": 42,
   "id": "08d2a6df",
   "metadata": {},
   "outputs": [
    {
     "data": {
      "text/html": [
       "<div>\n",
       "<style scoped>\n",
       "    .dataframe tbody tr th:only-of-type {\n",
       "        vertical-align: middle;\n",
       "    }\n",
       "\n",
       "    .dataframe tbody tr th {\n",
       "        vertical-align: top;\n",
       "    }\n",
       "\n",
       "    .dataframe thead th {\n",
       "        text-align: right;\n",
       "    }\n",
       "</style>\n",
       "<table border=\"1\" class=\"dataframe\">\n",
       "  <thead>\n",
       "    <tr style=\"text-align: right;\">\n",
       "      <th></th>\n",
       "      <th>location</th>\n",
       "      <th>language</th>\n",
       "      <th>text</th>\n",
       "    </tr>\n",
       "  </thead>\n",
       "  <tbody>\n",
       "    <tr>\n",
       "      <th>4557550</th>\n",
       "      <td>Salt Lake City, UT</td>\n",
       "      <td>en</td>\n",
       "      <td>this  russia dropped bomb would flatten a buil...</td>\n",
       "    </tr>\n",
       "    <tr>\n",
       "      <th>4557551</th>\n",
       "      <td>Location Unknown</td>\n",
       "      <td>en</td>\n",
       "      <td>zelensky   there was little bandera there   p...</td>\n",
       "    </tr>\n",
       "    <tr>\n",
       "      <th>4557552</th>\n",
       "      <td>Location Unknown</td>\n",
       "      <td>en</td>\n",
       "      <td>secblinken if the horrific attacks on  ukrain...</td>\n",
       "    </tr>\n",
       "    <tr>\n",
       "      <th>4557553</th>\n",
       "      <td>Saudi Arabia</td>\n",
       "      <td>en</td>\n",
       "      <td>thousands of residents from the northeastern  ...</td>\n",
       "    </tr>\n",
       "    <tr>\n",
       "      <th>4557554</th>\n",
       "      <td>kingdombalance.carrd.co</td>\n",
       "      <td>en</td>\n",
       "      <td>in   hours  we are  streaming    indiegames fr...</td>\n",
       "    </tr>\n",
       "  </tbody>\n",
       "</table>\n",
       "</div>"
      ],
      "text/plain": [
       "                        location language  \\\n",
       "4557550       Salt Lake City, UT       en   \n",
       "4557551         Location Unknown       en   \n",
       "4557552         Location Unknown       en   \n",
       "4557553             Saudi Arabia       en   \n",
       "4557554  kingdombalance.carrd.co       en   \n",
       "\n",
       "                                                      text  \n",
       "4557550  this  russia dropped bomb would flatten a buil...  \n",
       "4557551   zelensky   there was little bandera there   p...  \n",
       "4557552   secblinken if the horrific attacks on  ukrain...  \n",
       "4557553  thousands of residents from the northeastern  ...  \n",
       "4557554  in   hours  we are  streaming    indiegames fr...  "
      ]
     },
     "execution_count": 42,
     "metadata": {},
     "output_type": "execute_result"
    }
   ],
   "source": [
    "df_cut = df_cut[df_cut[\"language\"] == \"en\"]\n",
    "df_cut.head()"
   ]
  },
  {
   "cell_type": "code",
   "execution_count": 43,
   "id": "12f2f110",
   "metadata": {},
   "outputs": [
    {
     "data": {
      "text/plain": [
       "(871445, 3)"
      ]
     },
     "execution_count": 43,
     "metadata": {},
     "output_type": "execute_result"
    }
   ],
   "source": [
    "df_cut.shape"
   ]
  },
  {
   "cell_type": "markdown",
   "id": "9daca541",
   "metadata": {},
   "source": [
    "# Lets create wordcloud"
   ]
  },
  {
   "cell_type": "code",
   "execution_count": 44,
   "id": "b02b3c2d",
   "metadata": {},
   "outputs": [],
   "source": [
    "# conda install -c conda-forge wordcloud"
   ]
  },
  {
   "cell_type": "code",
   "execution_count": 45,
   "id": "e8e07d27",
   "metadata": {},
   "outputs": [],
   "source": [
    "# pip install wordcloud"
   ]
  },
  {
   "cell_type": "code",
   "execution_count": 46,
   "id": "ed7e4021",
   "metadata": {},
   "outputs": [
    {
     "name": "stderr",
     "output_type": "stream",
     "text": [
      "[nltk_data] Downloading package stopwords to\n",
      "[nltk_data]     C:\\Users\\vikag\\AppData\\Roaming\\nltk_data...\n",
      "[nltk_data]   Package stopwords is already up-to-date!\n"
     ]
    }
   ],
   "source": [
    "from wordcloud import WordCloud, STOPWORDS, ImageColorGenerator\n",
    "from wordcloud import WordCloud\n",
    "from matplotlib.pyplot import figure\n",
    "import nltk\n",
    "nltk.download('stopwords')\n",
    "from nltk.corpus import stopwords"
   ]
  },
  {
   "cell_type": "code",
   "execution_count": 47,
   "id": "22476f04",
   "metadata": {},
   "outputs": [
    {
     "name": "stdout",
     "output_type": "stream",
     "text": [
      " quick brown jumps over lazy.\n"
     ]
    }
   ],
   "source": [
    "# TEST\n",
    "# got reference from here:\n",
    "# https://www.w3resource.com/python-exercises/re/python-re-exercise-49.php\n",
    "\n",
    "text = \"The quick brown fox jumps over the lazy dog.\"\n",
    "\n",
    "shortword = re.compile(r'\\W*\\b\\w{1,3}\\b')\n",
    "print(shortword.sub('', text))"
   ]
  },
  {
   "cell_type": "code",
   "execution_count": 48,
   "id": "3e96da86",
   "metadata": {},
   "outputs": [
    {
     "data": {
      "image/png": "[encoded data removed]",
      "text/plain": [
       "<Figure size 1800x576 with 1 Axes>"
      ]
     },
     "metadata": {
      "needs_background": "light"
     },
     "output_type": "display_data"
    }
   ],
   "source": [
    "stopwords_set = set(STOPWORDS)\n",
    "wc = re.compile(r'\\W*\\b\\w{1,3}\\b').sub('', str(df_cut.text))\n",
    "wordcloud = WordCloud(width = 2000, height = 1300,stopwords = stopwords_set, background_color='black',\n",
    "                      colormap='Pastel1').generate(str(wc))\n",
    "\n",
    "def plot_cloud(wordcloud):\n",
    "    fig = plt.figure(figsize=(25, 8))\n",
    "    plt.imshow(wordcloud)\n",
    "    plt.axis(\"off\")\n",
    "    plt.show()\n",
    "    plt.close() \n",
    "   \n",
    "\n",
    "plot_cloud(wordcloud)"
   ]
  },
  {
   "cell_type": "markdown",
   "id": "3235407f",
   "metadata": {},
   "source": [
    "# Lets get Subjectivity and Polarity"
   ]
  },
  {
   "cell_type": "code",
   "execution_count": 49,
   "id": "a38ba721",
   "metadata": {},
   "outputs": [],
   "source": [
    "from textblob import TextBlob"
   ]
  },
  {
   "cell_type": "code",
   "execution_count": 50,
   "id": "c035f98b",
   "metadata": {},
   "outputs": [],
   "source": [
    "# geting subjectivity \n",
    "\n",
    "def subjectivity (text):\n",
    "    return TextBlob(text).sentiment.subjectivity\n",
    "\n",
    "df_cut['Subjectivity'] = df_cut['text'].apply(subjectivity)"
   ]
  },
  {
   "cell_type": "code",
   "execution_count": 51,
   "id": "ec6c0b6d",
   "metadata": {},
   "outputs": [],
   "source": [
    "# geting polarity\n",
    "\n",
    "def polarity (text):\n",
    "    return TextBlob(text).sentiment.polarity\n",
    "\n",
    "df_cut['Polarity'] = df_cut['text'].apply(polarity)"
   ]
  },
  {
   "cell_type": "code",
   "execution_count": 52,
   "id": "5a15e4cf",
   "metadata": {},
   "outputs": [
    {
     "data": {
      "text/html": [
       "<div>\n",
       "<style scoped>\n",
       "    .dataframe tbody tr th:only-of-type {\n",
       "        vertical-align: middle;\n",
       "    }\n",
       "\n",
       "    .dataframe tbody tr th {\n",
       "        vertical-align: top;\n",
       "    }\n",
       "\n",
       "    .dataframe thead th {\n",
       "        text-align: right;\n",
       "    }\n",
       "</style>\n",
       "<table border=\"1\" class=\"dataframe\">\n",
       "  <thead>\n",
       "    <tr style=\"text-align: right;\">\n",
       "      <th></th>\n",
       "      <th>location</th>\n",
       "      <th>language</th>\n",
       "      <th>text</th>\n",
       "      <th>Subjectivity</th>\n",
       "      <th>Polarity</th>\n",
       "    </tr>\n",
       "  </thead>\n",
       "  <tbody>\n",
       "    <tr>\n",
       "      <th>4557550</th>\n",
       "      <td>Salt Lake City, UT</td>\n",
       "      <td>en</td>\n",
       "      <td>this  russia dropped bomb would flatten a buil...</td>\n",
       "      <td>0.000000</td>\n",
       "      <td>0.000000</td>\n",
       "    </tr>\n",
       "    <tr>\n",
       "      <th>4557551</th>\n",
       "      <td>Location Unknown</td>\n",
       "      <td>en</td>\n",
       "      <td>zelensky   there was little bandera there   p...</td>\n",
       "      <td>0.333333</td>\n",
       "      <td>0.048611</td>\n",
       "    </tr>\n",
       "    <tr>\n",
       "      <th>4557552</th>\n",
       "      <td>Location Unknown</td>\n",
       "      <td>en</td>\n",
       "      <td>secblinken if the horrific attacks on  ukrain...</td>\n",
       "      <td>1.000000</td>\n",
       "      <td>-1.000000</td>\n",
       "    </tr>\n",
       "    <tr>\n",
       "      <th>4557553</th>\n",
       "      <td>Saudi Arabia</td>\n",
       "      <td>en</td>\n",
       "      <td>thousands of residents from the northeastern  ...</td>\n",
       "      <td>0.950000</td>\n",
       "      <td>0.750000</td>\n",
       "    </tr>\n",
       "    <tr>\n",
       "      <th>4557554</th>\n",
       "      <td>kingdombalance.carrd.co</td>\n",
       "      <td>en</td>\n",
       "      <td>in   hours  we are  streaming    indiegames fr...</td>\n",
       "      <td>0.000000</td>\n",
       "      <td>0.000000</td>\n",
       "    </tr>\n",
       "  </tbody>\n",
       "</table>\n",
       "</div>"
      ],
      "text/plain": [
       "                        location language  \\\n",
       "4557550       Salt Lake City, UT       en   \n",
       "4557551         Location Unknown       en   \n",
       "4557552         Location Unknown       en   \n",
       "4557553             Saudi Arabia       en   \n",
       "4557554  kingdombalance.carrd.co       en   \n",
       "\n",
       "                                                      text  Subjectivity  \\\n",
       "4557550  this  russia dropped bomb would flatten a buil...      0.000000   \n",
       "4557551   zelensky   there was little bandera there   p...      0.333333   \n",
       "4557552   secblinken if the horrific attacks on  ukrain...      1.000000   \n",
       "4557553  thousands of residents from the northeastern  ...      0.950000   \n",
       "4557554  in   hours  we are  streaming    indiegames fr...      0.000000   \n",
       "\n",
       "         Polarity  \n",
       "4557550  0.000000  \n",
       "4557551  0.048611  \n",
       "4557552 -1.000000  \n",
       "4557553  0.750000  \n",
       "4557554  0.000000  "
      ]
     },
     "execution_count": 52,
     "metadata": {},
     "output_type": "execute_result"
    }
   ],
   "source": [
    "df_cut.head()"
   ]
  },
  {
   "cell_type": "code",
   "execution_count": 103,
   "id": "7ea0f5bc",
   "metadata": {},
   "outputs": [],
   "source": [
    "# Computing negative, neutral and positive analysis\n",
    "\n",
    "def analysis (result):\n",
    "    if result <= 0:\n",
    "        return 'Negative'\n",
    "    elif result > 0:\n",
    "        return 'Positive'\n",
    "   \n",
    "        \n",
    "df_cut['Sentiment Analysis'] = df_cut['Polarity'].apply(analysis)"
   ]
  },
  {
   "cell_type": "code",
   "execution_count": 104,
   "id": "da516a59",
   "metadata": {},
   "outputs": [
    {
     "data": {
      "text/html": [
       "<div>\n",
       "<style scoped>\n",
       "    .dataframe tbody tr th:only-of-type {\n",
       "        vertical-align: middle;\n",
       "    }\n",
       "\n",
       "    .dataframe tbody tr th {\n",
       "        vertical-align: top;\n",
       "    }\n",
       "\n",
       "    .dataframe thead th {\n",
       "        text-align: right;\n",
       "    }\n",
       "</style>\n",
       "<table border=\"1\" class=\"dataframe\">\n",
       "  <thead>\n",
       "    <tr style=\"text-align: right;\">\n",
       "      <th></th>\n",
       "      <th>location</th>\n",
       "      <th>language</th>\n",
       "      <th>text</th>\n",
       "      <th>Subjectivity</th>\n",
       "      <th>Polarity</th>\n",
       "      <th>Sentiment Analysis</th>\n",
       "    </tr>\n",
       "  </thead>\n",
       "  <tbody>\n",
       "    <tr>\n",
       "      <th>4557550</th>\n",
       "      <td>Salt Lake City, UT</td>\n",
       "      <td>en</td>\n",
       "      <td>this  russia dropped bomb would flatten a buil...</td>\n",
       "      <td>0.000000</td>\n",
       "      <td>0.000000</td>\n",
       "      <td>Negative</td>\n",
       "    </tr>\n",
       "    <tr>\n",
       "      <th>4557551</th>\n",
       "      <td>Location Unknown</td>\n",
       "      <td>en</td>\n",
       "      <td>zelensky   there was little bandera there   p...</td>\n",
       "      <td>0.333333</td>\n",
       "      <td>0.048611</td>\n",
       "      <td>Positive</td>\n",
       "    </tr>\n",
       "    <tr>\n",
       "      <th>4557552</th>\n",
       "      <td>Location Unknown</td>\n",
       "      <td>en</td>\n",
       "      <td>secblinken if the horrific attacks on  ukrain...</td>\n",
       "      <td>1.000000</td>\n",
       "      <td>-1.000000</td>\n",
       "      <td>Negative</td>\n",
       "    </tr>\n",
       "    <tr>\n",
       "      <th>4557553</th>\n",
       "      <td>Saudi Arabia</td>\n",
       "      <td>en</td>\n",
       "      <td>thousands of residents from the northeastern  ...</td>\n",
       "      <td>0.950000</td>\n",
       "      <td>0.750000</td>\n",
       "      <td>Positive</td>\n",
       "    </tr>\n",
       "    <tr>\n",
       "      <th>4557554</th>\n",
       "      <td>kingdombalance.carrd.co</td>\n",
       "      <td>en</td>\n",
       "      <td>in   hours  we are  streaming    indiegames fr...</td>\n",
       "      <td>0.000000</td>\n",
       "      <td>0.000000</td>\n",
       "      <td>Negative</td>\n",
       "    </tr>\n",
       "  </tbody>\n",
       "</table>\n",
       "</div>"
      ],
      "text/plain": [
       "                        location language  \\\n",
       "4557550       Salt Lake City, UT       en   \n",
       "4557551         Location Unknown       en   \n",
       "4557552         Location Unknown       en   \n",
       "4557553             Saudi Arabia       en   \n",
       "4557554  kingdombalance.carrd.co       en   \n",
       "\n",
       "                                                      text  Subjectivity  \\\n",
       "4557550  this  russia dropped bomb would flatten a buil...      0.000000   \n",
       "4557551   zelensky   there was little bandera there   p...      0.333333   \n",
       "4557552   secblinken if the horrific attacks on  ukrain...      1.000000   \n",
       "4557553  thousands of residents from the northeastern  ...      0.950000   \n",
       "4557554  in   hours  we are  streaming    indiegames fr...      0.000000   \n",
       "\n",
       "         Polarity Sentiment Analysis  \n",
       "4557550  0.000000           Negative  \n",
       "4557551  0.048611           Positive  \n",
       "4557552 -1.000000           Negative  \n",
       "4557553  0.750000           Positive  \n",
       "4557554  0.000000           Negative  "
      ]
     },
     "execution_count": 104,
     "metadata": {},
     "output_type": "execute_result"
    }
   ],
   "source": [
    "df_cut.head()"
   ]
  },
  {
   "cell_type": "code",
   "execution_count": 105,
   "id": "a5add36d",
   "metadata": {},
   "outputs": [],
   "source": [
    "df_sentiment = pd.DataFrame(df_cut)"
   ]
  },
  {
   "cell_type": "code",
   "execution_count": 106,
   "id": "416e9995",
   "metadata": {},
   "outputs": [
    {
     "data": {
      "text/html": [
       "<div>\n",
       "<style scoped>\n",
       "    .dataframe tbody tr th:only-of-type {\n",
       "        vertical-align: middle;\n",
       "    }\n",
       "\n",
       "    .dataframe tbody tr th {\n",
       "        vertical-align: top;\n",
       "    }\n",
       "\n",
       "    .dataframe thead th {\n",
       "        text-align: right;\n",
       "    }\n",
       "</style>\n",
       "<table border=\"1\" class=\"dataframe\">\n",
       "  <thead>\n",
       "    <tr style=\"text-align: right;\">\n",
       "      <th></th>\n",
       "      <th>location</th>\n",
       "      <th>language</th>\n",
       "      <th>text</th>\n",
       "      <th>Subjectivity</th>\n",
       "      <th>Polarity</th>\n",
       "      <th>Sentiment Analysis</th>\n",
       "    </tr>\n",
       "  </thead>\n",
       "  <tbody>\n",
       "    <tr>\n",
       "      <th>344507</th>\n",
       "      <td>North Logan, UT</td>\n",
       "      <td>en</td>\n",
       "      <td>amb  william taylor  former u s  ambassador to...</td>\n",
       "      <td>0.000000</td>\n",
       "      <td>0.000000</td>\n",
       "      <td>Negative</td>\n",
       "    </tr>\n",
       "    <tr>\n",
       "      <th>344509</th>\n",
       "      <td>Location Unknown</td>\n",
       "      <td>en</td>\n",
       "      <td>lapatina   berehulak this just hurts my heart...</td>\n",
       "      <td>0.733333</td>\n",
       "      <td>0.433333</td>\n",
       "      <td>Positive</td>\n",
       "    </tr>\n",
       "    <tr>\n",
       "      <th>344510</th>\n",
       "      <td>Location Unknown</td>\n",
       "      <td>en</td>\n",
       "      <td>abiy ahmed  eritrean dictator isaias afewerki...</td>\n",
       "      <td>0.100000</td>\n",
       "      <td>0.000000</td>\n",
       "      <td>Negative</td>\n",
       "    </tr>\n",
       "    <tr>\n",
       "      <th>344511</th>\n",
       "      <td>The America's</td>\n",
       "      <td>en</td>\n",
       "      <td>mariupol however  even at  ilyich   ukraine i...</td>\n",
       "      <td>0.163675</td>\n",
       "      <td>-0.127778</td>\n",
       "      <td>Negative</td>\n",
       "    </tr>\n",
       "    <tr>\n",
       "      <th>344514</th>\n",
       "      <td>Location Unknown</td>\n",
       "      <td>en</td>\n",
       "      <td>cocktail bar punks          nft poker faces mi...</td>\n",
       "      <td>0.000000</td>\n",
       "      <td>0.000000</td>\n",
       "      <td>Negative</td>\n",
       "    </tr>\n",
       "  </tbody>\n",
       "</table>\n",
       "</div>"
      ],
      "text/plain": [
       "                location language  \\\n",
       "344507   North Logan, UT       en   \n",
       "344509  Location Unknown       en   \n",
       "344510  Location Unknown       en   \n",
       "344511     The America's       en   \n",
       "344514  Location Unknown       en   \n",
       "\n",
       "                                                     text  Subjectivity  \\\n",
       "344507  amb  william taylor  former u s  ambassador to...      0.000000   \n",
       "344509   lapatina   berehulak this just hurts my heart...      0.733333   \n",
       "344510   abiy ahmed  eritrean dictator isaias afewerki...      0.100000   \n",
       "344511   mariupol however  even at  ilyich   ukraine i...      0.163675   \n",
       "344514  cocktail bar punks          nft poker faces mi...      0.000000   \n",
       "\n",
       "        Polarity Sentiment Analysis  \n",
       "344507  0.000000           Negative  \n",
       "344509  0.433333           Positive  \n",
       "344510  0.000000           Negative  \n",
       "344511 -0.127778           Negative  \n",
       "344514  0.000000           Negative  "
      ]
     },
     "execution_count": 106,
     "metadata": {},
     "output_type": "execute_result"
    }
   ],
   "source": [
    "df_sentiment.tail()"
   ]
  },
  {
   "cell_type": "code",
   "execution_count": 107,
   "id": "cb126751",
   "metadata": {},
   "outputs": [
    {
     "data": {
      "text/plain": [
       "(871445, 6)"
      ]
     },
     "execution_count": 107,
     "metadata": {},
     "output_type": "execute_result"
    }
   ],
   "source": [
    "df_sentiment.shape"
   ]
  },
  {
   "cell_type": "code",
   "execution_count": 108,
   "id": "2d8fa8fc",
   "metadata": {},
   "outputs": [
    {
     "data": {
      "text/plain": [
       "<AxesSubplot:xlabel='Sentiment', ylabel='Count'>"
      ]
     },
     "execution_count": 108,
     "metadata": {},
     "output_type": "execute_result"
    },
    {
     "data": {
      "image/png": "[encoded data removed]",
      "text/plain": [
       "<Figure size 864x432 with 1 Axes>"
      ]
     },
     "metadata": {
      "needs_background": "light"
     },
     "output_type": "display_data"
    }
   ],
   "source": [
    "import matplotlib\n",
    "c = ['red', 'green']\n",
    "plt.suptitle('Sentiment Plot', fontsize=22)\n",
    "plt.xlabel('xlabel', fontsize=22)\n",
    "plt.ylabel('ylabel', fontsize=22)\n",
    "df_sentiment['Sentiment Analysis'].value_counts().plot(kind='bar',color=c,figsize=(12, 6),xlabel='Sentiment',ylabel='Count')"
   ]
  }
 ],
 "metadata": {
  "kernelspec": {
   "display_name": "Python 3 (ipykernel)",
   "language": "python",
   "name": "python3"
  },
  "language_info": {
   "codemirror_mode": {
    "name": "ipython",
    "version": 3
   },
   "file_extension": ".py",
   "mimetype": "text/x-python",
   "name": "python",
   "nbconvert_exporter": "python",
   "pygments_lexer": "ipython3",
   "version": "3.9.7"
  }
 },
 "nbformat": 4,
 "nbformat_minor": 5
}
